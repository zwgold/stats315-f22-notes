{
  "cells": [
    {
      "cell_type": "markdown",
      "metadata": {
        "id": "kPSgir3gzL4H"
      },
      "source": [
        "**Notebook credit**: based on the original [here](https://github.com/fchollet/deep-learning-with-python-notebooks/blob/master/chapter10_dl-for-timeseries.ipynb)"
      ]
    },
    {
      "cell_type": "markdown",
      "metadata": {
        "id": "2rMG_WqCzL4I"
      },
      "source": [
        "# Deep learning for timeseries\n",
        "\n",
        "- **timeseries**: any data obtained via measurements at regular intervals, like the daily price of a stock, the hourly electricity consumption of a city, or the weekly sales of a store\n",
        "- Timeseries are everywhere\n",
        "  - natural phenomena like seismic activity, the evolution of fish populations in a river, or the weather at a location\n",
        "  - human activity patterns like visitors to a website, a country’s GDP, or credit card transactions\n",
        "- Working with timeseries involves understanding the **dynamics** of a system\n",
        "  - its periodic cycles\n",
        "  - how it trends over time\n",
        "  - its regular regime\n",
        "  - its sudden spikes."
      ]
    },
    {
      "cell_type": "markdown",
      "metadata": {
        "id": "kmGVfrCtzL4I"
      },
      "source": [
        "## Different kinds of timeseries tasks\n",
        "\n",
        "- **Forecasting**: predicting what will happen next in a series\n",
        "  - Forecast electricity consumption a few hours in advance so you can anticipate demand\n",
        "  - forecast revenue a few months in advance so you can plan your budget\n",
        "  - forecast the weather a few days in advance so you can plan your schedule\n",
        "- **Classification**: Assign one or more categorical labels to a timeseries\n",
        "  - given the timeseries of the activity of a visitor on a website, classify whether the visitor is a bot or a human.\n",
        "- **Event detection**: Identify the occurrence of a specific expected event within a continuous data stream.\n",
        "  - A particularly useful application is “hotword detection,” where a model monitors an audio stream and detects utterances like \"Ok Google\" or \"Hey Siri\" or \"Alexa\"\n",
        "- **Anomaly detection**: Detect anything unusual happening within a continuous datastream.\n",
        "  - Unusual activity on your corporate network? Might be an attacker.\n",
        "  - Unusual readings on a manufacturing line? Time for a human to go take a look.\n",
        "  - Anomaly detection is typically done via unsupervised learning, because you often don’t know what kind of anomaly you’re looking for, so you can’t train on specific anomaly examples.\n",
        "\n",
        "We will focus on forecasting in this notebook. We'll learn about **recurrent neural networks (RNNs)** and how to apply them to **timeseries forecasting**.\n"
      ]
    },
    {
      "cell_type": "markdown",
      "metadata": {
        "id": "bRHBmnsdzL4I"
      },
      "source": [
        "# A temperature-forecasting example\n",
        "\n",
        "- We will target a single problem: predicting the temperature 24 hours in the future\n",
        "- given a timeseries of hourly measurements of quantities such as atmospheric pressure and humidity, recorded by a set of sensors on the roof of a building\n",
        "- it’s a fairly challenging problem!\n",
        "- We’ll use this temperature-forecasting task to highlight what makes timeseries data fundamentally different from the kinds of datasets you’ve encountered so far\n",
        "- densely connected networks and convolutional networks aren’t well-equipped to deal with this kind of dataset\n",
        "- a different kind of machine learning technique—recurrent neural networks (RNNs)—really shines on this type of problem\n"
      ]
    },
    {
      "cell_type": "markdown",
      "metadata": {
        "id": "C1YKGk9yBVex"
      },
      "source": [
        "## The Jena Dataset\n",
        "\n",
        "- weather timeseries dataset recorded at the weather station at the Max Planck Institute for Biogeochemistry in Jena, Germany\n",
        "- 14 different quantities (such as temperature, pressure, humidity, wind direction, and so on) were recorded every 10 minutes over several years\n",
        "- The original data goes back to 2003\n",
        "- but the subset of the data we’ll download is limited to 2009–2016.\n",
        "\n",
        "Let’s start by downloading and uncompressing the data:"
      ]
    },
    {
      "cell_type": "code",
      "execution_count": 1,
      "metadata": {
        "colab": {
          "base_uri": "https://localhost:8080/"
        },
        "id": "Mh9_PAS4zL4I",
        "outputId": "1b87a7b5-4cfd-49d5-fc83-ed87fe3c801d"
      },
      "outputs": [
        {
          "output_type": "stream",
          "name": "stdout",
          "text": [
            "--2022-11-29 15:43:16--  https://s3.amazonaws.com/keras-datasets/jena_climate_2009_2016.csv.zip\n",
            "Resolving s3.amazonaws.com (s3.amazonaws.com)... 52.217.194.224, 52.217.166.48, 54.231.236.0, ...\n",
            "Connecting to s3.amazonaws.com (s3.amazonaws.com)|52.217.194.224|:443... connected.\n",
            "HTTP request sent, awaiting response... 200 OK\n",
            "Length: 13565642 (13M) [application/zip]\n",
            "Saving to: ‘jena_climate_2009_2016.csv.zip.1’\n",
            "\n",
            "jena_climate_2009_2 100%[===================>]  12.94M  14.0MB/s    in 0.9s    \n",
            "\n",
            "2022-11-29 15:43:17 (14.0 MB/s) - ‘jena_climate_2009_2016.csv.zip.1’ saved [13565642/13565642]\n",
            "\n",
            "Archive:  jena_climate_2009_2016.csv.zip\n",
            "replace jena_climate_2009_2016.csv? [y]es, [n]o, [A]ll, [N]one, [r]ename: y\n",
            "  inflating: jena_climate_2009_2016.csv  \n",
            "replace __MACOSX/._jena_climate_2009_2016.csv? [y]es, [n]o, [A]ll, [N]one, [r]ename: y\n",
            "  inflating: __MACOSX/._jena_climate_2009_2016.csv  \n"
          ]
        }
      ],
      "source": [
        "!wget https://s3.amazonaws.com/keras-datasets/jena_climate_2009_2016.csv.zip\n",
        "!unzip jena_climate_2009_2016.csv.zip"
      ]
    },
    {
      "cell_type": "markdown",
      "metadata": {
        "id": "oFFcmq-fzL4J"
      },
      "source": [
        "**Inspecting the data of the Jena weather dataset**"
      ]
    },
    {
      "cell_type": "code",
      "execution_count": 31,
      "metadata": {
        "id": "N_XgKIt5zL4J"
      },
      "outputs": [],
      "source": [
        "import os\n",
        "fname = os.path.join(\"jena_climate_2009_2016.csv\")"
      ]
    },
    {
      "cell_type": "code",
      "source": [
        "with open(fname) as f:\n",
        "  data = f.read()"
      ],
      "metadata": {
        "id": "MLyACVgvEiaj"
      },
      "execution_count": 32,
      "outputs": []
    },
    {
      "cell_type": "code",
      "source": [
        "lines = data.split(\"\\n\")\n",
        "header = lines[0].split(\",\")\n",
        "lines = lines[1:]\n",
        "# print(header, len(lines))"
      ],
      "metadata": {
        "id": "b3kIembVEp6e"
      },
      "execution_count": 33,
      "outputs": []
    },
    {
      "cell_type": "markdown",
      "metadata": {
        "id": "gGfY_zOYzL4K"
      },
      "source": [
        "**Parsing the data**\n",
        "\n",
        "- let us convert all 420,451 lines of data into NumPy arrays\n",
        "- one array for the year (extracted from Date Time)\n",
        "- one array for the temperature (in degrees Celsius)\n",
        "- one 2-d array for the rest of the data—the features we will use to predict future temperatures"
      ]
    },
    {
      "cell_type": "code",
      "execution_count": 34,
      "metadata": {
        "id": "5sgV5JYdzL4K"
      },
      "outputs": [],
      "source": [
        "import numpy as np \n",
        "temperature = np.zeros((len(lines), ))\n",
        "year = np.zeros((len(lines), ))\n",
        "\n",
        "raw_data = np.zeros((len(lines), len(header) - 1))"
      ]
    },
    {
      "cell_type": "code",
      "source": [
        "for i, line in enumerate(lines):\n",
        "  year[i] = int(line.split(\",\")[0].split(\".\")[2].split(\" \")[0])\n",
        "  values = [float(x) for x in line.split(\",\")[1:]]\n",
        "  temperature[i] = values[1]\n",
        "  raw_data[i, :] = values[:]"
      ],
      "metadata": {
        "id": "bR4QD5CvF0CM"
      },
      "execution_count": 35,
      "outputs": []
    },
    {
      "cell_type": "markdown",
      "metadata": {
        "id": "sAagkBjwzL4K"
      },
      "source": [
        "**Plotting the temperature timeseries**\n",
        "\n",
        "- in the plot below, you can clearly see the yearly periodicity of temperature\n",
        "- the data spans 8 years"
      ]
    },
    {
      "cell_type": "code",
      "execution_count": 36,
      "metadata": {
        "id": "YQgpXwMOzL4K",
        "colab": {
          "base_uri": "https://localhost:8080/"
        },
        "outputId": "c6007f32-b55c-4c52-ee53-a1493eff42cf"
      },
      "outputs": [
        {
          "output_type": "execute_result",
          "data": {
            "text/plain": [
              "(420451, 14)"
            ]
          },
          "metadata": {},
          "execution_count": 36
        }
      ],
      "source": [
        "raw_data.shape"
      ]
    },
    {
      "cell_type": "code",
      "source": [
        "year.shape"
      ],
      "metadata": {
        "id": "7BwlsOJuIkN2",
        "colab": {
          "base_uri": "https://localhost:8080/"
        },
        "outputId": "b9e36a0c-a23c-4bad-fb4f-2b580230e37f"
      },
      "execution_count": 37,
      "outputs": [
        {
          "output_type": "execute_result",
          "data": {
            "text/plain": [
              "(420451,)"
            ]
          },
          "metadata": {},
          "execution_count": 37
        }
      ]
    },
    {
      "cell_type": "code",
      "source": [
        "temperature.shape"
      ],
      "metadata": {
        "id": "oLXmLARCInmV",
        "colab": {
          "base_uri": "https://localhost:8080/"
        },
        "outputId": "8179b63c-8f2d-44ed-d585-c5f68a17886f"
      },
      "execution_count": 38,
      "outputs": [
        {
          "output_type": "execute_result",
          "data": {
            "text/plain": [
              "(420451,)"
            ]
          },
          "metadata": {},
          "execution_count": 38
        }
      ]
    },
    {
      "cell_type": "markdown",
      "metadata": {
        "id": "8imbzyHwzL4L"
      },
      "source": [
        "**Plotting the first 10 days of the temperature timeseries**\n",
        "\n",
        "- Plot below shows a more narrow plot of the first 10 days of temperature data\n",
        "- Because the data is recorded every 10 minutes, you get 24 × 6 = 144 data points per day"
      ]
    },
    {
      "cell_type": "code",
      "source": [
        "import matplotlib.pyplot as plt\n",
        "\n",
        "plt.plot(range(len(temperature)), temperature)"
      ],
      "metadata": {
        "id": "bGOeboq6Im65",
        "colab": {
          "base_uri": "https://localhost:8080/",
          "height": 286
        },
        "outputId": "adde9cc7-6a5f-4868-adf1-dee852f49548"
      },
      "execution_count": 39,
      "outputs": [
        {
          "output_type": "execute_result",
          "data": {
            "text/plain": [
              "[<matplotlib.lines.Line2D at 0x7faa5d5d8d50>]"
            ]
          },
          "metadata": {},
          "execution_count": 39
        },
        {
          "output_type": "display_data",
          "data": {
            "text/plain": [
              "<Figure size 432x288 with 1 Axes>"
            ],
            "image/png": "[encoded data removed]"
          },
          "metadata": {
            "needs_background": "light"
          }
        }
      ]
    },
    {
      "cell_type": "markdown",
      "metadata": {
        "id": "9gFRPlwJDjnV"
      },
      "source": [
        "## Restricting to 2009 data\n",
        "\n",
        "Let us restrict ourselves to data from 2009 only for our models to train faster on free colab resources"
      ]
    },
    {
      "cell_type": "code",
      "execution_count": 40,
      "metadata": {
        "id": "xcF0Ow5qzL4L"
      },
      "outputs": [],
      "source": [
        "condition = (year == 2009)\n",
        "raw_data = raw_data[condition]\n",
        "temperature = temperature[condition]"
      ]
    },
    {
      "cell_type": "code",
      "execution_count": 41,
      "metadata": {
        "id": "A9kOUaWC7zrb",
        "colab": {
          "base_uri": "https://localhost:8080/",
          "height": 283
        },
        "outputId": "46bf38ab-17ff-42e5-fed8-f7d120fdbc5a"
      },
      "outputs": [
        {
          "output_type": "execute_result",
          "data": {
            "text/plain": [
              "[<matplotlib.lines.Line2D at 0x7faa61ca1510>]"
            ]
          },
          "metadata": {},
          "execution_count": 41
        },
        {
          "output_type": "display_data",
          "data": {
            "text/plain": [
              "<Figure size 432x288 with 1 Axes>"
            ],
            "image/png": "[encoded data removed]"
          },
          "metadata": {
            "needs_background": "light"
          }
        }
      ],
      "source": [
        "plt.plot(range(len(temperature)), temperature)"
      ]
    },
    {
      "cell_type": "code",
      "execution_count": 42,
      "metadata": {
        "id": "0lOajRP08-Er",
        "colab": {
          "base_uri": "https://localhost:8080/"
        },
        "outputId": "0753b77b-dc1a-424b-8648-9d259cef8347"
      },
      "outputs": [
        {
          "output_type": "stream",
          "name": "stdout",
          "text": [
            "26278 13139 13139\n"
          ]
        }
      ],
      "source": [
        "num_train_samples = int(0.5 * len(raw_data))\n",
        "num_val_samples = int(0.25 * len(raw_data))\n",
        "num_test_samples = int(0.25 * len(raw_data))\n",
        "print(num_train_samples, num_test_samples, num_val_samples)"
      ]
    },
    {
      "cell_type": "code",
      "source": [],
      "metadata": {
        "id": "mjkL9etgLgrG"
      },
      "execution_count": 42,
      "outputs": []
    },
    {
      "cell_type": "markdown",
      "metadata": {
        "id": "SSy_TRIZzL4L"
      },
      "source": [
        "**Computing the number of samples we'll use for each data split**\n",
        "\n",
        "- we’ll use the first 50% of the data for training\n",
        "- the following 25% for validation\n",
        "- the last 25% for testing\n",
        "- When working with timeseries data, it’s important to use validation and test data that is more recent than the training data\n",
        "- because you’re trying to predict the future given the past, not the reverse\n",
        "- your validation/test splits should reflect that"
      ]
    },
    {
      "cell_type": "code",
      "execution_count": 43,
      "metadata": {
        "id": "8umB7UpmzL4L"
      },
      "outputs": [],
      "source": [
        "mean = raw_data[:num_train_samples].mean(axis = 0)\n",
        "raw_data -= mean\n",
        "std = raw_data[:num_train_samples].std(axis = 0)\n",
        "raw_data /= std"
      ]
    },
    {
      "cell_type": "markdown",
      "metadata": {
        "id": "0ZESBagezL4L"
      },
      "source": [
        "### Preparing the data\n",
        "\n",
        "The exact formulation of the problem will be as follows:\n",
        "\n",
        "**Given data covering the previous five days and sampled once per hour, can we predict the temperature 24 hours in advance?**\n",
        "\n",
        "- each timeseries in the data is on a different scale (for example, atmospheric pressure, measured in mbar, is around 1,000, while H2OC, measured in millimoles per mole, is around 3)\n",
        "- We’ll normalize each timeseries independently so that they all take small values on a similar scale\n",
        "- We’re going to use the first 26,278 timesteps as training data, so we’ll compute the mean and standard deviation only on this fraction of the data."
      ]
    },
    {
      "cell_type": "markdown",
      "metadata": {
        "id": "1DhKoAICzL4L"
      },
      "source": [
        "**Normalizing the data**"
      ]
    },
    {
      "cell_type": "code",
      "execution_count": 43,
      "metadata": {
        "id": "a2vqHqSAzL4M"
      },
      "outputs": [],
      "source": []
    },
    {
      "cell_type": "markdown",
      "metadata": {
        "id": "M4oLaT0XF_Bh"
      },
      "source": [
        "- let’s create a `Dataset` object that yields batches of data from the past five days along with a target temperature 24 hours in the future\n",
        "- Because the samples in the dataset are highly redundant (sample $N$ and sample $N + 1$ will have most of their time-steps in common), it would be wasteful to explicitly allocate memory for every sample.\n",
        "- Instead, we’ll generate the samples on the fly while only keeping in memory the original `raw_data` and `temperature` arrays, and nothing more.\n",
        "- We could easily write a Python generator to do this, but there’s a built-in dataset utility in Keras that does just that\n",
        "- we can save ourselves some work by using `timeseries_dataset_from_array()`\n",
        "- You can generally use it for any kind of timeseries forecasting task."
      ]
    },
    {
      "cell_type": "markdown",
      "metadata": {
        "id": "4LgQjGEPH4HF"
      },
      "source": [
        "## Understanding `timeseries_dataset_from_array()`\n",
        "\n",
        "- The general idea is that you provide an array of timeseries data (the `data` argument), and `timeseries_dataset_from_array()` gives you windows extracted from the original timeseries (we’ll call them “sequences”)\n",
        "- For example, if you use `data = [0 1 2 3 4 5 6]` and `sequence_length=3`, then timeseries_dataset_from_array() will generate the following samples: `[0 1 2], [1 2 3], [2 3 4], [3 4 5], [4 5 6]`.\n",
        "- You can also pass a `targets` argument (an array) to `timeseries_dataset_ from_array()`\n",
        "  - The first entry of the targets array should match the desired target for the first sequence that will be generated from the data array.\n",
        "  - So if you’re doing timeseries forecasting, targets should be the same array as data, offset by some amount.\n",
        "- For instance, with `data=[0 1 2 3 4 5 6 ...]` and `sequence_length=3`, you could create a dataset to predict the next step in the series by passing `targets=[3 4 5 6 ...]`\n",
        "\n",
        "Let’s try it:"
      ]
    },
    {
      "cell_type": "code",
      "execution_count": 44,
      "metadata": {
        "id": "Us6WiP1GzL4M"
      },
      "outputs": [],
      "source": [
        "import numpy as np \n",
        "from tensorflow import keras\n",
        "int_sequence = np.arange(10)\n",
        "\n",
        "dummy_dataset = keras.utils.timeseries_dataset_from_array(\n",
        "    data = int_sequence[:-3],\n",
        "    targets = int_sequence[:3], \n",
        "    sequence_length = 3, \n",
        "    batch_size = 2\n",
        ")"
      ]
    },
    {
      "cell_type": "code",
      "source": [
        "for inputs, targets in dummy_dataset:\n",
        "  for i in range(inputs.shape[0]):\n",
        "    print([int(x) for x in inputs[i]], int(targets[i]))"
      ],
      "metadata": {
        "id": "V1UakX76NRLW",
        "colab": {
          "base_uri": "https://localhost:8080/"
        },
        "outputId": "f914c831-228e-456f-c105-62f0eb2f12a8"
      },
      "execution_count": 45,
      "outputs": [
        {
          "output_type": "stream",
          "name": "stdout",
          "text": [
            "[0, 1, 2] 0\n",
            "[1, 2, 3] 1\n",
            "[2, 3, 4] 2\n"
          ]
        }
      ]
    },
    {
      "cell_type": "markdown",
      "metadata": {
        "id": "RSggE6PkzL4M"
      },
      "source": [
        "**Instantiating datasets for training, validation, and testing**\n",
        "\n",
        "- We’ll use `timeseries_dataset_from_array()` to instantiate three datasets:\n",
        "  - one for training, one for validation, and one for testing.\n",
        "- We’ll use the following parameter values:\n",
        "  - `sampling_rate = 6`: Observations will be sampled at one data point per hour: we will only keep one data point out of 6.\n",
        " - `sequence_length = 120`: Observations will go back 5 days (120 hours)\n",
        " - `delay = sampling_rate * (sequence_length + 24 - 1)`: The target for a sequence will be the temperature 24 hours after the end of the sequence.\n",
        "- When making the training dataset, we’ll pass `start_index = 0` and `end_index = num_train_samples` to only use the first 50% of the data.\n",
        "- For the validation dataset, we’ll pass `start_index = num_train_samples` and `end_index = num_train_samples + num_val_samples` to use the next 25% of the data.\n",
        "- Finally, for the test dataset, we’ll pass `start_index=num_train_samples+num_val_samples` to use the remaining samples."
      ]
    },
    {
      "cell_type": "code",
      "execution_count": 46,
      "metadata": {
        "id": "c1eijnuXzL4M"
      },
      "outputs": [],
      "source": [
        "sampling_rate = 6\n",
        "sequence_length = 120 \n",
        "delay = sampling_rate * (sequence_length + 24 - 1)\n",
        "batch_size = 256"
      ]
    },
    {
      "cell_type": "code",
      "source": [
        "train_dataset = keras.utils.timeseries_dataset_from_array(\n",
        "    raw_data[:-delay], \n",
        "    targets = temperature[delay:],\n",
        "    sampling_rate = sampling_rate, \n",
        "    sequence_length = sequence_length, \n",
        "    shuffle = True, \n",
        "    start_index = 0, \n",
        "    end_index = num_train_samples\n",
        ")"
      ],
      "metadata": {
        "id": "j5pJ_t2OOlsY"
      },
      "execution_count": 47,
      "outputs": []
    },
    {
      "cell_type": "code",
      "source": [
        "val_dataset = keras.utils.timeseries_dataset_from_array(\n",
        "    raw_data[:-delay],\n",
        "    targets=temperature[delay:],\n",
        "    sampling_rate=sampling_rate,\n",
        "    sequence_length=sequence_length,\n",
        "    shuffle=True, # randomly shuffle the output samples instead of drawing them in chronological order\n",
        "    batch_size=batch_size,\n",
        "    start_index=num_train_samples,\n",
        "    end_index=num_train_samples + num_val_samples\n",
        ")"
      ],
      "metadata": {
        "id": "agPoV-zGPelW"
      },
      "execution_count": 48,
      "outputs": []
    },
    {
      "cell_type": "code",
      "source": [
        "test_dataset = keras.utils.timeseries_dataset_from_array(\n",
        "    raw_data[:-delay],\n",
        "    targets=temperature[delay:],\n",
        "    sampling_rate=sampling_rate,\n",
        "    sequence_length=sequence_length,\n",
        "    shuffle=True, # randomly shuffle the output samples instead of drawing them in chronological order\n",
        "    batch_size=batch_size,\n",
        "    start_index=num_train_samples + num_val_samples\n",
        ")"
      ],
      "metadata": {
        "id": "SjPIyNFTPvEU"
      },
      "execution_count": 49,
      "outputs": []
    },
    {
      "cell_type": "markdown",
      "metadata": {
        "id": "T4o-8lT4zL4N"
      },
      "source": [
        "**Inspecting the output of one of our datasets**\n",
        "\n",
        "- Each dataset yields a tuple `(samples, targets)`, where\n",
        "  - `samples` is a batch of 256 samples, each containing 120 consecutive hours of input data\n",
        "  - `targets` is the corre-sponding array of 256 target temperatures\n",
        "  \n",
        "Note that because we used `shuffle=True`, the samples are randomly shuffled, so two consecutive sequences in a batch (like `samples[0]` and `samples[1]`) aren’t necessarily temporally close."
      ]
    },
    {
      "cell_type": "code",
      "execution_count": 50,
      "metadata": {
        "id": "2vMMjOE0zL4N",
        "colab": {
          "base_uri": "https://localhost:8080/"
        },
        "outputId": "afc0f137-6a23-4c31-ff97-24b8e22667be"
      },
      "outputs": [
        {
          "output_type": "stream",
          "name": "stdout",
          "text": [
            "samples shape (128, 120, 14)\n",
            "targets shape (128,)\n"
          ]
        }
      ],
      "source": [
        "for samples, targets in train_dataset:\n",
        "  print(\"samples shape\", samples.shape)\n",
        "  print(\"targets shape\", targets.shape)\n",
        "  break"
      ]
    },
    {
      "cell_type": "markdown",
      "metadata": {
        "id": "tqjY8hFYzL4N"
      },
      "source": [
        "## A common-sense, non-machine-learning baseline"
      ]
    },
    {
      "cell_type": "markdown",
      "metadata": {
        "id": "hM2EADEczL4N"
      },
      "source": [
        "**Computing the common-sense baseline MAE**\n",
        "\n",
        "\n",
        "- Before we start using deep learning, let’s try a simple, common-sense approach.\n",
        "- Such common-sense base- lines can be useful when you’re approaching a new problem for which there is no known solution (yet).\n",
        "- A classic example is that of unbalanced classification tasks, where some classes are much more common than others.\n",
        "- If your dataset contains 90% instances of class A and 10% instances of class B, then a common-sense approach to the classification task is to always predict “A” when presented with a new sample.\n",
        "- Such a classifier is 90% accurate overall, and any learning-based approach should therefore beat this 90% score in order to demonstrate usefulness\n",
        "- **Sometimes, such elementary baselines can prove surprisingly hard to beat.**\n",
        "- In this case, a common-sense approach is to always predict that the temperature 24 hours from now will be equal to the temperature right now. Let’s evaluate this approach, using the mean absolute error (MAE) metric, defined as follows:\n",
        "```\n",
        "np.mean(np.abs(preds - targets))\n",
        "```\n",
        "Here’s the evaluation loop."
      ]
    },
    {
      "cell_type": "code",
      "execution_count": 51,
      "metadata": {
        "id": "FgysIgVmzL4N"
      },
      "outputs": [],
      "source": [
        "def evaluate_naive_method(dataset):\n",
        "  total_abs_err = 0 \n",
        "  samples_seen = 0 \n",
        "  for samples, targets in dataset:\n",
        "    preds = samples[:, -1, 1] * std[1] + mean[1]\n",
        "    total_abs_err  += np.sum(np.abs(preds - targets))\n",
        "    samples_seen += samples.shape[0]\n",
        "  return total_abs_err / samples_seen"
      ]
    },
    {
      "cell_type": "code",
      "source": [
        "print(f\"Validate MAE: {evaluate_naive_method(val_dataset):.2f}\")\n",
        "print(f\"Validate MAE: {evaluate_naive_method(test_dataset):.2f}\")"
      ],
      "metadata": {
        "id": "5z1Rh5CISLAS",
        "colab": {
          "base_uri": "https://localhost:8080/"
        },
        "outputId": "32b5c1c0-b6ba-4b7a-ee28-9768646ca54c"
      },
      "execution_count": 52,
      "outputs": [
        {
          "output_type": "stream",
          "name": "stdout",
          "text": [
            "Validate MAE: 2.68\n",
            "Validate MAE: 2.59\n"
          ]
        }
      ]
    },
    {
      "cell_type": "markdown",
      "metadata": {
        "id": "foL3GXI0YXh0"
      },
      "source": [
        "- common-sense baseline achieves:\n",
        "  - a validation MAE of 2.68 degrees Celsius\n",
        "  - a test MAE of 2.59 degrees Celsius\n",
        "- So, if you always assume that the temperature 24 hours in the future will be the same as it is now, you will be off by two and a half degrees on average.\n",
        "- It’s not too bad, but you probably won’t launch a weather forecasting service based on this heuristic!\n",
        "- Let's see if we can use deep learning to do better."
      ]
    },
    {
      "cell_type": "markdown",
      "metadata": {
        "id": "PUsuHmlYzL4N"
      },
      "source": [
        "## Let's try a basic machine-learning model\n",
        "\n",
        "- it’s useful to establish a common-sense baseline before trying machine learning approaches\n",
        "- similarly, it’s useful to try simple, cheap machine learning models (such as small, densely connected networks) before looking into complicated and computationally expensive models such as RNNs\n",
        "- This is the best way to make sure any further complexity you throw at the problem is legitimate and delivers real benefits.\n",
        "- The following listing shows a fully connected model that starts by flattening the data and then runs it through two Dense layers.\n",
        "- Note the lack of an activation function on the last Dense layer, which is typical for a regression problem.\n",
        "- We use mean squared error (MSE) as the loss, rather than MAE, because unlike MAE, it’s smooth around zero, which is a useful property for gradient descent.\n",
        "- We will monitor MAE by adding it as a metric in `compile()`."
      ]
    },
    {
      "cell_type": "markdown",
      "metadata": {
        "id": "VsaBdduczL4O"
      },
      "source": [
        "**Training and evaluating a densely connected model**"
      ]
    },
    {
      "cell_type": "code",
      "execution_count": 53,
      "metadata": {
        "id": "KJKltBaEzL4O"
      },
      "outputs": [],
      "source": [
        "from tensorflow import keras \n",
        "from tensorflow.keras import layers"
      ]
    },
    {
      "cell_type": "code",
      "source": [
        "inputs = keras.Input(shape = (sequence_length, raw_data.shape[-1]))\n",
        "\n",
        "x = layers.Flatten()(inputs)\n",
        "x = layers.Dense(16, activation = 'relu')(x)\n",
        "outputs = layers.Dense(1)(x)\n",
        "\n",
        "model = keras.Model(inputs, outputs)"
      ],
      "metadata": {
        "id": "RR-4XNuYTFw8"
      },
      "execution_count": 54,
      "outputs": []
    },
    {
      "cell_type": "code",
      "source": [
        "callbacks = [\n",
        "    keras.callbacks.ModelCheckpoint('jena_dense.keras', save_best_only = True)\n",
        "]"
      ],
      "metadata": {
        "id": "eLtC4XEqTW4O"
      },
      "execution_count": 55,
      "outputs": []
    },
    {
      "cell_type": "code",
      "source": [
        "model.compile(optimizer = 'rmsprop', loss = 'mse', metrics = ['mae'])\n",
        "history = model.fit(train_dataset, epochs = 5, validation_data = val_dataset, callbacks = callbacks)"
      ],
      "metadata": {
        "id": "7JqRutknTipP",
        "colab": {
          "base_uri": "https://localhost:8080/"
        },
        "outputId": "e6554b22-fd1c-4ada-cb2a-fd0dc705311d"
      },
      "execution_count": 56,
      "outputs": [
        {
          "output_type": "stream",
          "name": "stdout",
          "text": [
            "Epoch 1/5\n",
            "200/200 [==============================] - 7s 32ms/step - loss: 13.4661 - mae: 2.7559 - val_loss: 30.5675 - val_mae: 4.6218\n",
            "Epoch 2/5\n",
            "200/200 [==============================] - 7s 33ms/step - loss: 6.3322 - mae: 1.9573 - val_loss: 18.8479 - val_mae: 3.4862\n",
            "Epoch 3/5\n",
            "200/200 [==============================] - 7s 35ms/step - loss: 5.0311 - mae: 1.7418 - val_loss: 16.4847 - val_mae: 3.2299\n",
            "Epoch 4/5\n",
            "200/200 [==============================] - 10s 49ms/step - loss: 4.2139 - mae: 1.5869 - val_loss: 16.4901 - val_mae: 3.2040\n",
            "Epoch 5/5\n",
            "200/200 [==============================] - 8s 40ms/step - loss: 3.7079 - mae: 1.4920 - val_loss: 19.6638 - val_mae: 3.6024\n"
          ]
        }
      ]
    },
    {
      "cell_type": "code",
      "source": [
        "model = keras.models.load_model('jena_dense.keras')\n",
        "print(f\"Test MAE: {model.evaluate(test_dataset)[1]:.2f}\")"
      ],
      "metadata": {
        "id": "pI-YjM76UJMF",
        "colab": {
          "base_uri": "https://localhost:8080/"
        },
        "outputId": "6876f30a-4725-4c84-b16e-8f81f1902d49"
      },
      "execution_count": 57,
      "outputs": [
        {
          "output_type": "stream",
          "name": "stdout",
          "text": [
            "46/46 [==============================] - 2s 35ms/step - loss: 25.9692 - mae: 3.7594\n",
            "Test MAE: 3.76\n"
          ]
        }
      ]
    },
    {
      "cell_type": "markdown",
      "metadata": {
        "id": "Q8KdgUQOzL4O"
      },
      "source": [
        "**Plotting results**"
      ]
    },
    {
      "cell_type": "code",
      "execution_count": 58,
      "metadata": {
        "id": "C8jDePPRzL4O",
        "colab": {
          "base_uri": "https://localhost:8080/",
          "height": 281
        },
        "outputId": "606fd305-4d22-4bd8-98c5-5a6eacef4c06"
      },
      "outputs": [
        {
          "output_type": "display_data",
          "data": {
            "text/plain": [
              "<Figure size 432x288 with 1 Axes>"
            ],
            "image/png": "[encoded data removed]"
          },
          "metadata": {
            "needs_background": "light"
          }
        }
      ],
      "source": [
        "import matplotlib.pyplot as plt\n",
        "\n",
        "loss = history.history['mae']\n",
        "val_loss = history.history['val_mae']\n",
        "epochs = range(1, len(loss) + 1)\n",
        "plt.figure()\n",
        "plt.plot(epochs, loss, 'bo', label = 'Training MAE')\n",
        "plt.plot(epochs, val_loss, 'ro', label = 'Validationn MAE')\n",
        "plt.title('Training and valdation MAE')\n",
        "plt.legend()\n",
        "plt.show()"
      ]
    },
    {
      "cell_type": "markdown",
      "metadata": {
        "id": "KH08_j0Jb9Si"
      },
      "source": [
        "- Validation losses are worse than the no-learning baseline\n",
        "- This goes to show the merit of having this baseline in the first place: it turns out to be not easy to outperform\n",
        "- common sense contains a lot of valuable information to which a machine learning model doesn’t have access\n"
      ]
    },
    {
      "cell_type": "markdown",
      "metadata": {
        "id": "Z6w_6ug4cHke"
      },
      "source": [
        "### How can dense network do worse than simple base line?\n",
        "\n",
        "- if a simple, well-performing model exists to go from the data to the targets (the common-sense baseline), why doesn’t the model we’re training find it and improve on it?\n",
        "- the space of models in which you’re searching for a solution— that is, your *hypothesis space*—is the space of all possible two-layer networks with the configuration you defined.\n",
        "- The common-sense heuristic is just one model among millions that can be represented in this space\n",
        "- It’s like looking for a needle in a haystack.\n",
        "- **Just because a good solution technically exists in your hypothesis space doesn’t mean you’ll be able to find it via gradient descent.**\n",
        "- That’s a pretty significant limitation of machine learning in general\n",
        "- unless the learning algorithm is hardcoded to look for a specific kind of simple model, it can sometimes fail to find a simple solution to a simple problem\n",
        "- That’s why leveraging good feature engineering and relevant architecture priors is essential: you need to precisely tell your model what it should be looking for."
      ]
    },
    {
      "cell_type": "markdown",
      "metadata": {
        "id": "-uW1gBdYzL4O"
      },
      "source": [
        "## Let's try a 1D convolutional model\n",
        "\n",
        "- You already know about the `Conv2D` layers, which see their inputs through small windows that swipe across 2D grids.\n",
        "- There are also 1D and even 3D versions of these layers: `Conv1D` and `Conv3D`.\n",
        "- The `Conv1D` layer relies on 1D windows that slide across input sequences, and the `Conv3D` layer relies on cubic windows that slide across input volumes.\n",
        "- You can thus build 1D convnets, strictly analogous to 2D convnets.\n",
        "- They’re a great fit for any sequence data that follows the translation invariance assumption (meaning that if you slide a window over the sequence, the content of the window should follow the same properties independently of the location of the window).\n",
        "- Let’s try one on our temperature-forecasting problem.\n",
        "- We’ll pick an initial window length of 24, so that we look at 24 hours of data at a time (one cycle).\n",
        "- As we downsample the sequences (via `MaxPooling1D` layers), we’ll reduce the window size accordingly:"
      ]
    },
    {
      "cell_type": "code",
      "execution_count": 59,
      "metadata": {
        "id": "FMZAhz8OzL4O"
      },
      "outputs": [],
      "source": [
        "inputs = keras.Input(shape = (sequence_length, raw_data.shape[-1]))\n",
        "x = layers.Conv1D(8, 24, activation = 'relu')(inputs)\n",
        "x = layers.MaxPooling1D(2)(x)\n",
        "x = layers.Conv1D(8, 12, activation = 'relu')(x)\n",
        "x = layers.MaxPooling1D(2)(x)\n",
        "x = layers.Conv1D(8, 6, activation = 'relu')(x)\n",
        "x = layers.MaxPooling1D(2)(x)\n",
        "x = layers.GlobalAveragePooling1D()(x)\n",
        "outputs = layers.Dense(1)(x)\n",
        "model = keras.Model(inputs, outputs)"
      ]
    },
    {
      "cell_type": "code",
      "source": [
        "callbacks = [\n",
        "    keras.callbacks.ModelCheckpoint('jena_conv.keras', save_best_only=True)\n",
        "]"
      ],
      "metadata": {
        "id": "uYhfxKTGWNcG"
      },
      "execution_count": 60,
      "outputs": []
    },
    {
      "cell_type": "code",
      "source": [
        "model.compile(optimizer = 'rmsprop', loss = 'mse', metrics = ['mae'])\n",
        "history = model.fit(train_dataset, epochs = 5, validation_data = val_dataset, callbacks = callbacks)"
      ],
      "metadata": {
        "id": "axdkpz1dWS-G",
        "colab": {
          "base_uri": "https://localhost:8080/"
        },
        "outputId": "659b976d-460e-4561-a31c-c6bed5efa17e"
      },
      "execution_count": 61,
      "outputs": [
        {
          "output_type": "stream",
          "name": "stdout",
          "text": [
            "Epoch 1/5\n",
            "200/200 [==============================] - 12s 55ms/step - loss: 22.2547 - mae: 3.6230 - val_loss: 33.3971 - val_mae: 4.5853\n",
            "Epoch 2/5\n",
            "200/200 [==============================] - 14s 68ms/step - loss: 16.0868 - mae: 3.1148 - val_loss: 38.6853 - val_mae: 4.9625\n",
            "Epoch 3/5\n",
            "200/200 [==============================] - 19s 92ms/step - loss: 14.7031 - mae: 2.9500 - val_loss: 50.4763 - val_mae: 5.7238\n",
            "Epoch 4/5\n",
            "200/200 [==============================] - 12s 60ms/step - loss: 13.8725 - mae: 2.8700 - val_loss: 49.1534 - val_mae: 5.6488\n",
            "Epoch 5/5\n",
            "200/200 [==============================] - 16s 77ms/step - loss: 13.3161 - mae: 2.8114 - val_loss: 32.9984 - val_mae: 4.5968\n"
          ]
        }
      ]
    },
    {
      "cell_type": "code",
      "source": [
        "model = keras.models.load_model('jena_conv.keras')\n",
        "print(f\"Test MAE:  {model.evaluate(test_dataset)[1]:.2f}\")"
      ],
      "metadata": {
        "id": "-qf_BYNFWpXW",
        "colab": {
          "base_uri": "https://localhost:8080/"
        },
        "outputId": "b4bcfa42-031c-427a-e632-4cf19affc621"
      },
      "execution_count": 62,
      "outputs": [
        {
          "output_type": "stream",
          "name": "stdout",
          "text": [
            "46/46 [==============================] - 4s 78ms/step - loss: 37.4708 - mae: 4.7176\n",
            "Test MAE:  4.72\n"
          ]
        }
      ]
    },
    {
      "cell_type": "markdown",
      "metadata": {
        "id": "hj6DSptweTOP"
      },
      "source": [
        "**The 1D convolution model performs even worse than the densely connected one**\n",
        "\n",
        "Test MAE is higher than 4 degrees, far from the common-sense baseline. What went wrong here? Two things:\n",
        "- First, weather data doesn’t quite respect the translation invariance assumption. While the data does feature daily cycles, data from a morning follows different properties than data from an evening or from the middle of the night. Weather data is only translation-invariant for a very specific timescale.\n",
        "- Second, order in our data matters—a lot. The recent past is far more informa- tive for predicting the next day’s temperature than data from five days ago. A 1D convnet is not able to leverage this fact. **In particular, our max pooling and global average pooling layers are largely destroying order information.**"
      ]
    },
    {
      "cell_type": "markdown",
      "metadata": {
        "id": "RqHsZ2ErzL4O"
      },
      "source": [
        "## A first recurrent baseline\n",
        "\n",
        "- The densely connected approach first flattened the timeseries, which removed the notion of time from the input data.\n",
        "- The convolutional approach treated every segment of the data in the same way, even applying pooling, which destroyed order information.\n",
        "- Let’s instead look at the data as what it is: **a sequence, where causality and order matter.**\n",
        "- There’s a family of neural network architectures designed specifically for this use case: **recurrent neural networks**.\n",
        "- Among them, the **Long Short Term Memory (LSTM)** layer has long been very popular.\n",
        "- We’ll see in a minute how these models work, but let’s start by giving the LSTM layer a try."
      ]
    },
    {
      "cell_type": "markdown",
      "metadata": {
        "id": "FHnw-ilBzL4O"
      },
      "source": [
        "**A simple LSTM-based model**"
      ]
    },
    {
      "cell_type": "code",
      "execution_count": 63,
      "metadata": {
        "id": "BtMNHqAmzL4P"
      },
      "outputs": [],
      "source": [
        "inputs = keras.Input(shape = (sequence_length, raw_data.shape[-1]))\n",
        "x = layers.LSTM(16)(inputs)\n",
        "outputs = layers.Dense(1)(x)\n",
        "model = keras.Model(inputs, outputs)"
      ]
    },
    {
      "cell_type": "code",
      "source": [
        "callbacks = [\n",
        "    keras.callbacks.ModelCheckpoint('jena_lstm.keras', save_best_only = True)\n",
        "]"
      ],
      "metadata": {
        "id": "NJkxKdMqXoUT"
      },
      "execution_count": 64,
      "outputs": []
    },
    {
      "cell_type": "code",
      "source": [
        "model.compile(optimizer = 'rmsprop', loss = 'mse', metrics = ['mae'])\n",
        "\n",
        "history = model.fit(train_dataset, epochs = 5, validation_data = val_dataset, callbacks = callbacks)"
      ],
      "metadata": {
        "id": "mAQ_KM84Xtq1",
        "colab": {
          "base_uri": "https://localhost:8080/"
        },
        "outputId": "b36b83b9-7036-4ec5-91b2-ae51b07da042"
      },
      "execution_count": 65,
      "outputs": [
        {
          "output_type": "stream",
          "name": "stdout",
          "text": [
            "Epoch 1/5\n",
            "200/200 [==============================] - 18s 78ms/step - loss: 69.2562 - mae: 6.5238 - val_loss: 129.5052 - val_mae: 10.2527\n",
            "Epoch 2/5\n",
            "200/200 [==============================] - 15s 76ms/step - loss: 34.2342 - mae: 4.3729 - val_loss: 73.0390 - val_mae: 7.1517\n",
            "Epoch 3/5\n",
            "200/200 [==============================] - 16s 78ms/step - loss: 19.3517 - mae: 3.2672 - val_loss: 38.8106 - val_mae: 4.8233\n",
            "Epoch 4/5\n",
            "200/200 [==============================] - 17s 83ms/step - loss: 12.3163 - mae: 2.6320 - val_loss: 21.8626 - val_mae: 3.5252\n",
            "Epoch 5/5\n",
            "200/200 [==============================] - 15s 76ms/step - loss: 9.7582 - mae: 2.3644 - val_loss: 16.0485 - val_mae: 3.0414\n"
          ]
        }
      ]
    },
    {
      "cell_type": "code",
      "source": [
        "model = keras.models.load_model('jena_lstm.keras')\n",
        "print(f\"Test MAE: {model.evaluate(test_dataset)[1]:.2f}\")"
      ],
      "metadata": {
        "id": "ZEUdtjY8X3oN",
        "colab": {
          "base_uri": "https://localhost:8080/"
        },
        "outputId": "d8e3a79d-bae5-428e-aa3b-de6751704559"
      },
      "execution_count": 66,
      "outputs": [
        {
          "output_type": "stream",
          "name": "stdout",
          "text": [
            "46/46 [==============================] - 3s 51ms/step - loss: 13.5830 - mae: 2.8509\n",
            "Test MAE: 2.85\n"
          ]
        }
      ]
    },
    {
      "cell_type": "markdown",
      "metadata": {
        "id": "hN2CA2g2fLHe"
      },
      "source": [
        "We achieve a test MAE of about 2.8 degrees. The LSTM-based model didn't beat the common-sense baseline but it did much better than other deep learning models.\n",
        "\n",
        "- Why did the LSTM model perform markedly better than the densely connected one or the convnet?\n",
        "- And how can we further refine the model?\n",
        "- To answer this, we will take a closer look at recurrent neural networks."
      ]
    },
    {
      "cell_type": "markdown",
      "metadata": {
        "id": "ow0Qrx2_zL4P"
      },
      "source": [
        "# Understanding recurrent neural networks\n",
        "\n",
        "\n",
        "- all neural networks you’ve seen so far, such as densely connected networks and convnets, have **no memory**.\n",
        "- Each input shown to them is processed independently, with no **state** kept between inputs.\n",
        "- With such networks, in order to process a sequence or a temporal series of data points, you have to show the entire sequence to the network at once: turn it into a single data point.\n",
        "  - For instance, this is what we did in the densely connected network example: we flattened our five days of data into a single large vector and processed it in one go.\n",
        "  - Such networks are called **feedforward networks**."
      ]
    },
    {
      "cell_type": "markdown",
      "metadata": {
        "id": "zomxzQ7A66rR"
      },
      "source": [
        "- Think about how we read text\n",
        "- We process it word by word—or rather, eye saccade by eye saccade—while keeping memories of what came before\n",
        "- this gives you a fluid representation of the meaning conveyed by this sentence.\n",
        "- Biological intelligence processes information incrementally while maintaining an internal model of what it’s processing, built from past information and constantly updated as new information comes in.\n",
        "- A recurrent neural network (RNN) adopts the same principle, albeit in an extremely simplified version:\n",
        "  - it processes sequences by iterating through the sequence elements and maintaining a state that contains information relative to what it has seen so far.\n",
        "  - In effect, an RNN is a type of neural network that has an internal loop (see figure below).\n",
        "\n",
        "<img src=\"https://github.com/ambujtewari/stats315-winter2022/raw/main/images/RNN.png\" width=\"400\">\n",
        "\n",
        "- state of the RNN is reset between processing two different, independent sequences (such as two samples in a batch)\n",
        "- so you still consider one sequence to be a single data point: a single input to the network.\n",
        "- What changes is that this data point is no longer processed in a single step; rather, the network internally loops over sequence elements.\n",
        "\n",
        "\n",
        "To make these notions of *loop* and *state* clear, let’s implement the forward pass of a toy RNN."
      ]
    },
    {
      "cell_type": "markdown",
      "metadata": {
        "id": "uXADfdp3zL4P"
      },
      "source": [
        "**NumPy implementation of a simple RNN**"
      ]
    },
    {
      "cell_type": "code",
      "execution_count": 67,
      "metadata": {
        "id": "h471XI6RzL4P"
      },
      "outputs": [],
      "source": [
        "import numpy as np\n",
        "\n",
        "timesteps = 100 \n",
        "input_features = 32 \n",
        "output_features = 64"
      ]
    },
    {
      "cell_type": "code",
      "source": [
        "inputs = np.random.random((timesteps, input_features))\n",
        "\n",
        "state_t = np.zeros((output_features,))\n",
        "\n",
        "W = np.random.random((output_features, input_features))\n",
        "U = np.random.random((output_features, output_features))\n",
        "b = np.random.random((output_features,))\n",
        "\n",
        "sucessive_outputs = []\n",
        "\n",
        "for input_t in inputs:\n",
        "  output_t = np.tanh(np.dot(W, input_t) + np.dot(U, state_t) + b)\n",
        "  sucessive_outputs.append(output_t)\n",
        "\n",
        "  state_t = output_t\n",
        "\n",
        "final_output_sequence = np.stack(sucessive_outputs, axis = 0)\n"
      ],
      "metadata": {
        "id": "ua1zFP77-Fkw"
      },
      "execution_count": 68,
      "outputs": []
    },
    {
      "cell_type": "markdown",
      "metadata": {
        "id": "2ZfnKwNvCned"
      },
      "source": [
        "- In this example, the final output is a rank-2 tensor of shape `(timesteps,output_features)`, where each timestep is the output of the loop at time t.\n",
        "- Each timestep `t` in the output tensor contains information about timesteps `0` to `t` in the input sequence—about the entire past.\n",
        "- For this reason, in many cases, you don’t need this full sequence of outputs; you just need the last output (`output_t` at the end of the loop), because it already contains information about the entire sequence."
      ]
    },
    {
      "cell_type": "markdown",
      "metadata": {
        "id": "O2dQwNR7zL4P"
      },
      "source": [
        "### A recurrent layer in Keras\n",
        "\n",
        "- The process we just naively implemented in NumPy corresponds to an actual Keras layer—the `SimpleRNN` layer.\n",
        "- There is one minor difference: `SimpleRNN` processes **batches** of sequences, like all other Keras layers, not a single sequence as in the NumPy example.\n",
        "- This means it takes inputs of shape `(batch_size, timesteps, input_features)`, rather than `(timesteps, input_features)`.\n",
        "- When specifying the shape argument of the initial `Input()`, note that you can set the timesteps entry to `None`, which enables your network to process sequences of arbitrary length."
      ]
    },
    {
      "cell_type": "markdown",
      "metadata": {
        "id": "BCa8acubzL4P"
      },
      "source": [
        "**An RNN layer that can process sequences of any length**"
      ]
    },
    {
      "cell_type": "code",
      "execution_count": 69,
      "metadata": {
        "id": "AKAjcc1FzL4P"
      },
      "outputs": [],
      "source": [
        "num_features = 14\n",
        "inputs = keras.Input(shape = (None, num_features))\n",
        "outputs = layers.SimpleRNN(16)(inputs)"
      ]
    },
    {
      "cell_type": "markdown",
      "metadata": {
        "id": "zvyfc-wIEnsa"
      },
      "source": [
        "- This is especially useful if your model is meant to process sequences of variable length.\n",
        "- However, if all of your sequences have the same length, it is recommended that you specify a complete input shape\n",
        "  - it enables `model.summary()` to display output length information, which is always nice\n",
        "  - it can unlock some performance optimizations"
      ]
    },
    {
      "cell_type": "markdown",
      "metadata": {
        "id": "ubhMHgKWFQZf"
      },
      "source": [
        "- All recurrent layers in Keras (`SimpleRNN`, `LSTM`, and `GRU`) can be run in two different modes:\n",
        "  - they can return either full sequences of successive outputs for each timestep (a rank-3 tensor of shape `(batch_size, timesteps, output_features)`), or\n",
        "  - return only the last output for each input sequence (a rank-2 tensor of shape `(batch_ size, output_features)`).\n",
        "- These two modes are controlled by the `return_sequences` constructor argument.\n",
        "- Let’s look at an example that uses `SimpleRNN` and returns only the output at the last timestep.\n"
      ]
    },
    {
      "cell_type": "markdown",
      "metadata": {
        "id": "vTbBsWl6zL4P"
      },
      "source": [
        "**An RNN layer that returns only its last output step**"
      ]
    },
    {
      "cell_type": "code",
      "execution_count": 70,
      "metadata": {
        "id": "Gh3zKb1DzL4Q"
      },
      "outputs": [],
      "source": [
        "num_features = 14 \n",
        "steps = 120\n",
        "inputs = keras.Input(shape = (steps, num_features))\n",
        "outputs = layers.SimpleRNN(16, return_sequences = False)(inputs)\n",
        "# return_sequences = false is the default"
      ]
    },
    {
      "cell_type": "markdown",
      "metadata": {
        "id": "FT4ajnMXGIWI"
      },
      "source": [
        "The following example returns the full state sequence."
      ]
    },
    {
      "cell_type": "markdown",
      "metadata": {
        "id": "oocWCr-TzL4Q"
      },
      "source": [
        "**An RNN layer that returns its full output sequence**"
      ]
    },
    {
      "cell_type": "code",
      "execution_count": 71,
      "metadata": {
        "id": "bFYT_6dgzL4Q"
      },
      "outputs": [],
      "source": [
        "inputs = keras.Input(shape = (steps, num_features))\n",
        "\n",
        "x = layers.SimpleRNN(16, return_sequences = True)(inputs)\n",
        "x = layers.SimpleRNN(16, return_sequences = True)(x)\n",
        "outputs = layers.SimpleRNN(16)(x)"
      ]
    },
    {
      "cell_type": "markdown",
      "metadata": {
        "id": "9eLvDZXGGQkd"
      },
      "source": [
        "- It’s sometimes useful to stack several recurrent layers one after the other in order to increase the representational power of a network.\n",
        "- In such a setup, you have to get all of the intermediate layers to return a full sequence of outputs.\n"
      ]
    },
    {
      "cell_type": "markdown",
      "metadata": {
        "id": "-2c4qOljzL4Q"
      },
      "source": [
        "**Stacking RNN layers**"
      ]
    },
    {
      "cell_type": "code",
      "execution_count": 71,
      "metadata": {
        "id": "5t6eeCa2zL4Q"
      },
      "outputs": [],
      "source": []
    },
    {
      "cell_type": "markdown",
      "metadata": {
        "id": "yni2hB29SLNN"
      },
      "source": [
        "### LSTM layers\n",
        "\n",
        "- `SimpleRNN` layer is generally too simplistic to be of real use.\n",
        "- major issue: although it should theoretically be able to retain at time `t` information about inputs seen many timesteps before, such long-term dependencies prove impossible to learn in practice.\n",
        "- This is due to the **vanishing gradient problem**, an effect that is similar to what is observed with non-recurrent networks (feedforward networks) that are many layers deep:\n",
        "  - as you keep adding layers to a network, the network eventually becomes untrainable.\n",
        "- `LSTM` and `GRU` were designed to address these issues.\n",
        "\n",
        "Let’s consider the LSTM layer. The underlying Long Short-Term Memory (LSTM) algorithm was developed by [Hochreiter and Schmidhuber in 1997](https://doi.org/10.1162/neco.1997.9.8.1735); it was the culmi- nation of their research on the vanishing gradient problem.\n",
        "\n",
        "\n",
        "- This layer is a variant of the `SimpleRNN` layer you already know about\n",
        "- it adds a way to carry information across many timesteps\n",
        "- Imagine a conveyor belt running parallel to the sequence you’re processing\n",
        "  - Information from the sequence can jump onto the conveyor belt at any point,\n",
        "  - be transported to a later timestep, and\n",
        "  - jump off, intact, when you need it.\n",
        "- This is essentially what LSTM does: it saves information for later, thus preventing older signals from gradually vanishing during processing.\n"
      ]
    },
    {
      "cell_type": "markdown",
      "metadata": {
        "id": "wTqa4oTmTlmg"
      },
      "source": [
        "**Understanding LSTMs pictorially**\n",
        "\n",
        "- let’s start from the SimpleRNN cell (see figure 10.8).\n",
        "- Because you’ll have a lot of weight matrices, index the `W` and `U` matrices in the cell, with the letter `o` (`Wo` and `Uo`) for *output*.\n",
        "\n",
        "<img src=\"https://github.com/ambujtewari/stats315-winter2022/raw/main/images/starting_point_LSTM.png\" height=\"400\">\n",
        "\n",
        "\n",
        "\n",
        "- Let’s add an additional data flow that carries information across time- steps.\n",
        "- Call its values at different timesteps `c_t`, where C stands for *carry*.\n",
        "- This information will have the following impact on the cell:\n",
        "  - it will be combined with the input connection and the recurrent connection (via a dense transformation: a dot product with a weight matrix followed by a bias add and the application of an activation function), and\n",
        "  - it will affect the state being sent to the next timestep (via an activation function and a multiplication operation).\n",
        "- Conceptually, the carry dataflow is a way to modulate the next output and the next state (see figure 10.9)\n",
        "\n",
        "<img src=\"https://github.com/ambujtewari/stats315-winter2022/raw/main/images/SimpleRNN_to_LSTM.png\" height=\"400\">\n",
        "\n",
        "- Now the subtlety—the way the next value of the carry dataflow is computed\n",
        "- It involves three distinct transformations.\n",
        "- All three have the form of a SimpleRNN cell:\n",
        "```\n",
        "y = activation(dot(state_t, U) + dot(input_t, W) + b)\n",
        "```\n",
        "- But all three transformations have their own weight matrices, which we’ll index with the letters `i`, `f`, and `k`. Here’s what we have so far (it may seem a bit arbitrary, but hang on for a moment!).\n",
        "```\n",
        "output_t = activation(dot(state_t, Uo) + dot(input_t, Wo) + dot(c_t, Vo) + bo)\n",
        "i_t = activation(dot(state_t, Ui) + dot(input_t, Wi) + bi)\n",
        "f_t = activation(dot(state_t, Uf) + dot(input_t, Wf) + bf)\n",
        "k_t = activation(dot(state_t, Uk) + dot(input_t, Wk) + bk)\n",
        "```\n",
        "-We obtain the new carry state (the next `c_t`) by combining `i_t`, `f_t`, and `k_t`.\n",
        "```\n",
        "c_t+1 = i_t * k_t + c_t * f_t\n",
        "```\n",
        "- Add this as shown in figure 10.10, and that’s it.\n",
        "- Not so complicated—merely a tad complex.\n",
        "\n",
        "<img src=\"https://github.com/ambujtewari/stats315-winter2022/raw/main/images/anatomy_LSTM.png\" height=\"400\">\n"
      ]
    },
    {
      "cell_type": "markdown",
      "metadata": {
        "id": "ykktVoQHVstm"
      },
      "source": [
        "**Interpreting LSTM operations**\n",
        "\n",
        "- you can interpret what each of these operations is meant to do.\n",
        "- For instance, you can say that multiplying `c_t` and `f_t` is a way to deliberately **forget** irrelevant information in the carry dataflow.\n",
        "- Meanwhile, `i_t` and `k_t` provide information about the present, updating the carry track with new information.\n",
        "- But at the end of the day, these interpretations don’t mean much, because what these operations actually do is determined by the contents of the weights parameterizing them\n",
        "  - the weights are learned in an end-to-end fashion, starting over with each training round, making it impossible to credit this or that operation with a specific purpose.\n",
        "- The specification of an RNN cell (as just described) determines your hypothesis space—the space in which you’ll search for a good model configuration during training\n",
        "- but it doesn’t determine what the cell does; that is up to the cell weights.\n",
        "- The same cell with different weights can be doing very different things.\n",
        "- So the combination of operations making up an RNN cell is better interpreted as **a set of constraints on your search**, not as a design in an engineering sense.\n",
        "- Arguably, the choice of such constraints—the question of how to implement RNN cells—is better left to optimization algorithms (like genetic algorithms or reinforcement- learning processes) than to human engineers.\n",
        "  - In the future, that’s how we’ll build our models.\n",
        "- In summary: you don’t need to understand anything about the specific archi- tecture of an LSTM cell; as a human, it shouldn’t be your job to understand it.\n",
        "- Just keep in mind what the LSTM cell is meant to do: allow past information to be reinjected at a later time, thus fighting the vanishing-gradient problem."
      ]
    },
    {
      "cell_type": "markdown",
      "metadata": {
        "id": "EQ8sSpFmzL4Q"
      },
      "source": [
        "# Advanced use of recurrent neural networks\n",
        "\n",
        "We’ll cover the following:\n",
        "- *Recurrent dropout*—This is a variant of dropout, used to fight overfitting in recurrent layers.\n",
        "- *Stacking recurrent layers*—This increases the representational power of the model (at the cost of higher computational loads).\n",
        "- *Bidirectional recurrent layers*—These present the same information to a recurrent network in different ways, increasing accuracy and mitigating forgetting issues.\n",
        "\n"
      ]
    },
    {
      "cell_type": "markdown",
      "metadata": {
        "id": "V3HEgIvgzL4Q"
      },
      "source": [
        "### Using recurrent dropout to fight overfitting\n",
        "\n",
        "\n",
        "- You’re already familiar with a classic technique for fighting overfitting: dropout\n",
        "- It randomly zeros out input units of a layer in order to break happenstance correlations in the training data that the layer is exposed to.\n",
        "- But how to correctly apply dropout in recurrent networks isn’t a trivial question.\n"
      ]
    },
    {
      "cell_type": "markdown",
      "metadata": {
        "id": "Wblgb9qJ-Sy8"
      },
      "source": [
        "**Recurrent dropout**\n",
        "\n",
        "- It has long been known that applying dropout before a recurrent layer hinders learning rather than helping with regularization.\n",
        "- In 2016, Yarin Gal, as part of his PhD thesis on Bayesian deep learning, determined the proper way to use dropout with a recurrent network\n",
        "- the same dropout mask (the same pattern of dropped units) should be applied at every timestep, instead of using a dropout mask that varies randomly from timestep to timestep.\n",
        "- in order to regularize the representations formed by the recurrent gates of layers such as GRU and LSTM, a temporally constant dropout mask should be applied to the inner recurrent activations of the layer (a recurrent dropout mask)\n",
        "- Using the same dropout mask at every timestep allows the network to properly propagate its learning error through time; a temporally random dropout mask would disrupt this error signal and be harmful to the learning process.\n",
        "- Every recurrent layer in Keras has two dropout-related arguments:\n",
        "  - `dropout`, a float specifying the dropout rate for input units of the layer, and\n",
        "  - `recurrent_dropout`, specifying the dropout rate of the recurrent units. \n"
      ]
    },
    {
      "cell_type": "markdown",
      "metadata": {
        "id": "D0Eij8Tj_N47"
      },
      "source": [
        "**Adding recurrent dropout to our first LSTM example**\n",
        "\n",
        "- Let’s add recurrent dropout to the LSTM layer of our first LSTM example and see how doing so impacts overfitting.\n",
        "- Thanks to dropout, we won’t need to rely as much on network size for regularization, so we can use an LSTM layer with twice as many units, which should, hopefully, be more expressive\n",
        "  - without dropout, this network would have started overfitting right away—try it\n",
        "- Because networks being regularized with dropout always take much longer to fully converge, we need to train the model longer. The performance below isn't as good because we're only running 10 epochs."
      ]
    },
    {
      "cell_type": "markdown",
      "metadata": {
        "id": "vXD07OLLzL4Q"
      },
      "source": [
        "**Training and evaluating a dropout-regularized LSTM**"
      ]
    },
    {
      "cell_type": "code",
      "execution_count": 71,
      "metadata": {
        "id": "RvPd7uzXzL4Q"
      },
      "outputs": [],
      "source": []
    },
    {
      "cell_type": "code",
      "execution_count": 71,
      "metadata": {
        "id": "D3faHm1-tfAC"
      },
      "outputs": [],
      "source": []
    },
    {
      "cell_type": "markdown",
      "metadata": {
        "id": "jaGPjGL1zL4R"
      },
      "source": [
        "### Stacking recurrent layers\n",
        "\n",
        "- Increasing network capacity is typically done by increasing the number of units in the layers or adding more layers.\n",
        "- **Recurrent layer stacking** is a classic way to build more-powerful recurrent networks:\n",
        "  - for instance, not too long ago the Google Translate algorithm was powered by a stack of seven large LSTM layers—that’s huge.\n",
        "- To stack recurrent layers on top of each other in Keras, all intermediate layers should return their full sequence of outputs (a rank-3 tensor) rather than their output at the last timestep.\n",
        "  - As you’ve already learned, this is done by specifying `return_sequences=True`.\n",
        "- we’ll try a stack of two dropout-regularized recurrent layers.\n",
        "- For a change, we’ll use Gated Recurrent Unit (GRU) layers instead of LSTM.\n",
        "- GRU is very similar to LSTM—you can think of it as a slightly simpler, streamlined version of the LSTM architecture.\n",
        "  - It was introduced in 2014 by [Cho et al.](https://arxiv.org/abs/1409.1259) when recurrent networks were just starting to gain interest anew"
      ]
    },
    {
      "cell_type": "markdown",
      "metadata": {
        "id": "oCbb8vArzL4R"
      },
      "source": [
        "**Training and evaluating a dropout-regularized, stacked GRU model**"
      ]
    },
    {
      "cell_type": "code",
      "execution_count": 72,
      "metadata": {
        "id": "MlS8GGogzL4R"
      },
      "outputs": [],
      "source": [
        "inputs = keras.Input(shape = (sequence_length, raw_data.shape[-1]))\n",
        "\n",
        "# what is the drop out rate within recurrent relationship? ensure we drop out the same thing over time \n",
        "x = layers.LSTM(32, recurrent_dropout = 0.25)(inputs)\n",
        "# regularizing the dense layer after this \n",
        "x = layers.Dropout(0.5)(x)\n",
        "outputs = layers.Dense(1)(x)\n",
        "\n",
        "model = keras.Model(inputs, outputs)"
      ]
    },
    {
      "cell_type": "code",
      "source": [
        "inputs = keras.Input(shape = (sequence_length, raw_data.shape[-1]))\n",
        "x = layers.GRU(32, recurrent_dropout = 0.5, return_sequences = True)(inputs)\n",
        "x = layers.GRU(32, recurrent_dropout = 0.5)(x)\n",
        "x = layers.Dropout(0.5)(x)\n",
        "outputs = layers.Dense(1)(x)\n",
        "\n",
        "model = keras.Model(inputs, outputs)"
      ],
      "metadata": {
        "id": "NGoR5YnKEA8I"
      },
      "execution_count": 73,
      "outputs": []
    },
    {
      "cell_type": "code",
      "source": [
        "callbacks = [\n",
        "    keras.callbacks.ModelCheckpoint('jena_lstm_dropout.keras', save_best_only = True)\n",
        "]\n",
        "\n",
        "model.compile(optimizer = 'rmsprop', loss = 'mse', metrics = ['mae'])\n",
        "\n",
        "history = model.fit(train_dataset, epochs = 2, validation_data = val_dataset, callbacks = callbacks)"
      ],
      "metadata": {
        "colab": {
          "base_uri": "https://localhost:8080/"
        },
        "id": "JyNQT-TqJMxU",
        "outputId": "b0c6dd1c-014e-4e24-877e-25c90c471657"
      },
      "execution_count": 74,
      "outputs": [
        {
          "output_type": "stream",
          "name": "stdout",
          "text": [
            "Epoch 1/2\n",
            "200/200 [==============================] - 58s 266ms/step - loss: 34.3836 - mae: 4.4137 - val_loss: 40.0225 - val_mae: 4.9305\n",
            "Epoch 2/2\n",
            "200/200 [==============================] - 52s 260ms/step - loss: 14.8493 - mae: 2.9665 - val_loss: 19.3685 - val_mae: 3.3301\n"
          ]
        }
      ]
    },
    {
      "cell_type": "code",
      "source": [
        "loss = history.history['mae']"
      ],
      "metadata": {
        "id": "ZB0pm0_JJlNg"
      },
      "execution_count": 75,
      "outputs": []
    },
    {
      "cell_type": "code",
      "source": [
        "model = keras.model.load_model('jena_stacked_gru_dropout.keras')\n",
        "print(f\"test mae: {model.evaluate(test_dataset[1])}\")"
      ],
      "metadata": {
        "colab": {
          "base_uri": "https://localhost:8080/",
          "height": 187
        },
        "id": "i7imetN3Dx3A",
        "outputId": "4d7a2a62-1e4d-40a3-d286-035c6d24c5ef"
      },
      "execution_count": 76,
      "outputs": [
        {
          "output_type": "error",
          "ename": "AttributeError",
          "evalue": "ignored",
          "traceback": [
            "\u001b[0;31m---------------------------------------------------------------------------\u001b[0m",
            "\u001b[0;31mAttributeError\u001b[0m                            Traceback (most recent call last)",
            "\u001b[0;32m<ipython-input-76-3ffe45dec407>\u001b[0m in \u001b[0;36m<module>\u001b[0;34m\u001b[0m\n\u001b[0;32m----> 1\u001b[0;31m \u001b[0mmodel\u001b[0m \u001b[0;34m=\u001b[0m \u001b[0mkeras\u001b[0m\u001b[0;34m.\u001b[0m\u001b[0mmodel\u001b[0m\u001b[0;34m.\u001b[0m\u001b[0mload_model\u001b[0m\u001b[0;34m(\u001b[0m\u001b[0;34m'jena_stacked_gru_dropout.keras'\u001b[0m\u001b[0;34m)\u001b[0m\u001b[0;34m\u001b[0m\u001b[0;34m\u001b[0m\u001b[0m\n\u001b[0m\u001b[1;32m      2\u001b[0m \u001b[0mprint\u001b[0m\u001b[0;34m(\u001b[0m\u001b[0;34mf\"test mae: {model.evaluate(test_dataset[1])}\"\u001b[0m\u001b[0;34m)\u001b[0m\u001b[0;34m\u001b[0m\u001b[0;34m\u001b[0m\u001b[0m\n",
            "\u001b[0;31mAttributeError\u001b[0m: module 'tensorflow.keras' has no attribute 'model'"
          ]
        }
      ]
    },
    {
      "cell_type": "markdown",
      "metadata": {
        "id": "HnvI5At0DEJ5"
      },
      "source": [
        "We achieve a test MAE of 2.7 which is better than what vanilla LSTM gave us. It's still slightly higher than the test MAE of the non-ML baseline."
      ]
    },
    {
      "cell_type": "markdown",
      "metadata": {
        "id": "Lq3E_49hzL4R"
      },
      "source": [
        "### Using bidirectional RNNs\n",
        "\n",
        "- RNNs are notably order-dependent: they process the timesteps of their input sequences in order, and shuffling or reversing the timesteps can completely change the representations the RNN extracts from the sequence.\n",
        "- This is precisely the reason they perform well on problems where order is meaningful, such as the temperature-forecasting problem.\n",
        "- A bidirectional RNN exploits the order sensitivity of RNNs: it uses two regular RNNs, such as the GRU and LSTM layers you’re already familiar with, each of which processes the input sequence in one direction (chronologically and antichronologically), and then merges their representations.\n",
        "- By processing a sequence both ways, a bidirectional RNN can catch patterns that may be overlooked by a unidirectional RNN.\n",
        "\n",
        "<img src=\"https://github.com/ambujtewari/stats315-winter2022/raw/main/images/bidirectional_RNN.png\" width=\"400\"> "
      ]
    },
    {
      "cell_type": "markdown",
      "metadata": {
        "id": "AAomiHcmzL4R"
      },
      "source": [
        "**Training and evaluating a bidirectional LSTM**"
      ]
    },
    {
      "cell_type": "code",
      "execution_count": 78,
      "metadata": {
        "id": "bVn72sVrzL4R"
      },
      "outputs": [],
      "source": [
        "inputs = keras.Input(shape = (sequence_length, raw_data.shape[-1]))\n",
        "x = layers.Bidirectional(layers.LSTM(16))(inputs)\n",
        "output = layers.Dense(1)(x)\n",
        "model = keras.Model(inputs, output)\n"
      ]
    },
    {
      "cell_type": "code",
      "execution_count": null,
      "metadata": {
        "id": "QaY0geZxz1aP"
      },
      "outputs": [],
      "source": []
    },
    {
      "cell_type": "markdown",
      "metadata": {
        "id": "HkCk42JjGyi3"
      },
      "source": [
        "- it doesn’t perform as well as the plain LSTM layer.\n",
        "- all the predictive capacity must come from the chronological half of the network\n",
        "- the antichronological half is known to be severely underperforming on this task (again, because the recent past matters much more than the distant past, in this case)\n",
        "- however, the presence of the antichronological half doubles the network’s capacity and contributes to overfitting\n"
      ]
    },
    {
      "cell_type": "markdown",
      "metadata": {
        "id": "9tbWvNVrHGHH"
      },
      "source": [
        "\n",
        "**Bidirectional RNNs on text data**\n",
        "\n",
        "- bidirectional RNNs are a great fit for text data, or any other kind of data where order matters, yet where which order you use doesn’t matter.\n",
        "- for a while in 2016, bidirectional LSTMs were considered the state of the art on many natural language processing tasks (before the rise of the Transformer architecture)."
      ]
    },
    {
      "cell_type": "markdown",
      "metadata": {
        "id": "SYXjZarozL4R"
      },
      "source": [
        "### Going even further\n",
        "\n",
        "- Adjust the number of units in each recurrent layer in the stacked setup, as well as the amount of dropout.\n",
        "- Adjust the learning rate used by the `RMSprop` optimizer, or try a different optimizer.\n",
        "- Try using a stack of `Dense` layers as the regressor on top of the recurrent layer, instead of a single `Dense` layer.\n",
        "- Improve the input to the model: try using longer or shorter sequences or a different sampling rate, or start doing feature engineering."
      ]
    },
    {
      "cell_type": "markdown",
      "metadata": {
        "id": "dWBhUtixzL4S"
      },
      "source": [
        "## Summary\n",
        "\n",
        "- when approaching a new problem, it’s good to first establish common-sense baselines for your metric of choice. If you don’t have a baseline to beat, you can’t tell whether you’re making real progress.\n",
        "- Try simple models before expensive ones, to make sure the additional expense is justified. Sometimes a simple model will turn out to be your best option.\n",
        "- When you have data where ordering matters, and in particular for timeseries data, recurrent networks are a great fit and easily outperform models that first flat- ten the temporal data.\n",
        "- The two essential RNN layers available in Keras are the LSTM layer and the GRU layer.\n",
        "- To use dropout with recurrent networks, you should use a time-constant dropout mask and recurrent dropout mask. These are built into Keras recurrent layers, so all you have to do is use the `recurrent_dropout` arguments of recurrent layers.\n",
        "- Stacked RNNs provide more representational power than a single RNN layer. They’re also much more expensive and thus not always worth it. Although they offer clear gains on complex problems (such as machine translation), they may not always be relevant to smaller, simpler problems."
      ]
    }
  ],
  "metadata": {
    "colab": {
      "provenance": []
    },
    "kernelspec": {
      "display_name": "Python 3",
      "language": "python",
      "name": "python3"
    },
    "language_info": {
      "codemirror_mode": {
        "name": "ipython",
        "version": 3
      },
      "file_extension": ".py",
      "mimetype": "text/x-python",
      "name": "python",
      "nbconvert_exporter": "python",
      "pygments_lexer": "ipython3",
      "version": "3.7.0"
    }
  },
  "nbformat": 4,
  "nbformat_minor": 0
}