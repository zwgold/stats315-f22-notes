{
  "cells": [
    {
      "cell_type": "markdown",
      "metadata": {
        "id": "MhIU9gBro-7S"
      },
      "source": [
        "**Notebook credit**: based on the F. Chollet's original notebook [here](https://github.com/fchollet/deep-learning-with-python-notebooks/blob/master/chapter03_introduction-to-keras-and-tf.ipynb)."
      ]
    },
    {
      "cell_type": "markdown",
      "metadata": {
        "id": "TYRiFDWLoPv2"
      },
      "source": [
        "# Introduction to Keras and TensorFlow"
      ]
    },
    {
      "cell_type": "markdown",
      "metadata": {
        "id": "8kiYnjerqz7q"
      },
      "source": [
        "## The Python landscape for machine learning and deep learning\n",
        "\n",
        "- [Python](https://www.python.org/) is an interpreted high-level general-purpose programming language.\n",
        "- [NumPy](https://numpy.org/) is a Python library for manipulating multi-dimensional arrays and matrices. Allows Python to be used for numerical computing.\n",
        "- [Matplotlib](https://matplotlib.org/) is a Python library for creating plots. Works nicely with NumPy. Its `pyplot` module provides a MATLAB like interface.\n",
        "- [Scikit-learn](https://scikit-learn.org/) is a Python library built on top of NumPy and Matplotlib. This is the main library for machine learning especially for methods not based on neural networks.\n",
        "- [TensorFlow](https://www.tensorflow.org/) is a Python library developed by Google for training deep learning models on CPUs, GPUs, and TPUs. TF2 was released in 2019.\n",
        "- [Keras](https://keras.io/) is built on top of TensorFlow and provides consistent & simple APIs, minimizes the number of user actions required for common use cases, and provides clear & actionable error messages. The author of Keras, Francois Chollet, is also the author of the book *Deep Learning with Python* (2nd ed).\n",
        "\n",
        "\n"
      ]
    },
    {
      "cell_type": "markdown",
      "metadata": {
        "id": "GRZBeVwkoPv3"
      },
      "source": [
        "## What's TensorFlow?\n",
        "\n",
        "Like NumPy, TF's main purpose is to enable engineers/researchers to manipulate numerical tensors. But TensorFlow goes far beyond the scope of NumPy:\n",
        "\n",
        "- It can *automatically compute the gradient* of any differentiable expression, making it highly suitable for machine learning.\n",
        "- It *can run not only on CPUs, but also on GPUs and TPUs*, highly parallel hardware accelerators.\n",
        "- Computation defined in TensorFlow can be *easily distributed across many machines*.\n",
        "- TensorFlow programs *can be exported to other runtimes*, such as C++, JavaScript (for browser-based applications), or TensorFlow Lite (for applications running on mobile devices or embedded devices), etc. This makes TensorFlow applications easy to deploy in practical settings.\n",
        "\n",
        "More than just a library, TF is an ecosystem. For example, there is:\n",
        "\n",
        "- TF-Agents for reinforcement learning research\n",
        "- TensorFlow Hub for pretrained models\n",
        "- TensorFlow Quantum for quantum machine learning"
      ]
    },
    {
      "cell_type": "markdown",
      "metadata": {
        "id": "6bn7FF4moPv3"
      },
      "source": [
        "## What's Keras?\n",
        "\n",
        "<img src=\"https://github.com/ambujtewari/stats315-winter2022/raw/main/images/keras_and_tf.png\" alt=\"picture\" width=\"800\">"
      ]
    },
    {
      "cell_type": "markdown",
      "metadata": {
        "id": "JO50Df0joPv4"
      },
      "source": [
        "## Keras and TensorFlow: A brief history\n",
        "\n",
        "- Keras first released March 2015\n",
        "- TF first released November 2015\n",
        "- Keras originally built on top of Theano, a precursor of TF\n",
        "- In late 2015, Keras refactored to allow multiple backend: Theano or TF\n",
        "- In 2017, CNTK (Microsoft) and MXNet (Amazon) were added as backends\n",
        "- 2016-2017: Keras becomes well-known as a user-friendly way to develop TF applications\n",
        "- By late 2017, majority of TF users are using Kera\n",
        "- In 2018, TF leadership decides to pick Keras as TF's official high-level API\n",
        "- Keras API is front and center in TensorFlow 2.0, released in September 2019\n",
        "\n",
        "\n",
        "Nowadays, both Theano and CNTK are out of development, and MXNet is not widely used outside of Amazon. Keras is back to being a single-backend API—on top of TensorFlow."
      ]
    },
    {
      "cell_type": "markdown",
      "metadata": {
        "id": "k_o7WyoLoPv4"
      },
      "source": [
        "## Setting up a deep-learning workspace\n",
        "\n",
        "- Recommended, although not strictly necessary, that you run deep learning code on a modern NVIDIA GPU\n",
        "- Some applications will be excruciatingly slow on CPU\n",
        "- Even for applications that can be run on CPU, you’ll generally see the speed-up of 5x-10x by using GPU\n",
        "\n",
        "To do deep learning on a GPU, you have three options:\n",
        "1. Buy and install a physical NVIDIA GPU on your workstation.\n",
        "2. Use GPU instances on Google Cloud or AWS EC2.\n",
        "3. Use the free GPU runtime from Colaboratory (Colab), a hosted notebook service offered by Google \n",
        "\n",
        "In 315, we will use option no. 3. \n",
        "\n",
        "- Colaboratory is the easiest way to get started\n",
        "- Requires no hardware purchase and no software installation—just open a tab in your browser and start coding\n",
        "- Free version of Colab is only suitable for small workloads"
      ]
    },
    {
      "cell_type": "markdown",
      "metadata": {
        "id": "tB9_iEEZoPv4"
      },
      "source": [
        "### Jupyter notebooks: The preferred way to run deep-learning experiments\n",
        "\n",
        "- They’re widely used in the data science and machine learning communities.\n",
        "- It mixes the ability to execute Python (and many other supported languages including R and Julia) code with rich text-editing capabilities\n",
        "- Allows you to break up long experiments into smaller pieces that can be executed independently\n",
        "  - makes development interactive\n",
        "  - you don’t have to rerun all previous code if something goes wrong later\n",
        "\n",
        "Regarding origin of the name \"Jupyter\":\n",
        "\n",
        "\n",
        "> The name “Jupyter” is a strong reference to Galileo, who detailed his discovery of the Moons of Jupiter in his astronomical notebooks. The name is also a play on the languages Julia, Python, and R, which are pillars of the modern scientific world. [source](https://blog.jupyter.org/i-python-you-r-we-julia-baf064ca1fb6)\n",
        "\n"
      ]
    },
    {
      "cell_type": "markdown",
      "metadata": {
        "id": "WAv41tgSoPv5"
      },
      "source": [
        "### Using Colaboratory"
      ]
    },
    {
      "cell_type": "markdown",
      "metadata": {
        "id": "ZKzpdcK0oPv5"
      },
      "source": [
        "#### First steps with Colaboratory\n",
        "\n",
        "- Code cells: Shift+Enter will execute them\n",
        "- Text cells: Shift+Enter will render them. Can use [markdown and HTML](https://jupyter-notebook.readthedocs.io/en/stable/examples/Notebook/Working%20With%20Markdown%20Cells.html). Plus you can use LaTeX to typeset equations like $e^{i \\pi} + 1 = 0$"
      ]
    },
    {
      "cell_type": "markdown",
      "metadata": {
        "id": "zZ26qzY4oPv6"
      },
      "source": [
        "#### Installing packages with pip\n",
        "\n",
        "Colab has many packages including TensorFlow and Keras. A command in a code cell that begins with an exclamation mark passes the command to the shell."
      ]
    },
    {
      "cell_type": "code",
      "execution_count": null,
      "metadata": {
        "colab": {
          "base_uri": "https://localhost:8080/"
        },
        "id": "QnVpX5-pZ1-L",
        "outputId": "7d541d9c-d7aa-4842-ab0e-401ca2658107"
      },
      "outputs": [
        {
          "output_type": "stream",
          "name": "stdout",
          "text": [
            "keras                         2.8.0                        /usr/local/lib/python3.7/dist-packages pip\n",
            "keras-vis                     0.4.1                        /usr/local/lib/python3.7/dist-packages pip\n",
            "tensorflow                    2.8.2+zzzcolab20220719082949 /usr/local/lib/python3.7/dist-packages pip\n",
            "tensorflow-datasets           4.6.0                        /usr/local/lib/python3.7/dist-packages pip\n",
            "tensorflow-estimator          2.8.0                        /usr/local/lib/python3.7/dist-packages pip\n",
            "tensorflow-gcs-config         2.8.0                        /usr/local/lib/python3.7/dist-packages pip\n",
            "tensorflow-hub                0.12.0                       /usr/local/lib/python3.7/dist-packages pip\n",
            "tensorflow-io-gcs-filesystem  0.26.0                       /usr/local/lib/python3.7/dist-packages pip\n",
            "tensorflow-metadata           1.10.0                       /usr/local/lib/python3.7/dist-packages pip\n",
            "tensorflow-probability        0.16.0                       /usr/local/lib/python3.7/dist-packages pip\n"
          ]
        }
      ],
      "source": [
        "!pip list -v | grep \"keras\\|tensorflow\""
      ]
    },
    {
      "cell_type": "markdown",
      "metadata": {
        "id": "u5SHDAh8ai7x"
      },
      "source": [
        "If a package you need isn't installed you can install it using\n",
        "```\n",
        "!pip install <package-name>\n",
        "```\n",
        "but note that the installation will have to be repeated each time the notebook is run."
      ]
    },
    {
      "cell_type": "markdown",
      "metadata": {
        "id": "A0wg3xv5oPv9"
      },
      "source": [
        "#### Using the GPU runtime\n",
        "\n",
        "To use the GPU runtime with Colab, select `Runtime > Change Runtime Type` in the menu and select GPU for the Hardware Accelerator "
      ]
    },
    {
      "cell_type": "code",
      "execution_count": null,
      "metadata": {
        "colab": {
          "base_uri": "https://localhost:8080/"
        },
        "id": "BVJsqzVk6j4T",
        "outputId": "cd791e7c-96eb-4ac0-aac8-9a98607d7f00"
      },
      "outputs": [
        {
          "output_type": "stream",
          "name": "stdout",
          "text": [
            "Num GPUs Available:  1\n"
          ]
        }
      ],
      "source": [
        "import tensorflow as tf\n",
        "print(\"Num GPUs Available: \", len(tf.config.list_physical_devices('GPU')))"
      ]
    },
    {
      "cell_type": "markdown",
      "metadata": {
        "id": "Xuld6yLBoPv-"
      },
      "source": [
        "## First steps with TensorFlow\n",
        "\n",
        "Training a neural network revolves around the following concepts:\n",
        "\n",
        "First, low-level tensor manipulations which translate to TensorFlow APIs:\n",
        "- *Tensors*, including special tensors that store the network’s state (variables)\n",
        "- *Tensor operations* such as addition, `relu`, `matmul`\n",
        "- *Backpropagation*, a way to compute the gradient of mathematical expressions (handled in TensorFlow via the `GradientTape` object)\n",
        "\n",
        "Second, high-level deep learning concepts which translate to Keras APIs:\n",
        "- *Layers*, which are combined into a *model*\n",
        "- A *loss function*, which is used by the optimizer to assess how good a model is\n",
        "- An *optimizer*, which determines how learning proceeds\n",
        "- *Metrics* to evaluate model performance, such as accuracy\n",
        "- A *training loop* that performs mini-batch stochastic gradient descent"
      ]
    },
    {
      "cell_type": "markdown",
      "metadata": {
        "id": "lZEBqulloPv-"
      },
      "source": [
        "#### Constant tensors and variables"
      ]
    },
    {
      "cell_type": "markdown",
      "metadata": {
        "id": "Y9gImRXMoPv-"
      },
      "source": [
        "**All-ones or all-zeros tensors**"
      ]
    },
    {
      "cell_type": "code",
      "execution_count": null,
      "metadata": {
        "colab": {
          "base_uri": "https://localhost:8080/"
        },
        "id": "GpYd9w9ioPv_",
        "outputId": "a981736b-457a-41c0-d4bc-a76b30d40342"
      },
      "outputs": [
        {
          "output_type": "stream",
          "name": "stdout",
          "text": [
            "tf.Tensor(\n",
            "[[1.]\n",
            " [1.]], shape=(2, 1), dtype=float32)\n"
          ]
        }
      ],
      "source": [
        "x = tf.ones(shape=(2, 1)) # NumPy equivalent: np.ones(shape=(2, 1))\n",
        "print(x)"
      ]
    },
    {
      "cell_type": "code",
      "execution_count": null,
      "metadata": {
        "colab": {
          "base_uri": "https://localhost:8080/"
        },
        "id": "6D7Uu0GIoPwA",
        "outputId": "ee2ee0a2-b82d-45ef-c977-b910f2de2ef5"
      },
      "outputs": [
        {
          "output_type": "stream",
          "name": "stdout",
          "text": [
            "tf.Tensor(\n",
            "[[0.]\n",
            " [0.]], shape=(2, 1), dtype=float32)\n"
          ]
        }
      ],
      "source": [
        "x = tf.zeros(shape=(2, 1)) # NumPy equivalent: np.zeros(shape=(2, 1))\n",
        "print(x)"
      ]
    },
    {
      "cell_type": "markdown",
      "metadata": {
        "id": "JN2t9H_280nx"
      },
      "source": []
    },
    {
      "cell_type": "markdown",
      "metadata": {
        "id": "w4gqhXOyoPwA"
      },
      "source": [
        "**Random tensors**"
      ]
    },
    {
      "cell_type": "code",
      "execution_count": null,
      "metadata": {
        "colab": {
          "base_uri": "https://localhost:8080/"
        },
        "id": "W0Cy91nKoPwA",
        "outputId": "c6ad52b9-bf90-4da3-ddf5-05392fd9b402"
      },
      "outputs": [
        {
          "output_type": "stream",
          "name": "stdout",
          "text": [
            "tf.Tensor(\n",
            "[[ 0.11527838]\n",
            " [-0.8684262 ]\n",
            " [ 0.89077747]], shape=(3, 1), dtype=float32)\n"
          ]
        }
      ],
      "source": [
        "x = tf.random.normal(shape=(3, 1), mean=0., stddev=1.)\n",
        "print(x)"
      ]
    },
    {
      "cell_type": "code",
      "execution_count": null,
      "metadata": {
        "colab": {
          "base_uri": "https://localhost:8080/"
        },
        "id": "hn2-26sSoPwB",
        "outputId": "42bf7889-5804-40f6-87fe-0d137a550599"
      },
      "outputs": [
        {
          "output_type": "stream",
          "name": "stdout",
          "text": [
            "tf.Tensor(\n",
            "[[0.80319   ]\n",
            " [0.69009256]\n",
            " [0.5691396 ]], shape=(3, 1), dtype=float32)\n"
          ]
        }
      ],
      "source": [
        "x = tf.random.uniform(shape=(3, 1), minval=0., maxval=1.)\n",
        "print(x)"
      ]
    },
    {
      "cell_type": "markdown",
      "metadata": {
        "id": "QhFr8xx49Asg"
      },
      "source": [
        "**NumPy compatibility**\n",
        "\n",
        "Converting between a TensorFlow tf.Tensors and a NumPy ndarray is easy:\n",
        "\n",
        "- TensorFlow operations automatically convert NumPy ndarrays to Tensors.\n",
        "- NumPy operations automatically convert Tensors to NumPy ndarrays.\n",
        "- Tensors are explicitly converted to NumPy ndarrays using their `.numpy()` method. "
      ]
    },
    {
      "cell_type": "code",
      "execution_count": null,
      "metadata": {
        "colab": {
          "base_uri": "https://localhost:8080/"
        },
        "id": "DHmr9Itk9Pfh",
        "outputId": "06a55bd0-6657-4a55-b1d3-d95e7eca7bca"
      },
      "outputs": [
        {
          "output_type": "stream",
          "name": "stdout",
          "text": [
            "TensorFlow operations convert numpy arrays to Tensors automatically\n",
            "tf.Tensor(\n",
            "[[42. 42. 42.]\n",
            " [42. 42. 42.]\n",
            " [42. 42. 42.]], shape=(3, 3), dtype=float64)\n",
            "And NumPy operations convert Tensors to numpy arrays automatically\n",
            "[[43. 43. 43.]\n",
            " [43. 43. 43.]\n",
            " [43. 43. 43.]]\n",
            "The .numpy() method explicitly converts a Tensor to a numpy array\n",
            "[[42. 42. 42.]\n",
            " [42. 42. 42.]\n",
            " [42. 42. 42.]]\n"
          ]
        }
      ],
      "source": [
        "import numpy as np\n",
        "\n",
        "ndarray = np.ones([3, 3])\n",
        "\n",
        "print(\"TensorFlow operations convert numpy arrays to Tensors automatically\")\n",
        "tensor = tf.multiply(ndarray, 42)\n",
        "print(tensor)\n",
        "\n",
        "\n",
        "print(\"And NumPy operations convert Tensors to numpy arrays automatically\")\n",
        "print(np.add(tensor, 1))\n",
        "\n",
        "print(\"The .numpy() method explicitly converts a Tensor to a numpy array\")\n",
        "print(tensor.numpy())"
      ]
    },
    {
      "cell_type": "markdown",
      "metadata": {
        "id": "x9PtOlYToPwB"
      },
      "source": [
        "**NumPy arrays are assignable**"
      ]
    },
    {
      "cell_type": "code",
      "execution_count": null,
      "metadata": {
        "id": "Md2wWBtIoPwB",
        "colab": {
          "base_uri": "https://localhost:8080/"
        },
        "outputId": "8076781c-42a8-47d7-cb2a-098413ca6468"
      },
      "outputs": [
        {
          "output_type": "stream",
          "name": "stdout",
          "text": [
            "[[1. 1.]\n",
            " [1. 1.]]\n",
            "[[0. 1.]\n",
            " [1. 1.]]\n"
          ]
        }
      ],
      "source": [
        "import numpy as np\n",
        "x = np.ones(shape=(2, 2))\n",
        "print(x)\n",
        "x[0, 0] = 0.\n",
        "print(x)"
      ]
    },
    {
      "cell_type": "markdown",
      "metadata": {
        "id": "BX8ULxgx9wbO"
      },
      "source": [
        "**TensorFlow tensors are not assignable**"
      ]
    },
    {
      "cell_type": "code",
      "execution_count": null,
      "metadata": {
        "colab": {
          "base_uri": "https://localhost:8080/"
        },
        "id": "mJAwYiJh9y-7",
        "outputId": "26c4cd4d-8580-4a4e-d9c6-98df4899986e"
      },
      "outputs": [
        {
          "output_type": "stream",
          "name": "stdout",
          "text": [
            "'tensorflow.python.framework.ops.EagerTensor' object does not support item assignment\n"
          ]
        }
      ],
      "source": [
        "try:\n",
        "  x = tf.ones(shape=(2, 2))\n",
        "  x[0, 0] = 0\n",
        "except Exception as e:\n",
        "  print(e)"
      ]
    },
    {
      "cell_type": "markdown",
      "metadata": {
        "id": "nBVQbEmHoPwB"
      },
      "source": [
        "**Creating a TensorFlow variable**"
      ]
    },
    {
      "cell_type": "code",
      "execution_count": null,
      "metadata": {
        "colab": {
          "base_uri": "https://localhost:8080/"
        },
        "id": "AIdTiStnoPwB",
        "outputId": "f6d45593-6225-48fa-8ec6-417c04e07b86"
      },
      "outputs": [
        {
          "output_type": "stream",
          "name": "stdout",
          "text": [
            "<tf.Variable 'Variable:0' shape=(3, 1) dtype=float32, numpy=\n",
            "array([[ 0.42819586],\n",
            "       [-0.9488395 ],\n",
            "       [-2.1385052 ]], dtype=float32)>\n"
          ]
        }
      ],
      "source": [
        "v = tf.Variable(initial_value=tf.random.normal(shape=(3, 1)))\n",
        "print(v)"
      ]
    },
    {
      "cell_type": "markdown",
      "metadata": {
        "id": "DdLQQk9aoPwC"
      },
      "source": [
        "**Assigning a value to a TensorFlow variable**"
      ]
    },
    {
      "cell_type": "code",
      "execution_count": null,
      "metadata": {
        "colab": {
          "base_uri": "https://localhost:8080/"
        },
        "id": "fcBW3xCZoPwC",
        "outputId": "b58e734a-4917-4961-d1fb-494d63b584eb"
      },
      "outputs": [
        {
          "output_type": "execute_result",
          "data": {
            "text/plain": [
              "<tf.Variable 'UnreadVariable' shape=(3, 1) dtype=float32, numpy=\n",
              "array([[1.],\n",
              "       [1.],\n",
              "       [1.]], dtype=float32)>"
            ]
          },
          "metadata": {},
          "execution_count": 11
        }
      ],
      "source": [
        "v.assign(tf.ones((3, 1)))"
      ]
    },
    {
      "cell_type": "markdown",
      "metadata": {
        "id": "KTrZFGqpoPwC"
      },
      "source": [
        "**Assigning a value to a subset of a TensorFlow variable**"
      ]
    },
    {
      "cell_type": "code",
      "execution_count": null,
      "metadata": {
        "colab": {
          "base_uri": "https://localhost:8080/"
        },
        "id": "oQb7xB-FoPwC",
        "outputId": "156a83ef-10e4-4642-eda8-4dff4adc5151"
      },
      "outputs": [
        {
          "output_type": "execute_result",
          "data": {
            "text/plain": [
              "<tf.Variable 'UnreadVariable' shape=(3, 1) dtype=float32, numpy=\n",
              "array([[3.],\n",
              "       [1.],\n",
              "       [1.]], dtype=float32)>"
            ]
          },
          "metadata": {},
          "execution_count": 12
        }
      ],
      "source": [
        "v[0, 0].assign(3.)"
      ]
    },
    {
      "cell_type": "markdown",
      "metadata": {
        "id": "f8O-h1KVoPwC"
      },
      "source": [
        "**Using `assign_add`**"
      ]
    },
    {
      "cell_type": "code",
      "execution_count": null,
      "metadata": {
        "colab": {
          "base_uri": "https://localhost:8080/"
        },
        "id": "3GIvdBisoPwC",
        "outputId": "e0c9e8ce-2a51-4339-b905-7f8060577316"
      },
      "outputs": [
        {
          "output_type": "execute_result",
          "data": {
            "text/plain": [
              "<tf.Variable 'UnreadVariable' shape=(3, 1) dtype=float32, numpy=\n",
              "array([[4.],\n",
              "       [2.],\n",
              "       [2.]], dtype=float32)>"
            ]
          },
          "metadata": {},
          "execution_count": 13
        }
      ],
      "source": [
        "v.assign_add(tf.ones((3, 1)))"
      ]
    },
    {
      "cell_type": "markdown",
      "metadata": {
        "id": "HJJhIhMQ-lXq"
      },
      "source": [
        "**Using `assign_sub`**"
      ]
    },
    {
      "cell_type": "code",
      "execution_count": null,
      "metadata": {
        "colab": {
          "base_uri": "https://localhost:8080/"
        },
        "id": "8jVv4CLa-lfj",
        "outputId": "e795facb-40ba-4a2c-d4b1-59afd950beeb"
      },
      "outputs": [
        {
          "output_type": "execute_result",
          "data": {
            "text/plain": [
              "<tf.Variable 'UnreadVariable' shape=(3, 1) dtype=float32, numpy=\n",
              "array([[3.],\n",
              "       [1.],\n",
              "       [1.]], dtype=float32)>"
            ]
          },
          "metadata": {},
          "execution_count": 14
        }
      ],
      "source": [
        "v.assign_sub(tf.ones((3, 1)))"
      ]
    },
    {
      "cell_type": "markdown",
      "metadata": {
        "id": "GImF32-5oPwC"
      },
      "source": [
        "#### Tensor operations: Doing math in TensorFlow\n",
        "\n",
        "Like NumPy, TensorFlow offers many math operations on tensors"
      ]
    },
    {
      "cell_type": "markdown",
      "metadata": {
        "id": "iIC6_XqLoPwD"
      },
      "source": [
        "**A few basic math operations**"
      ]
    },
    {
      "cell_type": "code",
      "execution_count": null,
      "metadata": {
        "colab": {
          "base_uri": "https://localhost:8080/"
        },
        "id": "6CYejKWBoPwD",
        "outputId": "34abe2cb-497a-4840-de59-9100f9a6531c"
      },
      "outputs": [
        {
          "output_type": "stream",
          "name": "stdout",
          "text": [
            "a=\n",
            " tf.Tensor(\n",
            "[[1. 1.]\n",
            " [1. 1.]], shape=(2, 2), dtype=float32)\n",
            "b=\n",
            " tf.Tensor(\n",
            "[[1. 1.]\n",
            " [1. 1.]], shape=(2, 2), dtype=float32)\n",
            "c=\n",
            " tf.Tensor(\n",
            "[[1. 1.]\n",
            " [1. 1.]], shape=(2, 2), dtype=float32)\n",
            "d=\n",
            " tf.Tensor(\n",
            "[[2. 2.]\n",
            " [2. 2.]], shape=(2, 2), dtype=float32)\n",
            "e=\n",
            " tf.Tensor(\n",
            "[[2. 2.]\n",
            " [2. 2.]], shape=(2, 2), dtype=float32)\n",
            "e=\n",
            " tf.Tensor(\n",
            "[[4. 4.]\n",
            " [4. 4.]], shape=(2, 2), dtype=float32)\n"
          ]
        }
      ],
      "source": [
        "a = tf.ones((2, 2))\n",
        "print(\"a=\\n\", a)\n",
        "b = tf.square(a)    # elementwise square\n",
        "print(\"b=\\n\", b)\n",
        "c = tf.sqrt(a)      # elementwise square root\n",
        "print(\"c=\\n\", c)\n",
        "d = b + c           # elementwise sum\n",
        "print(\"d=\\n\", d)\n",
        "e = tf.matmul(a, b) # matrix multiplication\n",
        "print(\"e=\\n\", e)\n",
        "e *= d              # elementwise multiplication\n",
        "print(\"e=\\n\", e)"
      ]
    },
    {
      "cell_type": "markdown",
      "metadata": {
        "id": "GoslTSOsoPwD"
      },
      "source": [
        "#### The GradientTape API"
      ]
    },
    {
      "cell_type": "markdown",
      "metadata": {
        "id": "HlguoYgWXG48"
      },
      "source": [
        "**Backpropagation**\n",
        "\n",
        "Training a model via (minibatch stochastic) gradient descent involves computing gradients of the loss function w.r.t. model parameters. For example, consider the following two dense layer architecture (don't worry if you don't understand everything, we'll introduce Keras fundamentals soon!)\n",
        "\n",
        "```\n",
        "from tensorflow import keras\n",
        "from tensorflow.keras import layers\n",
        "model = keras.Sequential([\n",
        "    layers.Dense(512, activation=\"relu\"),\n",
        "    layers.Dense(10, activation=\"softmax\")\n",
        "])\n",
        "```\n",
        "\n",
        "Let `W1, b1, W2, b2` represent the weights and biases inside the two layers. Then the loss value could be expressed in code as\n",
        "\n",
        "```\n",
        "loss_value = loss(y_true, softmax(dot(relu(dot(inputs, W1) + b1), W2) + b2))\n",
        "```\n",
        "\n",
        "Since all functions involved above--`loss`, `softmax`, matrix multiplication, and `relu`--are differentiable (the `relu` case is not entirely straightforward, we can discuss more if there's interest), we can use _chain rule_ to compute the derivate of `loss_value` w.r.t. model parameters.\n",
        "\n",
        "**Backpropagation**: application of chain rule to the computation of the gradient values of a neural network"
      ]
    },
    {
      "cell_type": "markdown",
      "metadata": {
        "id": "EViJLjGialPB"
      },
      "source": [
        "**Automatic differentiation with computation graphs**\n",
        "\n",
        "Below is the computation graph of the simple two layer NN we saw above.\n",
        "\n",
        "<img src=\"https://github.com/ambujtewari/stats315-winter2022/raw/main/images/computation_graph_example.png\" alt=\"picture\" height=\"500\">\n",
        "\n",
        "- _Computation graph_ is a data structure at the heart of TensorFlow\n",
        "- Computation graphs enable us to _treat computation as data_\n",
        "- An _automatic differentiation_ program receives a computation graph as input and can automatically generate the derivative of the expression it represents"
      ]
    },
    {
      "cell_type": "markdown",
      "metadata": {
        "id": "oxqOcGOLfmjd"
      },
      "source": [
        "Let's consider a simplified version of the above figure:\n",
        "\n",
        "<img src=\"https://github.com/ambujtewari/stats315-winter2022/raw/main/images/computation_graph_simple.png\" alt=\"picture\" height=\"400\">\n",
        "\n",
        "```\n",
        "x1 = w * x\n",
        "x2 = x1 + b\n",
        "loss_val = abs(y_true - x2)\n",
        "```\n",
        "\n",
        "- we have only one layer\n",
        "- all variables are scalars\n",
        "- we will use absolute value error: `loss_val = abs(y_true - x2)`\n",
        "- we are interested in computing `grad(loss_val, b)` and `grad(loss _val, w)`\n",
        "\n",
        "Suppose `x = 2`, `y_true = 4` and we want to evaluate the derivatives at `w = 3` and `b = 1`.\n"
      ]
    },
    {
      "cell_type": "markdown",
      "metadata": {
        "id": "oig1sWtWgmPo"
      },
      "source": [
        "Let's first do it \"by hand\".\n",
        "\n",
        "$f(w,b) = |y_{true} - (wx + b)| = |4 - (2w + b)|$\n",
        "\n",
        "**Diff. w.r.t. w**\n",
        "\n",
        "$f(w) = |4 - (2w + 1)| = g(h(H(w)))$ where $g(u) = |4-u|, h(u) = u+1, H(u) = 2u$\n",
        "\n",
        "$ \\frac{\\partial f}{\\partial w} = g'(h(H(w))) \\times h'(H(w)) \\times H'(w) = g'(7) \\times h'(6) \\times H'(3) = 1 \\times 1 \\times 2 = 2$\n",
        "\n",
        "**Diff. w.r.t. b**\n",
        "\n",
        "$f(b) = |4 - (6 + b)| = g(h(b))$ where $g(u) = |4-u|, h(u) = 6+u$\n",
        "\n",
        "$ \\frac{\\partial f}{\\partial b} = g'(h(b)) \\times h'(b) = g'(7) \\times h'(1) = 1 \\times 1 = 1$"
      ]
    },
    {
      "cell_type": "markdown",
      "metadata": {
        "id": "GtSTdvulUxed"
      },
      "source": [
        "Forward pass:\n",
        "\n",
        "```\n",
        "x1 = w * x = 3 * 2 = 6\n",
        "x2 = x1 + b = 6 + 1 = 7\n",
        "loss_val = abs(y_true - x2) = abs(4-7) = 3\n",
        "```\n",
        "\n",
        "<img src=\"https://github.com/ambujtewari/stats315-winter2022/raw/main/images/forward_pass.png\" alt=\"picture\" height=\"400\">"
      ]
    },
    {
      "cell_type": "markdown",
      "metadata": {
        "id": "zVs0BC-PW-JJ"
      },
      "source": [
        "\n",
        "Backward pass:\n",
        "\n",
        "- `grad(loss_val, x2) = 1` because $\\frac{\\partial|4-x_2|}{\\partial x_2} = 1$ at $x_2 = 7$\n",
        "- `grad(x2,x1)=1` because $\\frac{\\partial (x_1+b)}{\\partial x_1} = 1$ at $x_1 = 6$\n",
        "- `grad(x2,b)=1` because $\\frac{\\partial (x_1+b)}{\\partial b} = 1$ at $b = 1$\n",
        "- `grad(x1,w)=2` because $\\frac{\\partial (w*2)}{\\partial w} = 2$ at $w = 3$\n",
        "\n",
        "<img src=\"https://github.com/ambujtewari/stats315-winter2022/raw/main/images/backward_pass.png\" alt=\"picture\" height=\"400\">"
      ]
    },
    {
      "cell_type": "markdown",
      "metadata": {
        "id": "7sN_ABzrYcMN"
      },
      "source": [
        "`grad(loss_val,w) = grad(loss_val, x2)*grad(x2,x1)*grad(x1,w) = 1 * 1 * 2 = 2`\n",
        "\n",
        "`grad(loss_val,b) = grad(loss_val, x2)*grad(x2,b) = 1*1 = 1`\n",
        "\n",
        "<img src=\"https://github.com/ambujtewari/stats315-winter2022/raw/main/images/path_to_w.png\" alt=\"picture\" height=\"400\">"
      ]
    },
    {
      "cell_type": "markdown",
      "metadata": {
        "id": "Lpr4C-fIoPwD"
      },
      "source": [
        "**Using the `GradientTape`**"
      ]
    },
    {
      "cell_type": "code",
      "execution_count": null,
      "metadata": {
        "colab": {
          "base_uri": "https://localhost:8080/"
        },
        "id": "Y7xSi8Gyadjr",
        "outputId": "346ebbdd-8713-4e29-ddbe-863066c8c3f3"
      },
      "outputs": [
        {
          "output_type": "stream",
          "name": "stdout",
          "text": [
            "deriv of loss_val w.r.t. w =  2.0\n",
            "deriv of loss_val w.r.t. b =  1.0\n",
            "deriv of loss_val w.r.t. x1 =  1.0\n",
            "deriv of loss_val w.r.t. x2 =  1.0\n"
          ]
        }
      ],
      "source": [
        "w = tf.Variable(3.)\n",
        "b = tf.Variable(1.)\n",
        "x = tf.constant(2.)\n",
        "y_true = tf.constant(4.)\n",
        "\n",
        "with tf.GradientTape() as tape:\n",
        "  x1 = w*x\n",
        "  x2 = x1 + b\n",
        "  loss_val = tf.abs(y_true - x2)\n",
        "\n",
        "grad_w, grad_b, grad_x1, grad_x2 = tape.gradient(loss_val, [w, b, x1, x2]) # getting gradients w.r.t. both w and b\n",
        "print(\"deriv of loss_val w.r.t. w = \", grad_w.numpy())\n",
        "print(\"deriv of loss_val w.r.t. b = \", grad_b.numpy())\n",
        "print(\"deriv of loss_val w.r.t. x1 = \", grad_x1.numpy())\n",
        "print(\"deriv of loss_val w.r.t. x2 = \", grad_x2.numpy())"
      ]
    },
    {
      "cell_type": "markdown",
      "metadata": {
        "id": "qIuHlwikcZbY"
      },
      "source": [
        "$r = x^2$\n",
        "\n",
        "$\\frac{dr}{dx} = 2x = 6$ at $x=3$"
      ]
    },
    {
      "cell_type": "code",
      "execution_count": null,
      "metadata": {
        "colab": {
          "base_uri": "https://localhost:8080/"
        },
        "id": "bTopza7boPwD",
        "outputId": "f72fe973-5eec-493b-c714-cc2ea78bbcaf"
      },
      "outputs": [
        {
          "output_type": "stream",
          "name": "stdout",
          "text": [
            "deriv of r w.r.t. x =  6.0\n"
          ]
        }
      ],
      "source": [
        "x = tf.Variable(3.)\n",
        "with tf.GradientTape() as tape:\n",
        "   r = tf.square(x)\n",
        "gradient = tape.gradient(r, x)\n",
        "print(\"deriv of r w.r.t. x = \", gradient.numpy())"
      ]
    },
    {
      "cell_type": "markdown",
      "metadata": {
        "id": "tajGZkbdoPwD"
      },
      "source": [
        "**Using `GradientTape` with constant tensor inputs**\n",
        "\n",
        "- only trainable _variables_ are tracked by default\n",
        "- for a _constant_ tensor, we have to manually mark it as being tracked by calling `tape.watch()` \n",
        "- this is to avoid wasting resources"
      ]
    },
    {
      "cell_type": "code",
      "execution_count": null,
      "metadata": {
        "colab": {
          "base_uri": "https://localhost:8080/"
        },
        "id": "3Qf3r9PhoPwD",
        "outputId": "d1b5a153-0748-4d4e-92a2-f1dd48b855bb"
      },
      "outputs": [
        {
          "output_type": "stream",
          "name": "stdout",
          "text": [
            "deriv of result w.r.t. input_const =  6.0\n"
          ]
        }
      ],
      "source": [
        "input_const = tf.constant(3.)\n",
        "with tf.GradientTape() as tape:\n",
        "   tape.watch(input_const)\n",
        "   result = tf.square(input_const)\n",
        "gradient = tape.gradient(result, input_const)\n",
        "print(\"deriv of result w.r.t. input_const = \", gradient.numpy())"
      ]
    },
    {
      "cell_type": "markdown",
      "metadata": {
        "id": "oJurpyqtoPwE"
      },
      "source": [
        "#### An end-to-end example: A linear classifier in pure TensorFlow"
      ]
    },
    {
      "cell_type": "markdown",
      "metadata": {
        "id": "q2asERcioPwE"
      },
      "source": [
        "**Generating two classes of random points in a 2D plane**"
      ]
    },
    {
      "cell_type": "code",
      "execution_count": null,
      "metadata": {
        "id": "HcqvKL6MoPwE"
      },
      "outputs": [],
      "source": [
        "num_samples_per_class = 1000\n",
        "negative_samples = np.random.multivariate_normal(\n",
        "    mean=[0, 2],\n",
        "    cov=[[1, 0.5],[0.5, 1]],\n",
        "    size=num_samples_per_class)\n",
        "positive_samples = np.random.multivariate_normal(\n",
        "    mean=[2, 0],\n",
        "    cov=[[1, 0.5],[0.5, 1]],\n",
        "    size=num_samples_per_class)"
      ]
    },
    {
      "cell_type": "markdown",
      "metadata": {
        "id": "klap3gDboPwE"
      },
      "source": [
        "**Stacking the two classes into an array with shape (2000, 2)**"
      ]
    },
    {
      "cell_type": "code",
      "execution_count": null,
      "metadata": {
        "id": "PTELfL9joPwE"
      },
      "outputs": [],
      "source": [
        "inputs = np.vstack((negative_samples, positive_samples)).astype(np.float32)"
      ]
    },
    {
      "cell_type": "markdown",
      "metadata": {
        "id": "1509kksyoPwF"
      },
      "source": [
        "**Generating the corresponding targets (0 and 1)**"
      ]
    },
    {
      "cell_type": "code",
      "execution_count": null,
      "metadata": {
        "id": "vpmIpVJ0oPwF"
      },
      "outputs": [],
      "source": [
        "targets = np.vstack((np.zeros((num_samples_per_class, 1), dtype=\"float32\"),\n",
        "                     np.ones((num_samples_per_class, 1), dtype=\"float32\")))"
      ]
    },
    {
      "cell_type": "markdown",
      "metadata": {
        "id": "ohEc6zG-oPwF"
      },
      "source": [
        "**Plotting the two point classes**"
      ]
    },
    {
      "cell_type": "code",
      "execution_count": null,
      "metadata": {
        "colab": {
          "base_uri": "https://localhost:8080/",
          "height": 265
        },
        "id": "Wht4PDt0oPwF",
        "outputId": "da22b8c6-c504-4453-cb91-e579ee3b56c4"
      },
      "outputs": [
        {
          "output_type": "display_data",
          "data": {
            "text/plain": [
              "<Figure size 432x288 with 1 Axes>"
            ],
            "image/png": "[encoded data removed]"
          },
          "metadata": {
            "needs_background": "light"
          }
        }
      ],
      "source": [
        "import matplotlib.pyplot as plt\n",
        "plt.scatter(inputs[:, 0], inputs[:, 1], c=targets[:, 0])\n",
        "plt.show()"
      ]
    },
    {
      "cell_type": "markdown",
      "metadata": {
        "id": "hwD5xwY1oPwF"
      },
      "source": [
        "**Creating the linear classifier variables**"
      ]
    },
    {
      "cell_type": "code",
      "execution_count": null,
      "metadata": {
        "id": "iPospICioPwF"
      },
      "outputs": [],
      "source": [
        "input_dim = 2\n",
        "output_dim = 1\n",
        "W = tf.Variable(initial_value=tf.random.uniform(shape=(input_dim, output_dim)))\n",
        "b = tf.Variable(initial_value=tf.zeros(shape=(output_dim,)))"
      ]
    },
    {
      "cell_type": "markdown",
      "metadata": {
        "id": "wc6qH76BoPwF"
      },
      "source": [
        "**The forward pass function**"
      ]
    },
    {
      "cell_type": "code",
      "execution_count": null,
      "metadata": {
        "id": "yauA6xIXoPwF"
      },
      "outputs": [],
      "source": [
        "def model(inputs):\n",
        "    return tf.matmul(inputs, W) + b"
      ]
    },
    {
      "cell_type": "markdown",
      "metadata": {
        "id": "8-PCXudRoPwG"
      },
      "source": [
        "**The logistic loss function**\n",
        "\n",
        "Note that book's example uses the squared loss function. For true label $y \\in {0,1}$ and model output $o \\in \\mathbb{R}$, squared loss is defined as:\n",
        "\n",
        "$$(y - o)^2 \\ .$$\n",
        "\n",
        "_Question: We studied squared loss in a regression problem. Why is it meaningful to use squared loss in a classification problem?_\n",
        "\n",
        "We will instead use the logistic loss which is defined as\n",
        "\n",
        "$$\\log(1+\\exp(o)) - y \\cdot o \\ .$$\n",
        "\n",
        "This is nothing but the cross-entropy loss in the binary classification case where we use a linear model $o = \\mathbf{w}^T \\mathbf{x} + b$ and convert this output $o$ into a probability using the nonlinear standard logistic map:\n",
        "\n",
        "$$\n",
        "\\hat{y} = \\frac{\\exp(o)}{1 + \\exp(o)} = \\frac{1}{1+\\exp(-o)}\n",
        "$$\n",
        "\n",
        "We can then interpret our overall model as modelling the probability of $y = 1$ given $\\mathbf{x}$ as\n",
        "\n",
        "$$\n",
        "P(y = 1| \\mathbf{x}) = \\frac{\\exp(\\mathbf{w}^T \\mathbf{x}+b)}{1 + \\exp(\\mathbf{w}^T \\mathbf{x}+b)}\n",
        "$$"
      ]
    },
    {
      "cell_type": "code",
      "source": [
        "o = np.linspace(-6, 6, 100)\n",
        "y_hat = 1./(1 + np.exp(-o))\n",
        "plt.plot(o, y_hat, \"-r\")\n",
        "plt.grid()\n",
        "plt.title(\"The standard logistic function\")\n",
        "plt.show()"
      ],
      "metadata": {
        "colab": {
          "base_uri": "https://localhost:8080/",
          "height": 281
        },
        "id": "skMzOgNttTBB",
        "outputId": "2cef8784-b0a2-44cf-861d-99c21c7f8e5c"
      },
      "execution_count": null,
      "outputs": [
        {
          "output_type": "display_data",
          "data": {
            "text/plain": [
              "<Figure size 432x288 with 1 Axes>"
            ],
            "image/png": "[encoded data removed]"
          },
          "metadata": {
            "needs_background": "light"
          }
        }
      ]
    },
    {
      "cell_type": "code",
      "execution_count": null,
      "metadata": {
        "id": "W7YUv_wPoPwG"
      },
      "outputs": [],
      "source": [
        "def logistic_loss(targets, predictions):\n",
        "    per_sample_losses = tf.math.log(1.0 + tf.math.exp(predictions)) - targets * predictions\n",
        "    return tf.reduce_mean(per_sample_losses)"
      ]
    },
    {
      "cell_type": "markdown",
      "metadata": {
        "id": "0QgDKf8ioPwG"
      },
      "source": [
        "**The training step function**"
      ]
    },
    {
      "cell_type": "code",
      "execution_count": null,
      "metadata": {
        "id": "xy3FP1gHoPwG"
      },
      "outputs": [],
      "source": [
        "learning_rate = 0.1\n",
        "\n",
        "def training_step(inputs, targets):\n",
        "    with tf.GradientTape() as tape:\n",
        "        predictions = model(inputs)\n",
        "        loss = logistic_loss(targets, predictions)\n",
        "    grad_loss_wrt_W, grad_loss_wrt_b = tape.gradient(loss, [W, b])\n",
        "    W.assign_sub(grad_loss_wrt_W * learning_rate)\n",
        "    b.assign_sub(grad_loss_wrt_b * learning_rate)\n",
        "    return loss"
      ]
    },
    {
      "cell_type": "markdown",
      "metadata": {
        "id": "gOkShbzooPwG"
      },
      "source": [
        "**The batch training loop**"
      ]
    },
    {
      "cell_type": "code",
      "execution_count": null,
      "metadata": {
        "colab": {
          "base_uri": "https://localhost:8080/"
        },
        "id": "MVK-Lx4ToPwG",
        "outputId": "e2eb0435-df55-4f1a-c8a8-928e694d3afe"
      },
      "outputs": [
        {
          "output_type": "stream",
          "name": "stdout",
          "text": [
            "Loss at step 9: 0.6075\n",
            "Loss at step 19: 0.3661\n",
            "Loss at step 29: 0.2744\n",
            "Loss at step 39: 0.2269\n",
            "Loss at step 49: 0.1976\n",
            "Loss at step 59: 0.1775\n",
            "Loss at step 69: 0.1628\n",
            "Loss at step 79: 0.1516\n"
          ]
        }
      ],
      "source": [
        "for step in range(80):\n",
        "    loss = training_step(inputs, targets)\n",
        "    if (step+1) % 10 == 0:\n",
        "        print(f\"Loss at step {step}: {loss:.4f}\")"
      ]
    },
    {
      "cell_type": "code",
      "execution_count": null,
      "metadata": {
        "colab": {
          "base_uri": "https://localhost:8080/",
          "height": 265
        },
        "id": "WUx3JRpcoPwG",
        "outputId": "9d5fa577-2a2c-4239-b740-df0b781a63ae"
      },
      "outputs": [
        {
          "output_type": "display_data",
          "data": {
            "text/plain": [
              "<Figure size 432x288 with 1 Axes>"
            ],
            "image/png": "[encoded data removed]"
          },
          "metadata": {
            "needs_background": "light"
          }
        }
      ],
      "source": [
        "predictions = model(inputs)\n",
        "plt.scatter(inputs[:, 0], inputs[:, 1], c=predictions[:, 0] > 0)\n",
        "plt.show()"
      ]
    },
    {
      "cell_type": "code",
      "execution_count": null,
      "metadata": {
        "colab": {
          "base_uri": "https://localhost:8080/",
          "height": 282
        },
        "id": "4gAPlvPfoPwG",
        "outputId": "ef2942fe-c57b-463e-8fde-d7743ece2854"
      },
      "outputs": [
        {
          "output_type": "execute_result",
          "data": {
            "text/plain": [
              "[<matplotlib.lines.Line2D at 0x7f0cef381f90>]"
            ]
          },
          "metadata": {},
          "execution_count": 30
        },
        {
          "output_type": "display_data",
          "data": {
            "text/plain": [
              "<Figure size 432x288 with 1 Axes>"
            ],
            "image/png": "[encoded data removed]"
          },
          "metadata": {
            "needs_background": "light"
          }
        }
      ],
      "source": [
        "x = np.linspace(-3, 5, 100)\n",
        "y = - W[0] /  W[1] * x - b / W[1]\n",
        "plt.scatter(inputs[:, 0], inputs[:, 1], c=predictions[:, 0] > 0)\n",
        "plt.plot(x, y, \"-r\")"
      ]
    }
  ],
  "metadata": {
    "colab": {
      "collapsed_sections": [],
      "provenance": []
    },
    "kernelspec": {
      "display_name": "Python 3",
      "language": "python",
      "name": "python3"
    },
    "language_info": {
      "codemirror_mode": {
        "name": "ipython",
        "version": 3
      },
      "file_extension": ".py",
      "mimetype": "text/x-python",
      "name": "python",
      "nbconvert_exporter": "python",
      "pygments_lexer": "ipython3",
      "version": "3.7.0"
    },
    "accelerator": "GPU"
  },
  "nbformat": 4,
  "nbformat_minor": 0
}