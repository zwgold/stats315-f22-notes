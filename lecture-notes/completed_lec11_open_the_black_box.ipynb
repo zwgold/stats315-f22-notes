{
  "nbformat": 4,
  "nbformat_minor": 0,
  "metadata": {
    "colab": {
      "provenance": [],
      "collapsed_sections": []
    },
    "kernelspec": {
      "name": "python3",
      "display_name": "Python 3"
    },
    "language_info": {
      "name": "python"
    }
  },
  "cells": [
    {
      "cell_type": "markdown",
      "source": [
        "Fitting a neural network to MNIST"
      ],
      "metadata": {
        "id": "GKge6kRjTF1V"
      }
    },
    {
      "cell_type": "code",
      "source": [
        "import matplotlib.pyplot as plt\n",
        "import tensorflow as tf\n",
        "from tensorflow import keras\n",
        "from tensorflow.keras import layers\n",
        "import numpy as np"
      ],
      "metadata": {
        "id": "EXZXS6JdTa8O"
      },
      "execution_count": 1,
      "outputs": []
    },
    {
      "cell_type": "code",
      "execution_count": 2,
      "metadata": {
        "id": "ZL0ZZtb_S02o",
        "colab": {
          "base_uri": "https://localhost:8080/"
        },
        "outputId": "9d47e9b2-6729-450d-fae9-ef0eb1325e29"
      },
      "outputs": [
        {
          "output_type": "stream",
          "name": "stdout",
          "text": [
            "Downloading data from https://storage.googleapis.com/tensorflow/tf-keras-datasets/mnist.npz\n",
            "11493376/11490434 [==============================] - 0s 0us/step\n",
            "11501568/11490434 [==============================] - 0s 0us/step\n"
          ]
        }
      ],
      "source": [
        "from tensorflow.keras.datasets import mnist\n",
        "(train_images, train_labels), (test_images, test_labels) = mnist.load_data()"
      ]
    },
    {
      "cell_type": "code",
      "source": [
        "# plot the j-th image\n",
        "j = 991\n",
        "fig = plt.figure\n",
        "plt.imshow(train_images[j], cmap='gray')\n",
        "plt.show()"
      ],
      "metadata": {
        "colab": {
          "base_uri": "https://localhost:8080/",
          "height": 265
        },
        "id": "4yKaiM6nTPM2",
        "outputId": "09e3c856-b2ff-432d-9532-6e38a39e76ae"
      },
      "execution_count": 3,
      "outputs": [
        {
          "output_type": "display_data",
          "data": {
            "text/plain": [
              "<Figure size 432x288 with 1 Axes>"
            ],
            "image/png": "[encoded data removed]"
          },
          "metadata": {
            "needs_background": "light"
          }
        }
      ]
    },
    {
      "cell_type": "code",
      "source": [
        "train_images = train_images.reshape((60000, 28 * 28))\n",
        "train_images = train_images.astype(\"float32\") / 255\n",
        "test_images = test_images.reshape((10000, 28 * 28))\n",
        "test_images = test_images.astype(\"float32\") / 255"
      ],
      "metadata": {
        "id": "gF3XV-jHTZVD"
      },
      "execution_count": 4,
      "outputs": []
    },
    {
      "cell_type": "code",
      "source": [
        "train_images.shape"
      ],
      "metadata": {
        "id": "Z6v8kCEsTlvm",
        "colab": {
          "base_uri": "https://localhost:8080/"
        },
        "outputId": "5ea5e6b0-ccdd-4114-8a99-cb2d5ec11a05"
      },
      "execution_count": 5,
      "outputs": [
        {
          "output_type": "execute_result",
          "data": {
            "text/plain": [
              "(60000, 784)"
            ]
          },
          "metadata": {},
          "execution_count": 5
        }
      ]
    },
    {
      "cell_type": "code",
      "source": [
        "model = keras.Sequential(\n",
        "    [\n",
        "        layers.Dense(512, activation=\"relu\"),\n",
        "        layers.Dense(10, activation=\"softmax\")\n",
        "    ]\n",
        ")"
      ],
      "metadata": {
        "id": "gPpKx1u6ToCV"
      },
      "execution_count": null,
      "outputs": []
    },
    {
      "cell_type": "code",
      "source": [
        "model.compile(optimizer=\"rmsprop\", \\\n",
        "              loss = \"sparse_catergorical_crossentropy\",\n",
        "              metrics=[\"accuracy\"])"
      ],
      "metadata": {
        "id": "C_yvHFjjTp4w"
      },
      "execution_count": null,
      "outputs": []
    },
    {
      "cell_type": "code",
      "source": [
        "model = keras.Sequential(\n",
        "    [\n",
        "        layers.Dense(512, activation='relu'),\n",
        "        layers.Dense(10, activation='softmax')\n",
        "    ]\n",
        ")"
      ],
      "metadata": {
        "id": "rZTUyVFpavb5"
      },
      "execution_count": 7,
      "outputs": []
    },
    {
      "cell_type": "code",
      "source": [
        "model.compile(optimizer='rmsprop', \n",
        "              loss = 'sparse_categorical_crossentropy', \n",
        "              metrics = ['accuracy'])"
      ],
      "metadata": {
        "id": "Hl99kB8Ra2ou"
      },
      "execution_count": 14,
      "outputs": []
    },
    {
      "cell_type": "code",
      "source": [
        "model.fit(train_images, train_labels, epochs=5, batch_size=128)"
      ],
      "metadata": {
        "colab": {
          "base_uri": "https://localhost:8080/"
        },
        "id": "z-Yaca1Ra_7e",
        "outputId": "d322bbd3-a13b-4e76-a4cd-e60dd40fb96d"
      },
      "execution_count": 15,
      "outputs": [
        {
          "output_type": "stream",
          "name": "stdout",
          "text": [
            "Epoch 1/5\n",
            "469/469 [==============================] - 6s 12ms/step - loss: 0.2505 - accuracy: 0.9272\n",
            "Epoch 2/5\n",
            "469/469 [==============================] - 5s 12ms/step - loss: 0.1016 - accuracy: 0.9697\n",
            "Epoch 3/5\n",
            "469/469 [==============================] - 5s 11ms/step - loss: 0.0683 - accuracy: 0.9799\n",
            "Epoch 4/5\n",
            "469/469 [==============================] - 5s 12ms/step - loss: 0.0498 - accuracy: 0.9849\n",
            "Epoch 5/5\n",
            "469/469 [==============================] - 6s 12ms/step - loss: 0.0376 - accuracy: 0.9890\n"
          ]
        },
        {
          "output_type": "execute_result",
          "data": {
            "text/plain": [
              "<keras.callbacks.History at 0x7fbb648477d0>"
            ]
          },
          "metadata": {},
          "execution_count": 15
        }
      ]
    },
    {
      "cell_type": "code",
      "source": [
        "model.predict(test_images)"
      ],
      "metadata": {
        "colab": {
          "base_uri": "https://localhost:8080/"
        },
        "id": "CeYyN29bboCP",
        "outputId": "8a77d214-be44-4d5f-ae05-bf435b87b96b"
      },
      "execution_count": 16,
      "outputs": [
        {
          "output_type": "execute_result",
          "data": {
            "text/plain": [
              "array([[9.1052845e-09, 3.7426461e-11, 1.8570084e-06, ..., 9.9998760e-01,\n",
              "        2.7989442e-08, 1.2365891e-07],\n",
              "       [1.0612247e-10, 4.3609975e-07, 9.9999952e-01, ..., 2.2120263e-18,\n",
              "        1.9425929e-08, 5.3211549e-17],\n",
              "       [7.7594633e-09, 9.9977869e-01, 2.0589710e-05, ..., 9.5653348e-05,\n",
              "        9.0392961e-05, 1.9267237e-07],\n",
              "       ...,\n",
              "       [1.4545377e-13, 3.8362521e-11, 7.7752034e-11, ..., 3.2495332e-06,\n",
              "        3.4104539e-06, 1.8298395e-05],\n",
              "       [3.1098405e-11, 9.4057303e-13, 4.5256994e-14, ..., 7.3526401e-13,\n",
              "        1.5416289e-06, 1.9282322e-14],\n",
              "       [7.1914648e-11, 1.1346526e-17, 6.8140645e-12, ..., 5.1079263e-17,\n",
              "        6.1689201e-13, 1.5669814e-13]], dtype=float32)"
            ]
          },
          "metadata": {},
          "execution_count": 16
        }
      ]
    },
    {
      "cell_type": "markdown",
      "source": [
        "# Reimplementing the model from scratch in TensorFlow"
      ],
      "metadata": {
        "id": "gZtBitYgTrtv"
      }
    },
    {
      "cell_type": "markdown",
      "source": [
        "## A single layer\n",
        "\n",
        "$Z^{[l]} = W^{[l]} A^{[l-1]} + b^{[l]}$\n",
        "\n",
        "$A^{[l]}=g(Z^{[l]})$\n"
      ],
      "metadata": {
        "id": "8RseWjP8UoKQ"
      }
    },
    {
      "cell_type": "code",
      "source": [
        "# compose a single layer\n",
        "class NaiveDense:\n",
        "    def __init__(self, input_size, output_size, activation):\n",
        "        self.activation = activation\n",
        "\n",
        "        w_shape = (input_size, output_size)\n",
        "        w_initial_value = tf.random.uniform(w_shape, minval=0, maxval=1e-1)\n",
        "        self.W = tf.Variable(w_initial_value)\n",
        "\n",
        "        b_shape = (output_size,)\n",
        "        b_initial_value = tf.zeros(b_shape)\n",
        "        self.b = tf.Variable(b_initial_value)\n",
        "\n",
        "    def __call__(self, inputs):\n",
        "        return self.activation(tf.matmul(inputs, self.W) + self.b)\n",
        "\n",
        "    @property\n",
        "    def weights(self):\n",
        "        return [self.W, self.b]"
      ],
      "metadata": {
        "id": "4c1AEeGPTuLK"
      },
      "execution_count": 25,
      "outputs": []
    },
    {
      "cell_type": "markdown",
      "source": [
        "## Compose the layers together\n",
        "\n",
        "Each layer is a function\n",
        "\n",
        "for $l=1,..., L$,\n",
        "\n",
        "$Z^{[l]} = W^{[l]} A^{[l-1]} + b^{[l]}$\n",
        "\n",
        "$A^{[l]}=g(Z^{[l]})$\n",
        "\n",
        "where $A^{[0]} = X$ for the first layer"
      ],
      "metadata": {
        "id": "rNf1VfUxU6Rp"
      }
    },
    {
      "cell_type": "code",
      "source": [
        "# compose the layers together\n",
        "# take layers one by one, appply recursively to layers \n",
        "\n",
        "class NaiveSequential:\n",
        "    def __init__(self, layers):\n",
        "        self.layers = layers\n",
        "\n",
        "    def __call__(self, inputs):\n",
        "        x = inputs\n",
        "        for layer in self.layers:\n",
        "            x = layer(x)\n",
        "        return x\n",
        "\n",
        "    @property\n",
        "    def weights(self):\n",
        "        weights = []\n",
        "        for layer in self.layers:\n",
        "            weights += layer.weights\n",
        "\n",
        "        return weights"
      ],
      "metadata": {
        "id": "ywuX9AYZUe-t"
      },
      "execution_count": 36,
      "outputs": []
    },
    {
      "cell_type": "code",
      "source": [
        "model = NaiveSequential([\n",
        "    NaiveDense(input_size=28 * 28, output_size=512, activation=tf.nn.relu),\n",
        "    NaiveDense(input_size=512, output_size=10, activation=tf.nn.softmax)\n",
        "])"
      ],
      "metadata": {
        "id": "7W5X3IFte4pk"
      },
      "execution_count": 37,
      "outputs": []
    },
    {
      "cell_type": "code",
      "source": [
        "assert len(model.weights) == 4"
      ],
      "metadata": {
        "id": "59uDTp0eVqop"
      },
      "execution_count": 38,
      "outputs": []
    },
    {
      "cell_type": "code",
      "source": [
        "# generate a batch of data\n",
        "import math\n",
        "\n",
        "class BatchGenerator:\n",
        "    def __init__(self, images, labels, batch_size=128):\n",
        "        assert len(images) == len(labels)\n",
        "        self.index = 0\n",
        "        self.images = images\n",
        "        self.labels = labels\n",
        "        self.batch_size = batch_size\n",
        "        self.num_batches = math.ceil(len(images) / batch_size)\n",
        "\n",
        "    def next(self):\n",
        "        images = self.images[self.index : self.index + self.batch_size]\n",
        "        labels = self.labels[self.index : self.index + self.batch_size]\n",
        "        self.index += self.batch_size\n",
        "        return images, labels"
      ],
      "metadata": {
        "id": "DAFuANxoVwWG"
      },
      "execution_count": 39,
      "outputs": []
    },
    {
      "cell_type": "markdown",
      "source": [
        "## Gradient descent for neural networks\n",
        "\n",
        "Hand derivations\n",
        "\n",
        "$dz^{[2]} = a^{[2]} - y$\n",
        "\n",
        "$dW^{[2]} = dz^{[2]} a^{[1]\\top}$\n",
        "\n",
        "$db^{[2]} = dz^{[2]}$\n",
        "\n",
        "$dz^{[1]} = W^{[2]\\top}dz^{[2]}*g^{[1]'}(z^{[1]})$\n",
        "\n",
        "$dW^{[1]} = dz^{[1]} x^{\\top}$\n",
        "\n",
        "$db^{[1]} = dz^{[1]}$\n",
        "\n",
        "Use gradient tape!"
      ],
      "metadata": {
        "id": "VhD5dIoOWX_l"
      }
    },
    {
      "cell_type": "code",
      "source": [
        "def one_training_step(model, images_batch, labels_batch):\n",
        "    with tf.GradientTape() as tape:\n",
        "        predictions = model(images_batch)\n",
        "        per_sample_losses = tf.keras.losses.sparse_categorical_crossentropy(labels_batch, predictions)\n",
        "        average_loss = tf.reduce_mean(per_sample_losses)\n",
        "    gradients = tape.gradient(average_loss, model.weights)\n",
        "    update_weights(gradients, model.weights)\n",
        "    return average_loss"
      ],
      "metadata": {
        "id": "JoDx0yR_V-B8"
      },
      "execution_count": 47,
      "outputs": []
    },
    {
      "cell_type": "markdown",
      "source": [
        "## Gradient descent\n",
        "\n",
        "$W^{[1]} \\leftarrow W^{[1]} - \\alpha \\cdot dW^{[1]}$\n",
        "\n",
        "$W^{[2]} \\leftarrow W^{[2]} - \\alpha \\cdot dW^{[2]}$\n",
        "\n",
        "$b^{[1]} \\leftarrow b^{[1]} - \\alpha \\cdot db^{[1]}$\n",
        "\n",
        "$b^{[2]} \\leftarrow b^{[2]} - \\alpha \\cdot db^{[2]}$"
      ],
      "metadata": {
        "id": "f5WRUGuCXdFW"
      }
    },
    {
      "cell_type": "code",
      "source": [
        "# learning_rate = 1e-3"
      ],
      "metadata": {
        "id": "LeUODv1tZnB0"
      },
      "execution_count": null,
      "outputs": []
    },
    {
      "cell_type": "code",
      "source": [
        "def update_weights(gradients, weights):\n",
        "  for g, w in zip(gradients, weights):\n",
        "    w.assign_sub(g * learning_rate)\n"
      ],
      "metadata": {
        "id": "aHSJpzPQXOqg"
      },
      "execution_count": 41,
      "outputs": []
    },
    {
      "cell_type": "code",
      "source": [
        "# alternative implementation with optimizers\n",
        "from tensorflow.keras import optimizers\n",
        "\n",
        "optimizer = optimizers.SGD(learning_rate = 1e-3)\n",
        "\n",
        "def update_weights(gradients, weights):\n",
        "  optimizer.apply_gradients(zip(gradients, weights))"
      ],
      "metadata": {
        "id": "CI3-gYFgXWjA"
      },
      "execution_count": 42,
      "outputs": []
    },
    {
      "cell_type": "markdown",
      "source": [
        "## The full training loop"
      ],
      "metadata": {
        "id": "NRb7u3x6X_ft"
      }
    },
    {
      "cell_type": "code",
      "source": [
        "def fit(model, images, labels, epochs, batch_size=128):\n",
        "  for epoch_counter in range(epochs):\n",
        "    print(f\"Epoch {epoch_counter}\")\n",
        "    batch_generator = BatchGenerator(images, labels)\n",
        "    for batch_counter in range(batch_generator.num_batches):\n",
        "      images_batch, labels_batch = batch_generator.next()\n",
        "      loss = one_training_step(model, images_batch, labels_batch)\n",
        "      if batch_counter % 100 == 0:\n",
        "        print(f\"loss at batch {batch_counter}: {loss:.2f}\")"
      ],
      "metadata": {
        "id": "tarTgDRXX7jo"
      },
      "execution_count": 49,
      "outputs": []
    },
    {
      "cell_type": "markdown",
      "source": [
        "## Fit the model using our implementation from scratch"
      ],
      "metadata": {
        "id": "lS4DvFWRYCTy"
      }
    },
    {
      "cell_type": "code",
      "source": [
        "from tensorflow.keras.datasets import mnist\n",
        "(train_images, train_labels), (test_images, test_labels) = mnist.load_data()\n",
        "\n",
        "train_images = train_images.reshape((60000, 28 * 28))\n",
        "train_images = train_images.astype(\"float32\") / 255\n",
        "test_images = test_images.reshape((10000, 28 * 28))\n",
        "test_images = test_images.astype(\"float32\") / 255\n",
        "\n",
        "fit(model, train_images, train_labels, epochs=10, batch_size=128)"
      ],
      "metadata": {
        "id": "rpZgjdFFXzSE",
        "colab": {
          "base_uri": "https://localhost:8080/"
        },
        "outputId": "60588738-0250-4a7c-86a2-507c366bb7de"
      },
      "execution_count": 50,
      "outputs": [
        {
          "output_type": "stream",
          "name": "stdout",
          "text": [
            "Epoch 0\n",
            "loss at batch 0: 0.71\n",
            "loss at batch 100: 0.74\n",
            "loss at batch 200: 0.64\n",
            "loss at batch 300: 0.70\n",
            "loss at batch 400: 0.76\n",
            "Epoch 1\n",
            "loss at batch 0: 0.65\n",
            "loss at batch 100: 0.69\n",
            "loss at batch 200: 0.59\n",
            "loss at batch 300: 0.66\n",
            "loss at batch 400: 0.72\n",
            "Epoch 2\n",
            "loss at batch 0: 0.62\n",
            "loss at batch 100: 0.65\n",
            "loss at batch 200: 0.55\n",
            "loss at batch 300: 0.63\n",
            "loss at batch 400: 0.69\n",
            "Epoch 3\n",
            "loss at batch 0: 0.59\n",
            "loss at batch 100: 0.61\n",
            "loss at batch 200: 0.52\n",
            "loss at batch 300: 0.60\n",
            "loss at batch 400: 0.67\n",
            "Epoch 4\n",
            "loss at batch 0: 0.56\n",
            "loss at batch 100: 0.58\n",
            "loss at batch 200: 0.50\n",
            "loss at batch 300: 0.57\n",
            "loss at batch 400: 0.64\n",
            "Epoch 5\n",
            "loss at batch 0: 0.54\n",
            "loss at batch 100: 0.55\n",
            "loss at batch 200: 0.48\n",
            "loss at batch 300: 0.55\n",
            "loss at batch 400: 0.62\n",
            "Epoch 6\n",
            "loss at batch 0: 0.52\n",
            "loss at batch 100: 0.53\n",
            "loss at batch 200: 0.46\n",
            "loss at batch 300: 0.53\n",
            "loss at batch 400: 0.61\n",
            "Epoch 7\n",
            "loss at batch 0: 0.50\n",
            "loss at batch 100: 0.51\n",
            "loss at batch 200: 0.44\n",
            "loss at batch 300: 0.52\n",
            "loss at batch 400: 0.59\n",
            "Epoch 8\n",
            "loss at batch 0: 0.49\n",
            "loss at batch 100: 0.49\n",
            "loss at batch 200: 0.43\n",
            "loss at batch 300: 0.50\n",
            "loss at batch 400: 0.58\n",
            "Epoch 9\n",
            "loss at batch 0: 0.48\n",
            "loss at batch 100: 0.48\n",
            "loss at batch 200: 0.41\n",
            "loss at batch 300: 0.49\n",
            "loss at batch 400: 0.57\n"
          ]
        }
      ]
    },
    {
      "cell_type": "markdown",
      "source": [
        "## Evaluating the model"
      ],
      "metadata": {
        "id": "3xEb9pqUYMG5"
      }
    },
    {
      "cell_type": "code",
      "source": [
        "predictions = model(test_images)"
      ],
      "metadata": {
        "id": "hlaxRVJvYNz4"
      },
      "execution_count": 51,
      "outputs": []
    },
    {
      "cell_type": "code",
      "source": [
        "predictions = predictions.numpy()\n",
        "predicted_labels = np.argmax(predictions, axis=1)\n",
        "matches = predicted_labels == test_labels\n",
        "print(f\"accuracy: {matches.mean():.2f}\")"
      ],
      "metadata": {
        "id": "WFtewkDaY0kg",
        "colab": {
          "base_uri": "https://localhost:8080/"
        },
        "outputId": "7d473523-ebe0-4289-be04-b250fa857339"
      },
      "execution_count": 52,
      "outputs": [
        {
          "output_type": "stream",
          "name": "stdout",
          "text": [
            "accuracy: 0.85\n"
          ]
        }
      ]
    }
  ]
}