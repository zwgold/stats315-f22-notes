{
  "cells": [
    {
      "cell_type": "markdown",
      "metadata": {
        "id": "99ZKU0qmxkRP"
      },
      "source": [
        "**Notebook credit**: based on the F. Chollet's original notebook [here](https://github.com/fchollet/deep-learning-with-python-notebooks/blob/master/chapter05_fundamentals-of-ml.ipynb)."
      ]
    },
    {
      "cell_type": "markdown",
      "metadata": {
        "id": "YmViXvCdxkRQ"
      },
      "source": [
        "# Fundamentals of machine learning"
      ]
    },
    {
      "cell_type": "markdown",
      "metadata": {
        "id": "kCP4uFAlxkRX"
      },
      "source": [
        "## Improving model fit\n",
        "\n",
        "Many DL projects will go through the following progression (also listed are ideas that help you make progress if you're stuck at a particular stage):\n",
        "\n",
        "- You're able to get training started: your training loss goes down over time.\n",
        "  - If not, try changing gradient descent parameters\n",
        "- Your model meaningfully generalizes: you can beat a common-sense baseline you set.\n",
        "  - If not, leverage better architecture priors\n",
        "- Your model is able to _overfit_, i.e., it can perfectly fit the training data (low training loss) but perhaps at the cost of high validation loss.\n",
        "  - If not, increase model capacity.\n",
        "\n",
        "At this point, you have reached a milestone and can start focusing on refining generalization by fighting overfitting."
      ]
    },
    {
      "cell_type": "markdown",
      "metadata": {
        "id": "gKeMOGLOxkRY"
      },
      "source": [
        "### Tuning key gradient descent parameters"
      ]
    },
    {
      "cell_type": "markdown",
      "metadata": {
        "id": "SD74jZbpxkRY"
      },
      "source": [
        "**Training a MNIST model with an incorrectly high learning rate**\n",
        "\n",
        "An inappropriately large learning rate( of value 1) can cause training to fail even on a simple problem like MNIST."
      ]
    },
    {
      "cell_type": "code",
      "execution_count": 1,
      "metadata": {
        "id": "qqfo0J20xkRY",
        "colab": {
          "base_uri": "https://localhost:8080/"
        },
        "outputId": "2e77801e-aaa2-4046-da50-c0a80a65b419"
      },
      "outputs": [
        {
          "output_type": "stream",
          "name": "stdout",
          "text": [
            "Downloading data from https://storage.googleapis.com/tensorflow/tf-keras-datasets/mnist.npz\n",
            "11490434/11490434 [==============================] - 0s 0us/step\n"
          ]
        }
      ],
      "source": [
        "import numpy as np\n",
        "import matplotlib.pyplot as plt\n",
        "import tensorflow as tf\n",
        "\n",
        "from tensorflow.keras.datasets import mnist\n",
        "from tensorflow import keras\n",
        "from tensorflow.keras import layers\n",
        "\n",
        "(train_images, train_labels), _ = mnist.load_data()\n",
        "train_images = train_images.reshape((60000, 28 * 28))\n",
        "train_images = train_images.astype(\"float32\") / 255\n"
      ]
    },
    {
      "cell_type": "code",
      "source": [
        "model = keras.Sequential([\n",
        "    layers.Dense(512, activation=\"relu\"),\n",
        "    layers.Dense(10, activation=\"softmax\")\n",
        "])\n",
        "\n",
        "# specify optimizer\n",
        "model.compile(optimizer=keras.optimizers.RMSprop(1.),\n",
        "              loss = 'sparse_categorical_crossentropy',\n",
        "              metrics = ['accuracy'])\n",
        "\n",
        "model.fit(train_images, train_labels,\n",
        "          epochs=10,\n",
        "          batch_size=128,\n",
        "          validation_split=0.2)"
      ],
      "metadata": {
        "id": "XZg7i60VDE7s",
        "colab": {
          "base_uri": "https://localhost:8080/"
        },
        "outputId": "20dffa20-cb41-42cb-be4c-f90edc5f3a50"
      },
      "execution_count": 2,
      "outputs": [
        {
          "output_type": "stream",
          "name": "stdout",
          "text": [
            "Epoch 1/10\n",
            "375/375 [==============================] - 9s 21ms/step - loss: 937.4818 - accuracy: 0.3538 - val_loss: 2.7428 - val_accuracy: 0.2669\n",
            "Epoch 2/10\n",
            "375/375 [==============================] - 8s 23ms/step - loss: 6.4485 - accuracy: 0.2619 - val_loss: 3.3719 - val_accuracy: 0.3263\n",
            "Epoch 3/10\n",
            "375/375 [==============================] - 8s 21ms/step - loss: 3.1369 - accuracy: 0.2428 - val_loss: 4.2731 - val_accuracy: 0.3061\n",
            "Epoch 4/10\n",
            "375/375 [==============================] - 5s 12ms/step - loss: 3.0325 - accuracy: 0.2409 - val_loss: 2.3725 - val_accuracy: 0.2403\n",
            "Epoch 5/10\n",
            "375/375 [==============================] - 3s 9ms/step - loss: 2.7394 - accuracy: 0.2488 - val_loss: 2.2066 - val_accuracy: 0.2592\n",
            "Epoch 6/10\n",
            "375/375 [==============================] - 3s 9ms/step - loss: 2.9397 - accuracy: 0.2665 - val_loss: 2.5474 - val_accuracy: 0.2803\n",
            "Epoch 7/10\n",
            "375/375 [==============================] - 3s 9ms/step - loss: 2.7768 - accuracy: 0.2843 - val_loss: 2.1396 - val_accuracy: 0.3155\n",
            "Epoch 8/10\n",
            "375/375 [==============================] - 3s 9ms/step - loss: 2.5949 - accuracy: 0.2849 - val_loss: 2.1869 - val_accuracy: 0.3023\n",
            "Epoch 9/10\n",
            "375/375 [==============================] - 3s 9ms/step - loss: 2.4904 - accuracy: 0.2794 - val_loss: 2.0789 - val_accuracy: 0.2650\n",
            "Epoch 10/10\n",
            "375/375 [==============================] - 3s 9ms/step - loss: 2.3052 - accuracy: 0.2983 - val_loss: 2.0348 - val_accuracy: 0.2915\n"
          ]
        },
        {
          "output_type": "execute_result",
          "data": {
            "text/plain": [
              "<keras.callbacks.History at 0x7f87e23ecb90>"
            ]
          },
          "metadata": {},
          "execution_count": 2
        }
      ]
    },
    {
      "cell_type": "markdown",
      "metadata": {
        "id": "ZcUESHzVxkRY"
      },
      "source": [
        "**The same model with a more appropriate learning rate: Exercise (lr=1e-2)**"
      ]
    },
    {
      "cell_type": "code",
      "execution_count": 3,
      "metadata": {
        "id": "7rxcT78HxkRY",
        "colab": {
          "base_uri": "https://localhost:8080/"
        },
        "outputId": "d4d1829c-567a-4672-fd4e-7a8eb29defd7"
      },
      "outputs": [
        {
          "output_type": "stream",
          "name": "stdout",
          "text": [
            "Epoch 1/10\n",
            "375/375 [==============================] - 4s 9ms/step - loss: 0.3901 - accuracy: 0.9074 - val_loss: 0.1674 - val_accuracy: 0.9528\n",
            "Epoch 2/10\n",
            "375/375 [==============================] - 3s 9ms/step - loss: 0.1402 - accuracy: 0.9641 - val_loss: 0.1868 - val_accuracy: 0.9594\n",
            "Epoch 3/10\n",
            "375/375 [==============================] - 3s 9ms/step - loss: 0.1148 - accuracy: 0.9723 - val_loss: 0.1698 - val_accuracy: 0.9662\n",
            "Epoch 4/10\n",
            "375/375 [==============================] - 3s 9ms/step - loss: 0.0995 - accuracy: 0.9772 - val_loss: 0.2189 - val_accuracy: 0.9618\n",
            "Epoch 5/10\n",
            "375/375 [==============================] - 3s 9ms/step - loss: 0.0885 - accuracy: 0.9812 - val_loss: 0.2236 - val_accuracy: 0.9690\n",
            "Epoch 6/10\n",
            "375/375 [==============================] - 3s 9ms/step - loss: 0.0775 - accuracy: 0.9848 - val_loss: 0.2557 - val_accuracy: 0.9683\n",
            "Epoch 7/10\n",
            "375/375 [==============================] - 3s 9ms/step - loss: 0.0754 - accuracy: 0.9864 - val_loss: 0.2131 - val_accuracy: 0.9751\n",
            "Epoch 8/10\n",
            "375/375 [==============================] - 3s 9ms/step - loss: 0.0705 - accuracy: 0.9873 - val_loss: 0.2670 - val_accuracy: 0.9707\n",
            "Epoch 9/10\n",
            "375/375 [==============================] - 3s 9ms/step - loss: 0.0642 - accuracy: 0.9886 - val_loss: 0.2902 - val_accuracy: 0.9732\n",
            "Epoch 10/10\n",
            "375/375 [==============================] - 3s 9ms/step - loss: 0.0582 - accuracy: 0.9899 - val_loss: 0.3192 - val_accuracy: 0.9729\n"
          ]
        },
        {
          "output_type": "execute_result",
          "data": {
            "text/plain": [
              "<keras.callbacks.History at 0x7f87dc3bd750>"
            ]
          },
          "metadata": {},
          "execution_count": 3
        }
      ],
      "source": [
        "model = keras.Sequential([\n",
        "    layers.Dense(512, activation='relu'),\n",
        "    layers.Dense(10, activation='softmax')\n",
        "])\n",
        "\n",
        "model.compile(optimizer = keras.optimizers.RMSprop(0.01), \n",
        "              loss = 'sparse_categorical_crossentropy', \n",
        "              metrics=['accuracy'])\n",
        "\n",
        "model.fit(train_images, train_labels, \n",
        "          epochs = 10, \n",
        "          batch_size = 128, \n",
        "          validation_split = 0.2)"
      ]
    },
    {
      "cell_type": "markdown",
      "source": [
        "If training appears to get stuck, you can try the following:\n",
        "\n",
        "- Lowering or increasing the learning rate. A learning rate that is too high may lead to updates that vastly overshoot a proper fit, like in the preceding example, and a learning rate that is too low may make training so slow that it appears to stall.\n",
        "- Increasing the batch size. A batch with more samples will lead to gradients that are more informative and less noisy (lower variance)."
      ],
      "metadata": {
        "id": "onn2b8J4BsvD"
      }
    },
    {
      "cell_type": "markdown",
      "metadata": {
        "id": "LTodrskAxkRY"
      },
      "source": [
        "### Leveraging better architecture priors\n",
        "\n",
        "You are able to get training started, but for some reason your validation metrics aren't improving at all. They remain no better than what a random classifier would achieve: your model trains but doesn't generalize. There might be several reasons why this might be happening. Two common ones are:\n",
        "\n",
        "**Input data simply doesn't contain sufficient information to predict your targets**\n",
        "\n",
        "- what happened when we tried to fit an MNIST model where the labels were shuffled\n",
        "- the model would train just fine, but validation accuracy would stay stuck at 10%\n",
        "- it was plainly impossible to generalize with such a dataset\n",
        "\n",
        "**The kind of model you're using is not suited for the problem at hand**\n",
        "\n",
        "- In a timeseries prediction problem, a densely connected architecture may be less appropriate: a _recurrent_ architecture might generalize better\n",
        "- Using a model that makes the right assumptions about the problem is essential to achieve generalization: you should leverage the right architecture priors\n",
        "- We willl learn about the best architectures to use for a variety of data modalities—images, text, timeseries, and so on"
      ]
    },
    {
      "cell_type": "markdown",
      "metadata": {
        "id": "Dbr_S_nFxkRZ"
      },
      "source": [
        "### Increasing model capacity"
      ]
    },
    {
      "cell_type": "markdown",
      "metadata": {
        "id": "zmWkvxAxxkRZ"
      },
      "source": [
        "**A simple logistic regression on MNIST**"
      ]
    },
    {
      "cell_type": "code",
      "execution_count": 4,
      "metadata": {
        "id": "pZEVEKjNxkRZ"
      },
      "outputs": [],
      "source": [
        "# specify the logistic regression model\n",
        "model = keras.Sequential(layers.Dense(10, activation='softmax'))"
      ]
    },
    {
      "cell_type": "code",
      "execution_count": 5,
      "metadata": {
        "id": "2dUc-DV4xkRZ",
        "colab": {
          "base_uri": "https://localhost:8080/"
        },
        "outputId": "48492219-2af5-44f2-d786-f37d86a1295f"
      },
      "outputs": [
        {
          "output_type": "stream",
          "name": "stdout",
          "text": [
            "Epoch 1/20\n",
            "375/375 [==============================] - 1s 3ms/step - loss: 0.6705 - accuracy: 0.8337 - val_loss: 0.3592 - val_accuracy: 0.9033\n",
            "Epoch 2/20\n",
            "375/375 [==============================] - 1s 3ms/step - loss: 0.3521 - accuracy: 0.9027 - val_loss: 0.3095 - val_accuracy: 0.9135\n",
            "Epoch 3/20\n",
            "375/375 [==============================] - 1s 2ms/step - loss: 0.3161 - accuracy: 0.9122 - val_loss: 0.2895 - val_accuracy: 0.9197\n",
            "Epoch 4/20\n",
            "375/375 [==============================] - 1s 2ms/step - loss: 0.2995 - accuracy: 0.9163 - val_loss: 0.2816 - val_accuracy: 0.9212\n",
            "Epoch 5/20\n",
            "375/375 [==============================] - 1s 2ms/step - loss: 0.2899 - accuracy: 0.9192 - val_loss: 0.2767 - val_accuracy: 0.9234\n",
            "Epoch 6/20\n",
            "375/375 [==============================] - 1s 3ms/step - loss: 0.2833 - accuracy: 0.9208 - val_loss: 0.2741 - val_accuracy: 0.9237\n",
            "Epoch 7/20\n",
            "375/375 [==============================] - 1s 2ms/step - loss: 0.2783 - accuracy: 0.9217 - val_loss: 0.2702 - val_accuracy: 0.9258\n",
            "Epoch 8/20\n",
            "375/375 [==============================] - 1s 2ms/step - loss: 0.2744 - accuracy: 0.9236 - val_loss: 0.2682 - val_accuracy: 0.9263\n",
            "Epoch 9/20\n",
            "375/375 [==============================] - 1s 3ms/step - loss: 0.2715 - accuracy: 0.9249 - val_loss: 0.2651 - val_accuracy: 0.9273\n",
            "Epoch 10/20\n",
            "375/375 [==============================] - 1s 2ms/step - loss: 0.2689 - accuracy: 0.9252 - val_loss: 0.2658 - val_accuracy: 0.9277\n",
            "Epoch 11/20\n",
            "375/375 [==============================] - 1s 2ms/step - loss: 0.2668 - accuracy: 0.9259 - val_loss: 0.2644 - val_accuracy: 0.9286\n",
            "Epoch 12/20\n",
            "375/375 [==============================] - 1s 3ms/step - loss: 0.2646 - accuracy: 0.9271 - val_loss: 0.2630 - val_accuracy: 0.9287\n",
            "Epoch 13/20\n",
            "375/375 [==============================] - 1s 2ms/step - loss: 0.2631 - accuracy: 0.9279 - val_loss: 0.2621 - val_accuracy: 0.9298\n",
            "Epoch 14/20\n",
            "375/375 [==============================] - 1s 2ms/step - loss: 0.2616 - accuracy: 0.9288 - val_loss: 0.2612 - val_accuracy: 0.9314\n",
            "Epoch 15/20\n",
            "375/375 [==============================] - 1s 2ms/step - loss: 0.2605 - accuracy: 0.9279 - val_loss: 0.2616 - val_accuracy: 0.9307\n",
            "Epoch 16/20\n",
            "375/375 [==============================] - 1s 3ms/step - loss: 0.2594 - accuracy: 0.9290 - val_loss: 0.2641 - val_accuracy: 0.9295\n",
            "Epoch 17/20\n",
            "375/375 [==============================] - 1s 3ms/step - loss: 0.2581 - accuracy: 0.9290 - val_loss: 0.2626 - val_accuracy: 0.9295\n",
            "Epoch 18/20\n",
            "375/375 [==============================] - 1s 2ms/step - loss: 0.2572 - accuracy: 0.9300 - val_loss: 0.2611 - val_accuracy: 0.9311\n",
            "Epoch 19/20\n",
            "375/375 [==============================] - 1s 2ms/step - loss: 0.2564 - accuracy: 0.9303 - val_loss: 0.2608 - val_accuracy: 0.9301\n",
            "Epoch 20/20\n",
            "375/375 [==============================] - 1s 2ms/step - loss: 0.2557 - accuracy: 0.9299 - val_loss: 0.2621 - val_accuracy: 0.9298\n"
          ]
        }
      ],
      "source": [
        "model.compile(optimizer=\"rmsprop\",\n",
        "              loss=\"sparse_categorical_crossentropy\",\n",
        "              metrics=[\"accuracy\"])\n",
        "history_small_model = model.fit(\n",
        "    train_images, train_labels,\n",
        "    epochs=20,\n",
        "    batch_size=128,\n",
        "    validation_split=0.2)"
      ]
    },
    {
      "cell_type": "code",
      "source": [
        "val_loss = history_small_model.history[\"val_loss\"]\n",
        "epochs = range(1, 21)\n",
        "plt.plot(epochs, val_loss, \"b--\",\n",
        "         label=\"Validation loss\")\n",
        "plt.title(\"Effect of insufficient model capacity on validation loss\")\n",
        "plt.xlabel(\"Epochs\")\n",
        "plt.ylabel(\"Loss\")\n",
        "plt.legend()"
      ],
      "metadata": {
        "id": "uBTBbQTkhbPk",
        "colab": {
          "base_uri": "https://localhost:8080/",
          "height": 313
        },
        "outputId": "731b435f-218a-47ea-c923-3c3098626fb7"
      },
      "execution_count": 6,
      "outputs": [
        {
          "output_type": "execute_result",
          "data": {
            "text/plain": [
              "<matplotlib.legend.Legend at 0x7f87e20f1110>"
            ]
          },
          "metadata": {},
          "execution_count": 6
        },
        {
          "output_type": "display_data",
          "data": {
            "text/plain": [
              "<Figure size 432x288 with 1 Axes>"
            ],
            "image/png": "[encoded data removed]"
          },
          "metadata": {
            "needs_background": "light"
          }
        }
      ]
    },
    {
      "cell_type": "markdown",
      "source": [
        "- Validation metrics seem to stall, or to improve very slowly, instead of peaking and reversing course.\n",
        "- You can fit, but you can’t clearly overfit, even after many iterations over the training data.\n",
        "\n",
        "**It should always be possible to overfit**\n",
        "\n",
        "- If you can’t seem to be able to overfit, it’s likely a problem with the representational power of your model\n",
        "- You’re going to need a bigger model, one with more capacity, that is to say, one able to store more information\n",
        "- You can increase representational power by\n",
        "  - adding more layers\n",
        "  - using bigger layers (layers with more parameters)\n",
        "  - using kinds of layers that are more appropriate for the problem at hand (better architecture priors).\n",
        "\n",
        "Let’s try training a bigger model, one with two intermediate layers with 96 units each:"
      ],
      "metadata": {
        "id": "c7aFv-X-E7Co"
      }
    },
    {
      "cell_type": "markdown",
      "source": [
        "### Exercise: Build a larger model"
      ],
      "metadata": {
        "id": "0uoEVHGDa397"
      }
    },
    {
      "cell_type": "code",
      "execution_count": 7,
      "metadata": {
        "id": "Jbr2ArTPxkRZ",
        "colab": {
          "base_uri": "https://localhost:8080/"
        },
        "outputId": "3c425b8d-3351-4999-d250-3a922d9f5f0c"
      },
      "outputs": [
        {
          "output_type": "stream",
          "name": "stdout",
          "text": [
            "Epoch 1/20\n",
            "375/375 [==============================] - 3s 5ms/step - loss: 0.3607 - accuracy: 0.8977 - val_loss: 0.1792 - val_accuracy: 0.9478\n",
            "Epoch 2/20\n",
            "375/375 [==============================] - 2s 4ms/step - loss: 0.1573 - accuracy: 0.9529 - val_loss: 0.1358 - val_accuracy: 0.9622\n",
            "Epoch 3/20\n",
            "375/375 [==============================] - 2s 4ms/step - loss: 0.1104 - accuracy: 0.9664 - val_loss: 0.1139 - val_accuracy: 0.9682\n",
            "Epoch 4/20\n",
            "375/375 [==============================] - 2s 5ms/step - loss: 0.0833 - accuracy: 0.9746 - val_loss: 0.0988 - val_accuracy: 0.9717\n",
            "Epoch 5/20\n",
            "375/375 [==============================] - 2s 4ms/step - loss: 0.0661 - accuracy: 0.9800 - val_loss: 0.0946 - val_accuracy: 0.9729\n",
            "Epoch 6/20\n",
            "375/375 [==============================] - 2s 4ms/step - loss: 0.0549 - accuracy: 0.9833 - val_loss: 0.1040 - val_accuracy: 0.9708\n",
            "Epoch 7/20\n",
            "375/375 [==============================] - 2s 5ms/step - loss: 0.0449 - accuracy: 0.9865 - val_loss: 0.0958 - val_accuracy: 0.9753\n",
            "Epoch 8/20\n",
            "375/375 [==============================] - 2s 6ms/step - loss: 0.0378 - accuracy: 0.9884 - val_loss: 0.0973 - val_accuracy: 0.9760\n",
            "Epoch 9/20\n",
            "375/375 [==============================] - 2s 6ms/step - loss: 0.0314 - accuracy: 0.9903 - val_loss: 0.0998 - val_accuracy: 0.9737\n",
            "Epoch 10/20\n",
            "375/375 [==============================] - 3s 7ms/step - loss: 0.0264 - accuracy: 0.9916 - val_loss: 0.1148 - val_accuracy: 0.9728\n",
            "Epoch 11/20\n",
            "375/375 [==============================] - 2s 4ms/step - loss: 0.0221 - accuracy: 0.9930 - val_loss: 0.1046 - val_accuracy: 0.9754\n",
            "Epoch 12/20\n",
            "375/375 [==============================] - 2s 4ms/step - loss: 0.0190 - accuracy: 0.9940 - val_loss: 0.1163 - val_accuracy: 0.9744\n",
            "Epoch 13/20\n",
            "375/375 [==============================] - 2s 5ms/step - loss: 0.0158 - accuracy: 0.9954 - val_loss: 0.1100 - val_accuracy: 0.9762\n",
            "Epoch 14/20\n",
            "375/375 [==============================] - 2s 5ms/step - loss: 0.0135 - accuracy: 0.9959 - val_loss: 0.1208 - val_accuracy: 0.9750\n",
            "Epoch 15/20\n",
            "375/375 [==============================] - 2s 5ms/step - loss: 0.0113 - accuracy: 0.9966 - val_loss: 0.1212 - val_accuracy: 0.9752\n",
            "Epoch 16/20\n",
            "375/375 [==============================] - 2s 5ms/step - loss: 0.0094 - accuracy: 0.9973 - val_loss: 0.1265 - val_accuracy: 0.9753\n",
            "Epoch 17/20\n",
            "375/375 [==============================] - 2s 5ms/step - loss: 0.0086 - accuracy: 0.9975 - val_loss: 0.1283 - val_accuracy: 0.9778\n",
            "Epoch 18/20\n",
            "375/375 [==============================] - 2s 5ms/step - loss: 0.0079 - accuracy: 0.9976 - val_loss: 0.1321 - val_accuracy: 0.9752\n",
            "Epoch 19/20\n",
            "375/375 [==============================] - 2s 4ms/step - loss: 0.0059 - accuracy: 0.9982 - val_loss: 0.1421 - val_accuracy: 0.9758\n",
            "Epoch 20/20\n",
            "375/375 [==============================] - 2s 4ms/step - loss: 0.0049 - accuracy: 0.9983 - val_loss: 0.1424 - val_accuracy: 0.9765\n"
          ]
        }
      ],
      "source": [
        "model = keras.Sequential([\n",
        "    layers.Dense(96, activation='relu'), \n",
        "    layers.Dense(96, activation='relu'), \n",
        "    layers.Dense(10, activation='softmax')\n",
        "])\n",
        "\n",
        "model.compile(optimizer=\"rmsprop\",\n",
        "              loss=\"sparse_categorical_crossentropy\",\n",
        "              metrics=[\"accuracy\"])\n",
        "\n",
        "history_large_model = model.fit(\n",
        "    train_images, train_labels,\n",
        "    epochs=20,\n",
        "    batch_size=128,\n",
        "    validation_split=0.2)"
      ]
    },
    {
      "cell_type": "code",
      "source": [
        "val_loss = history_large_model.history[\"val_loss\"]\n",
        "epochs = range(1, 21)\n",
        "plt.plot(epochs, val_loss, \"b--\",\n",
        "         label=\"Validation loss\")\n",
        "plt.title(\"Validation loss for a model with appropriate capacity\")\n",
        "plt.xlabel(\"Epochs\")\n",
        "plt.ylabel(\"Loss\")\n",
        "plt.legend()"
      ],
      "metadata": {
        "id": "4ZvE-_h_FqK-",
        "colab": {
          "base_uri": "https://localhost:8080/",
          "height": 313
        },
        "outputId": "6ba8e09b-f0d5-4ffe-88d4-a4a90e939907"
      },
      "execution_count": 8,
      "outputs": [
        {
          "output_type": "execute_result",
          "data": {
            "text/plain": [
              "<matplotlib.legend.Legend at 0x7f87e09b07d0>"
            ]
          },
          "metadata": {},
          "execution_count": 8
        },
        {
          "output_type": "display_data",
          "data": {
            "text/plain": [
              "<Figure size 432x288 with 1 Axes>"
            ],
            "image/png": "[encoded data removed]"
          },
          "metadata": {
            "needs_background": "light"
          }
        }
      ]
    },
    {
      "cell_type": "markdown",
      "metadata": {
        "id": "XDTvap3jxkRZ"
      },
      "source": [
        "## Improving generalization: An IMDB example"
      ]
    },
    {
      "cell_type": "markdown",
      "metadata": {
        "id": "_PwJf1vvxkRa"
      },
      "source": [
        "### Regularizing your model\n",
        "\n",
        "Regularization: actively impeding the model’s ability to fit perfectly to the training data, with the goal of making the model perform better during validation.\n",
        "\n",
        "- regularizing a model is a process that should always be guided by an accurate evaluation procedure\n",
        "- you will only achieve generalization if you can measure it!\n",
        "\n",
        "Let’s review some of the most common regularization techniques in the context of IMDB movie reviews problem\n"
      ]
    },
    {
      "cell_type": "markdown",
      "metadata": {
        "id": "M7QX5ec2xkRa"
      },
      "source": [
        "#### Reducing the network's size\n",
        "\n",
        "- a model that is too small will not overfit\n",
        "- simplest way to mitigate overfitting is to reduce the size of the model\n",
        "- number of learnable parameters in the model is determined by the number of layers and the number of units per layer\n",
        "- however, you should use models that have enough parameters that they don’t underfit!\n",
        "- compromise is to be found between too much capacity and not enough capacity\n",
        "- no magical formula to determine the right number of layers or the right size for each layer\n",
        "- evaluate an array of different architectures (on your validation set, not on your test set, of course) in order to find the correct model size for your data\n",
        "- general workflow for finding an appropriate model size:\n",
        "  - start with relatively few layers and parameters\n",
        "  - increase the size of the layers or add new layers until you see diminishing returns with regard to validation loss"
      ]
    },
    {
      "cell_type": "markdown",
      "metadata": {
        "id": "b5i9bdQ_xkRa"
      },
      "source": [
        "**Original model**"
      ]
    },
    {
      "cell_type": "code",
      "execution_count": 9,
      "metadata": {
        "id": "ItsGommyxkRa",
        "colab": {
          "base_uri": "https://localhost:8080/"
        },
        "outputId": "522915c0-4997-454f-f70a-07cca3fb549b"
      },
      "outputs": [
        {
          "output_type": "stream",
          "name": "stdout",
          "text": [
            "Downloading data from https://storage.googleapis.com/tensorflow/tf-keras-datasets/imdb.npz\n",
            "17464789/17464789 [==============================] - 0s 0us/step\n"
          ]
        }
      ],
      "source": [
        "from tensorflow.keras.datasets import imdb\n",
        "(train_data, train_labels), _ = imdb.load_data(num_words=10000)\n",
        "\n",
        "def vectorize_sequences(sequences, dimension=10000):\n",
        "    results = np.zeros((len(sequences), dimension))\n",
        "    for i, sequence in enumerate(sequences):\n",
        "        results[i, sequence] = 1.\n",
        "    return results\n",
        "train_data = vectorize_sequences(train_data)\n"
      ]
    },
    {
      "cell_type": "code",
      "source": [
        "train_data, train_labels"
      ],
      "metadata": {
        "colab": {
          "base_uri": "https://localhost:8080/"
        },
        "id": "JZDtZPHW4PaJ",
        "outputId": "765b4eff-f60a-45f6-d7f3-9777d660ebc2"
      },
      "execution_count": 10,
      "outputs": [
        {
          "output_type": "execute_result",
          "data": {
            "text/plain": [
              "(array([[0., 1., 1., ..., 0., 0., 0.],\n",
              "        [0., 1., 1., ..., 0., 0., 0.],\n",
              "        [0., 1., 1., ..., 0., 0., 0.],\n",
              "        ...,\n",
              "        [0., 1., 1., ..., 0., 0., 0.],\n",
              "        [0., 1., 1., ..., 0., 0., 0.],\n",
              "        [0., 1., 1., ..., 0., 0., 0.]]), array([1, 0, 0, ..., 0, 1, 0]))"
            ]
          },
          "metadata": {},
          "execution_count": 10
        }
      ]
    },
    {
      "cell_type": "code",
      "source": [
        "model = keras.Sequential([\n",
        "    layers.Dense(16, activation=\"relu\"),\n",
        "    layers.Dense(16, activation=\"relu\"),\n",
        "    layers.Dense(1, activation=\"sigmoid\")\n",
        "])\n",
        "model.compile(optimizer=\"rmsprop\",\n",
        "              loss=\"binary_crossentropy\",\n",
        "              metrics=[\"accuracy\"])\n",
        "history_original = model.fit(train_data, train_labels,\n",
        "                             epochs=20, batch_size=512, validation_split=0.4)"
      ],
      "metadata": {
        "id": "lg8eaNcDh2po",
        "colab": {
          "base_uri": "https://localhost:8080/"
        },
        "outputId": "f3405391-b784-4875-fad6-d5df08bfcadb"
      },
      "execution_count": 11,
      "outputs": [
        {
          "output_type": "stream",
          "name": "stdout",
          "text": [
            "Epoch 1/20\n",
            "30/30 [==============================] - 2s 43ms/step - loss: 0.5124 - accuracy: 0.7817 - val_loss: 0.3880 - val_accuracy: 0.8690\n",
            "Epoch 2/20\n",
            "30/30 [==============================] - 1s 31ms/step - loss: 0.3062 - accuracy: 0.9049 - val_loss: 0.3003 - val_accuracy: 0.8903\n",
            "Epoch 3/20\n",
            "30/30 [==============================] - 1s 32ms/step - loss: 0.2269 - accuracy: 0.9279 - val_loss: 0.2807 - val_accuracy: 0.8902\n",
            "Epoch 4/20\n",
            "30/30 [==============================] - 1s 30ms/step - loss: 0.1796 - accuracy: 0.9427 - val_loss: 0.2783 - val_accuracy: 0.8893\n",
            "Epoch 5/20\n",
            "30/30 [==============================] - 1s 31ms/step - loss: 0.1473 - accuracy: 0.9529 - val_loss: 0.2866 - val_accuracy: 0.8886\n",
            "Epoch 6/20\n",
            "30/30 [==============================] - 1s 31ms/step - loss: 0.1221 - accuracy: 0.9628 - val_loss: 0.2948 - val_accuracy: 0.8861\n",
            "Epoch 7/20\n",
            "30/30 [==============================] - 1s 31ms/step - loss: 0.0999 - accuracy: 0.9710 - val_loss: 0.3319 - val_accuracy: 0.8791\n",
            "Epoch 8/20\n",
            "30/30 [==============================] - 1s 30ms/step - loss: 0.0844 - accuracy: 0.9760 - val_loss: 0.3487 - val_accuracy: 0.8791\n",
            "Epoch 9/20\n",
            "30/30 [==============================] - 1s 31ms/step - loss: 0.0741 - accuracy: 0.9791 - val_loss: 0.3541 - val_accuracy: 0.8792\n",
            "Epoch 10/20\n",
            "30/30 [==============================] - 1s 30ms/step - loss: 0.0590 - accuracy: 0.9852 - val_loss: 0.3876 - val_accuracy: 0.8781\n",
            "Epoch 11/20\n",
            "30/30 [==============================] - 1s 32ms/step - loss: 0.0513 - accuracy: 0.9873 - val_loss: 0.4047 - val_accuracy: 0.8759\n",
            "Epoch 12/20\n",
            "30/30 [==============================] - 1s 31ms/step - loss: 0.0408 - accuracy: 0.9906 - val_loss: 0.4449 - val_accuracy: 0.8713\n",
            "Epoch 13/20\n",
            "30/30 [==============================] - 1s 31ms/step - loss: 0.0355 - accuracy: 0.9919 - val_loss: 0.4616 - val_accuracy: 0.8736\n",
            "Epoch 14/20\n",
            "30/30 [==============================] - 1s 31ms/step - loss: 0.0300 - accuracy: 0.9937 - val_loss: 0.4927 - val_accuracy: 0.8719\n",
            "Epoch 15/20\n",
            "30/30 [==============================] - 1s 31ms/step - loss: 0.0223 - accuracy: 0.9960 - val_loss: 0.5784 - val_accuracy: 0.8588\n",
            "Epoch 16/20\n",
            "30/30 [==============================] - 1s 31ms/step - loss: 0.0186 - accuracy: 0.9972 - val_loss: 0.5630 - val_accuracy: 0.8678\n",
            "Epoch 17/20\n",
            "30/30 [==============================] - 1s 31ms/step - loss: 0.0169 - accuracy: 0.9967 - val_loss: 0.5956 - val_accuracy: 0.8676\n",
            "Epoch 18/20\n",
            "30/30 [==============================] - 1s 31ms/step - loss: 0.0144 - accuracy: 0.9965 - val_loss: 0.6290 - val_accuracy: 0.8662\n",
            "Epoch 19/20\n",
            "30/30 [==============================] - 1s 31ms/step - loss: 0.0078 - accuracy: 0.9994 - val_loss: 0.6646 - val_accuracy: 0.8660\n",
            "Epoch 20/20\n",
            "30/30 [==============================] - 1s 32ms/step - loss: 0.0092 - accuracy: 0.9988 - val_loss: 0.7041 - val_accuracy: 0.8656\n"
          ]
        }
      ]
    },
    {
      "cell_type": "markdown",
      "metadata": {
        "id": "rRU9U_RcxkRb"
      },
      "source": [
        "**Version of the model with lower capacity**"
      ]
    },
    {
      "cell_type": "code",
      "execution_count": 12,
      "metadata": {
        "id": "OvVhW6PPxkRb",
        "colab": {
          "base_uri": "https://localhost:8080/"
        },
        "outputId": "bb9b73cd-4cbb-47a7-dfca-0ab2d3199f14"
      },
      "outputs": [
        {
          "output_type": "stream",
          "name": "stdout",
          "text": [
            "Epoch 1/20\n",
            "30/30 [==============================] - 2s 44ms/step - loss: 0.5454 - accuracy: 0.7751 - val_loss: 0.4384 - val_accuracy: 0.8605\n",
            "Epoch 2/20\n",
            "30/30 [==============================] - 1s 33ms/step - loss: 0.3688 - accuracy: 0.8939 - val_loss: 0.3585 - val_accuracy: 0.8688\n",
            "Epoch 3/20\n",
            "30/30 [==============================] - 1s 33ms/step - loss: 0.2851 - accuracy: 0.9138 - val_loss: 0.3108 - val_accuracy: 0.8865\n",
            "Epoch 4/20\n",
            "30/30 [==============================] - 1s 28ms/step - loss: 0.2333 - accuracy: 0.9293 - val_loss: 0.2925 - val_accuracy: 0.8847\n",
            "Epoch 5/20\n",
            "30/30 [==============================] - 1s 28ms/step - loss: 0.1951 - accuracy: 0.9415 - val_loss: 0.2772 - val_accuracy: 0.8896\n",
            "Epoch 6/20\n",
            "30/30 [==============================] - 1s 32ms/step - loss: 0.1673 - accuracy: 0.9489 - val_loss: 0.2796 - val_accuracy: 0.8881\n",
            "Epoch 7/20\n",
            "30/30 [==============================] - 1s 29ms/step - loss: 0.1462 - accuracy: 0.9581 - val_loss: 0.2772 - val_accuracy: 0.8885\n",
            "Epoch 8/20\n",
            "30/30 [==============================] - 1s 28ms/step - loss: 0.1284 - accuracy: 0.9633 - val_loss: 0.2824 - val_accuracy: 0.8872\n",
            "Epoch 9/20\n",
            "30/30 [==============================] - 1s 28ms/step - loss: 0.1135 - accuracy: 0.9664 - val_loss: 0.2896 - val_accuracy: 0.8856\n",
            "Epoch 10/20\n",
            "30/30 [==============================] - 1s 29ms/step - loss: 0.1005 - accuracy: 0.9723 - val_loss: 0.2997 - val_accuracy: 0.8845\n",
            "Epoch 11/20\n",
            "30/30 [==============================] - 1s 29ms/step - loss: 0.0885 - accuracy: 0.9770 - val_loss: 0.3106 - val_accuracy: 0.8838\n",
            "Epoch 12/20\n",
            "30/30 [==============================] - 1s 29ms/step - loss: 0.0787 - accuracy: 0.9794 - val_loss: 0.3252 - val_accuracy: 0.8821\n",
            "Epoch 13/20\n",
            "30/30 [==============================] - 1s 29ms/step - loss: 0.0690 - accuracy: 0.9831 - val_loss: 0.3377 - val_accuracy: 0.8827\n",
            "Epoch 14/20\n",
            "30/30 [==============================] - 1s 28ms/step - loss: 0.0610 - accuracy: 0.9862 - val_loss: 0.3595 - val_accuracy: 0.8786\n",
            "Epoch 15/20\n",
            "30/30 [==============================] - 1s 29ms/step - loss: 0.0537 - accuracy: 0.9881 - val_loss: 0.3734 - val_accuracy: 0.8795\n",
            "Epoch 16/20\n",
            "30/30 [==============================] - 1s 29ms/step - loss: 0.0474 - accuracy: 0.9895 - val_loss: 0.4153 - val_accuracy: 0.8727\n",
            "Epoch 17/20\n",
            "30/30 [==============================] - 1s 28ms/step - loss: 0.0424 - accuracy: 0.9913 - val_loss: 0.4092 - val_accuracy: 0.8761\n",
            "Epoch 18/20\n",
            "30/30 [==============================] - 1s 29ms/step - loss: 0.0360 - accuracy: 0.9934 - val_loss: 0.4318 - val_accuracy: 0.8713\n",
            "Epoch 19/20\n",
            "30/30 [==============================] - 1s 29ms/step - loss: 0.0324 - accuracy: 0.9935 - val_loss: 0.4517 - val_accuracy: 0.8731\n",
            "Epoch 20/20\n",
            "30/30 [==============================] - 1s 28ms/step - loss: 0.0273 - accuracy: 0.9956 - val_loss: 0.4723 - val_accuracy: 0.8713\n"
          ]
        }
      ],
      "source": [
        "model = keras.Sequential([\n",
        "    layers.Dense(4, activation='relu'), \n",
        "    layers.Dense(4, activation='relu'), \n",
        "    layers.Dense(1, activation='sigmoid')\n",
        "])\n",
        "\n",
        "model.compile(optimizer='rmsprop', loss='binary_crossentropy', \n",
        "              metrics=['accuracy'])\n",
        "\n",
        "history_smaller_model = model.fit(train_data, train_labels, epochs = 20, \n",
        "          batch_size = 512, validation_split = 0.4)"
      ]
    },
    {
      "cell_type": "code",
      "source": [
        "val_loss_original = history_original.history[\"val_loss\"]\n",
        "val_loss_smaller = history_smaller_model.history[\"val_loss\"]\n",
        "epochs = range(1, 21)\n",
        "plt.plot(epochs, val_loss_original, \"b--\",\n",
        "         label=\"Validation loss of original model\")\n",
        "plt.plot(epochs, val_loss_smaller, \"b-\",\n",
        "         label=\"Validation loss of smaller model\")\n",
        "plt.title(\"Original model vs. smaller model on IMDB review classification\")\n",
        "plt.xlabel(\"Epochs\")\n",
        "plt.ylabel(\"Loss\")\n",
        "plt.legend()"
      ],
      "metadata": {
        "id": "xBRt-B8ry4YD",
        "colab": {
          "base_uri": "https://localhost:8080/",
          "height": 313
        },
        "outputId": "0842c73d-100b-4f86-87cf-35211fe69beb"
      },
      "execution_count": 13,
      "outputs": [
        {
          "output_type": "execute_result",
          "data": {
            "text/plain": [
              "<matplotlib.legend.Legend at 0x7f87cdc7c410>"
            ]
          },
          "metadata": {},
          "execution_count": 13
        },
        {
          "output_type": "display_data",
          "data": {
            "text/plain": [
              "<Figure size 432x288 with 1 Axes>"
            ],
            "image/png": "[encoded data removed]"
          },
          "metadata": {
            "needs_background": "light"
          }
        }
      ]
    },
    {
      "cell_type": "markdown",
      "source": [
        "- the smaller model starts overfitting later than the reference model\n",
        "- its performance degrades more slowly once it starts overfitting"
      ],
      "metadata": {
        "id": "sZnVeDC9zxPB"
      }
    },
    {
      "cell_type": "markdown",
      "metadata": {
        "id": "ffNLmM2pxkRb"
      },
      "source": [
        "**Version of the model with higher capacity**"
      ]
    },
    {
      "cell_type": "code",
      "execution_count": 14,
      "metadata": {
        "id": "XSgl_g0xxkRb",
        "colab": {
          "base_uri": "https://localhost:8080/"
        },
        "outputId": "4b844632-a5fd-4455-f868-ec7812888f02"
      },
      "outputs": [
        {
          "output_type": "stream",
          "name": "stdout",
          "text": [
            "Epoch 1/20\n",
            "30/30 [==============================] - 9s 273ms/step - loss: 0.5529 - accuracy: 0.7501 - val_loss: 0.3218 - val_accuracy: 0.8852\n",
            "Epoch 2/20\n",
            "30/30 [==============================] - 8s 263ms/step - loss: 0.2307 - accuracy: 0.9115 - val_loss: 0.4539 - val_accuracy: 0.8124\n",
            "Epoch 3/20\n",
            "30/30 [==============================] - 8s 263ms/step - loss: 0.1609 - accuracy: 0.9384 - val_loss: 0.3015 - val_accuracy: 0.8872\n",
            "Epoch 4/20\n",
            "30/30 [==============================] - 8s 262ms/step - loss: 0.1008 - accuracy: 0.9693 - val_loss: 0.3533 - val_accuracy: 0.8893\n",
            "Epoch 5/20\n",
            "30/30 [==============================] - 8s 262ms/step - loss: 0.0746 - accuracy: 0.9801 - val_loss: 0.3020 - val_accuracy: 0.8835\n",
            "Epoch 6/20\n",
            "30/30 [==============================] - 8s 264ms/step - loss: 0.0089 - accuracy: 0.9993 - val_loss: 0.5332 - val_accuracy: 0.8869\n",
            "Epoch 7/20\n",
            "30/30 [==============================] - 8s 263ms/step - loss: 0.0011 - accuracy: 0.9999 - val_loss: 0.6495 - val_accuracy: 0.8838\n",
            "Epoch 8/20\n",
            "30/30 [==============================] - 8s 263ms/step - loss: 0.2253 - accuracy: 0.9774 - val_loss: 0.5098 - val_accuracy: 0.8808\n",
            "Epoch 9/20\n",
            "30/30 [==============================] - 8s 262ms/step - loss: 9.1687e-04 - accuracy: 1.0000 - val_loss: 0.5734 - val_accuracy: 0.8844\n",
            "Epoch 10/20\n",
            "30/30 [==============================] - 8s 262ms/step - loss: 2.3677e-04 - accuracy: 1.0000 - val_loss: 0.6662 - val_accuracy: 0.8840\n",
            "Epoch 11/20\n",
            "30/30 [==============================] - 8s 263ms/step - loss: 7.1247e-05 - accuracy: 1.0000 - val_loss: 0.7670 - val_accuracy: 0.8853\n",
            "Epoch 12/20\n",
            "30/30 [==============================] - 8s 263ms/step - loss: 1.9455e-05 - accuracy: 1.0000 - val_loss: 0.8737 - val_accuracy: 0.8845\n",
            "Epoch 13/20\n",
            "30/30 [==============================] - 8s 261ms/step - loss: 5.1954e-06 - accuracy: 1.0000 - val_loss: 0.9623 - val_accuracy: 0.8839\n",
            "Epoch 14/20\n",
            "30/30 [==============================] - 8s 263ms/step - loss: 1.4174e-06 - accuracy: 1.0000 - val_loss: 1.0689 - val_accuracy: 0.8850\n",
            "Epoch 15/20\n",
            "30/30 [==============================] - 8s 264ms/step - loss: 4.4010e-07 - accuracy: 1.0000 - val_loss: 1.1537 - val_accuracy: 0.8838\n",
            "Epoch 16/20\n",
            "30/30 [==============================] - 8s 263ms/step - loss: 1.6357e-07 - accuracy: 1.0000 - val_loss: 1.2183 - val_accuracy: 0.8831\n",
            "Epoch 17/20\n",
            "30/30 [==============================] - 8s 263ms/step - loss: 6.8688e-08 - accuracy: 1.0000 - val_loss: 1.2858 - val_accuracy: 0.8839\n",
            "Epoch 18/20\n",
            "30/30 [==============================] - 8s 262ms/step - loss: 3.4376e-08 - accuracy: 1.0000 - val_loss: 1.3271 - val_accuracy: 0.8840\n",
            "Epoch 19/20\n",
            "30/30 [==============================] - 8s 263ms/step - loss: 2.1558e-08 - accuracy: 1.0000 - val_loss: 1.3553 - val_accuracy: 0.8840\n",
            "Epoch 20/20\n",
            "30/30 [==============================] - 8s 262ms/step - loss: 1.5529e-08 - accuracy: 1.0000 - val_loss: 1.3774 - val_accuracy: 0.8836\n"
          ]
        }
      ],
      "source": [
        "model = keras.Sequential([\n",
        "    layers.Dense(512, activation='relu'), \n",
        "    layers.Dense(512, activation='relu'), \n",
        "    layers.Dense(1, activation='sigmoid')\n",
        "])\n",
        "\n",
        "model.compile(optimizer='rmsprop', loss='binary_crossentropy', \n",
        "              metrics=['accuracy'])\n",
        "\n",
        "history_larger_model = model.fit(train_data, train_labels, epochs = 20, \n",
        "          batch_size = 512, validation_split = 0.4)"
      ]
    },
    {
      "cell_type": "code",
      "source": [
        "val_loss_larger = history_larger_model.history[\"val_loss\"]\n",
        "epochs = range(1, 21)\n",
        "plt.plot(epochs, val_loss_original, \"b--\",\n",
        "         label=\"Validation loss of original model\")\n",
        "plt.plot(epochs, val_loss_larger, \"b-\",\n",
        "         label=\"Validation loss of larger model\")\n",
        "plt.title(\"Original model vs. much larger model on IMDB review classification\")\n",
        "plt.xlabel(\"Epochs\")\n",
        "plt.ylabel(\"Loss\")\n",
        "plt.legend()"
      ],
      "metadata": {
        "id": "rW5iyjAX5VNs",
        "colab": {
          "base_uri": "https://localhost:8080/",
          "height": 313
        },
        "outputId": "cec61f8c-6a2d-443e-de88-d7f283dd21b7"
      },
      "execution_count": 15,
      "outputs": [
        {
          "output_type": "execute_result",
          "data": {
            "text/plain": [
              "<matplotlib.legend.Legend at 0x7f87d5156b90>"
            ]
          },
          "metadata": {},
          "execution_count": 15
        },
        {
          "output_type": "display_data",
          "data": {
            "text/plain": [
              "<Figure size 432x288 with 1 Axes>"
            ],
            "image/png": "[encoded data removed]"
          },
          "metadata": {
            "needs_background": "light"
          }
        }
      ]
    },
    {
      "cell_type": "markdown",
      "source": [
        "- bigger model starts overfitting almost immediately\n",
        "- it overfits much more severely\n",
        "- its validation loss is also noisier\n",
        "- it gets training loss near zero very quickly\n",
        "- a very high capacity model will\n",
        "  - fit the the training data quickly (resulting in a low training loss)\n",
        "  - but will be more susceptible it is to overfitting (resulting in a large difference between the training and validation loss)"
      ],
      "metadata": {
        "id": "QEIy3-1b5rm3"
      }
    },
    {
      "cell_type": "markdown",
      "metadata": {
        "id": "wkte-rfJxkRb"
      },
      "source": [
        "#### Adding weight regularization"
      ]
    },
    {
      "cell_type": "markdown",
      "metadata": {
        "id": "3PQoX50OxkRb"
      },
      "source": [
        "**Adding L2 weight regularization to the model**\n",
        "\n",
        "Regularization can be applied to:\n",
        "- weights using `kernel_regularizer`\n",
        "- biases using `bias_regularizer`\n",
        "- output of the layer using `activity_regularizer`\n",
        "\n",
        "We will use weight regularization below."
      ]
    },
    {
      "cell_type": "code",
      "execution_count": 16,
      "metadata": {
        "id": "JVnwkqCDxkRc",
        "colab": {
          "base_uri": "https://localhost:8080/"
        },
        "outputId": "31dc1d10-d5ed-4c7a-b27c-b62924bf0f6e"
      },
      "outputs": [
        {
          "output_type": "execute_result",
          "data": {
            "text/plain": [
              "array([1, 0, 0, ..., 0, 1, 0])"
            ]
          },
          "metadata": {},
          "execution_count": 16
        }
      ],
      "source": [
        "train_labels"
      ]
    },
    {
      "cell_type": "markdown",
      "source": [
        "l2 = regularized loss = regular cross entropy loss + coefficent * \\sum_i,j w_ij^2\n",
        "\n",
        "l1 = absolute value of weights"
      ],
      "metadata": {
        "id": "LRFDzR3WjGIK"
      }
    },
    {
      "cell_type": "code",
      "source": [
        "from tensorflow.keras import regularizers\n",
        "model = keras.Sequential([\n",
        "    layers.Dense(16, kernel_regularizer=regularizers.l2(0.02), activation='relu'),\n",
        "    layers.Dense(16, activation='relu'),\n",
        "    layers.Dense(1, activation='sigmoid')\n",
        "])"
      ],
      "metadata": {
        "id": "ISSZ5qmHitEN"
      },
      "execution_count": 17,
      "outputs": []
    },
    {
      "cell_type": "code",
      "source": [
        "model.compile(optimizer=\"rmsprop\",\n",
        "              loss=\"binary_crossentropy\",\n",
        "              metrics=[\"accuracy\"])\n",
        "history_l2_reg = model.fit(\n",
        "    train_data, train_labels,\n",
        "    epochs=20, batch_size=512, validation_split=0.4)\n",
        "\n",
        "val_loss_l2_reg = history_l2_reg.history[\"val_loss\"]\n",
        "epochs = range(1, 21)\n",
        "plt.plot(epochs, val_loss_original, \"b--\",\n",
        "         label=\"Validation loss of original model\")\n",
        "plt.plot(epochs, val_loss_l2_reg, \"b-\",\n",
        "         label=\"Validation loss of L2-regularized model\")\n",
        "plt.title(\"Effect of L2 weight regularization on validation loss\")\n",
        "plt.xlabel(\"Epochs\")\n",
        "plt.ylabel(\"Loss\")\n",
        "plt.legend()"
      ],
      "metadata": {
        "id": "2t_qA4D7rjOr",
        "colab": {
          "base_uri": "https://localhost:8080/",
          "height": 1000
        },
        "outputId": "ca68caee-309b-4d3a-e7df-48f7fca59a4a"
      },
      "execution_count": 18,
      "outputs": [
        {
          "output_type": "stream",
          "name": "stdout",
          "text": [
            "Epoch 1/20\n",
            "30/30 [==============================] - 3s 72ms/step - loss: 0.6914 - accuracy: 0.7703 - val_loss: 0.5085 - val_accuracy: 0.8444\n",
            "Epoch 2/20\n",
            "30/30 [==============================] - 1s 33ms/step - loss: 0.4615 - accuracy: 0.8705 - val_loss: 0.4790 - val_accuracy: 0.8371\n",
            "Epoch 3/20\n",
            "30/30 [==============================] - 1s 31ms/step - loss: 0.4227 - accuracy: 0.8787 - val_loss: 0.4734 - val_accuracy: 0.8342\n",
            "Epoch 4/20\n",
            "30/30 [==============================] - 1s 32ms/step - loss: 0.4083 - accuracy: 0.8813 - val_loss: 0.4124 - val_accuracy: 0.8749\n",
            "Epoch 5/20\n",
            "30/30 [==============================] - 1s 32ms/step - loss: 0.3958 - accuracy: 0.8832 - val_loss: 0.4172 - val_accuracy: 0.8674\n",
            "Epoch 6/20\n",
            "30/30 [==============================] - 1s 31ms/step - loss: 0.3843 - accuracy: 0.8879 - val_loss: 0.4151 - val_accuracy: 0.8650\n",
            "Epoch 7/20\n",
            "30/30 [==============================] - 1s 31ms/step - loss: 0.3893 - accuracy: 0.8827 - val_loss: 0.4208 - val_accuracy: 0.8628\n",
            "Epoch 8/20\n",
            "30/30 [==============================] - 1s 33ms/step - loss: 0.3734 - accuracy: 0.8907 - val_loss: 0.4058 - val_accuracy: 0.8702\n",
            "Epoch 9/20\n",
            "30/30 [==============================] - 1s 31ms/step - loss: 0.3755 - accuracy: 0.8885 - val_loss: 0.4367 - val_accuracy: 0.8545\n",
            "Epoch 10/20\n",
            "30/30 [==============================] - 1s 31ms/step - loss: 0.3624 - accuracy: 0.8961 - val_loss: 0.4964 - val_accuracy: 0.8215\n",
            "Epoch 11/20\n",
            "30/30 [==============================] - 1s 31ms/step - loss: 0.3678 - accuracy: 0.8911 - val_loss: 0.4126 - val_accuracy: 0.8645\n",
            "Epoch 12/20\n",
            "30/30 [==============================] - 1s 32ms/step - loss: 0.3621 - accuracy: 0.8943 - val_loss: 0.3855 - val_accuracy: 0.8786\n",
            "Epoch 13/20\n",
            "30/30 [==============================] - 1s 33ms/step - loss: 0.3568 - accuracy: 0.8939 - val_loss: 0.3950 - val_accuracy: 0.8728\n",
            "Epoch 14/20\n",
            "30/30 [==============================] - 1s 31ms/step - loss: 0.3643 - accuracy: 0.8904 - val_loss: 0.3851 - val_accuracy: 0.8766\n",
            "Epoch 15/20\n",
            "30/30 [==============================] - 1s 32ms/step - loss: 0.3573 - accuracy: 0.8920 - val_loss: 0.3820 - val_accuracy: 0.8794\n",
            "Epoch 16/20\n",
            "30/30 [==============================] - 1s 31ms/step - loss: 0.3502 - accuracy: 0.8965 - val_loss: 0.3804 - val_accuracy: 0.8820\n",
            "Epoch 17/20\n",
            "30/30 [==============================] - 1s 32ms/step - loss: 0.3469 - accuracy: 0.8955 - val_loss: 0.4196 - val_accuracy: 0.8583\n",
            "Epoch 18/20\n",
            "30/30 [==============================] - 1s 31ms/step - loss: 0.3488 - accuracy: 0.8984 - val_loss: 0.3967 - val_accuracy: 0.8722\n",
            "Epoch 19/20\n",
            "30/30 [==============================] - 1s 32ms/step - loss: 0.3494 - accuracy: 0.8955 - val_loss: 0.3752 - val_accuracy: 0.8813\n",
            "Epoch 20/20\n",
            "30/30 [==============================] - 1s 31ms/step - loss: 0.3412 - accuracy: 0.8988 - val_loss: 0.3731 - val_accuracy: 0.8829\n"
          ]
        },
        {
          "output_type": "execute_result",
          "data": {
            "text/plain": [
              "<matplotlib.legend.Legend at 0x7f87d6ae3190>"
            ]
          },
          "metadata": {},
          "execution_count": 18
        },
        {
          "output_type": "display_data",
          "data": {
            "text/plain": [
              "<Figure size 432x288 with 1 Axes>"
            ],
            "image/png": "[encoded data removed]"
          },
          "metadata": {
            "needs_background": "light"
          }
        }
      ]
    },
    {
      "cell_type": "markdown",
      "source": [
        "- model with L2 regularization has become much more resistant to overfitting than the reference model\n",
        "- both models have the same number of parameters"
      ],
      "metadata": {
        "id": "C4-w0BDEswHB"
      }
    },
    {
      "cell_type": "markdown",
      "source": [
        "**Total loss when using weight regularization includes prediction losses as well as layer losses**\n",
        "\n",
        "- \"loss\" as a metric changes meaning when you have weight regularization\n",
        "- without regularization, loss is simply the average of the prediction loss function over the dataset\n",
        "- with weight regularization, loss includes *both* prediction losses as well as regularization losses for regularized layers"
      ],
      "metadata": {
        "id": "YwuoH_p8r2S8"
      }
    },
    {
      "cell_type": "markdown",
      "metadata": {
        "id": "kPfDStSCxkRc"
      },
      "source": [
        "**Different weight regularizers available in Keras**"
      ]
    },
    {
      "cell_type": "code",
      "execution_count": null,
      "metadata": {
        "id": "z48GceflxkRc"
      },
      "outputs": [],
      "source": [
        "regularizers.l2(0.02)\n",
        "regularizers.l1(0.01)\n",
        "regularizers.l1_l2(l1=0.01, l2=0.02)"
      ]
    },
    {
      "cell_type": "markdown",
      "source": [
        "- weight regularization is more typically used for smaller deep learning models\n",
        "- large deep learning models tend to be so overparameterized that imposing constraints on weight values hasn’t much impact on model capacity and generalization\n",
        "- in these cases, a different regularization technique is preferred: **dropout**"
      ],
      "metadata": {
        "id": "u-fbniD-uVyL"
      }
    },
    {
      "cell_type": "markdown",
      "metadata": {
        "id": "LZ2AwnAwxkRc"
      },
      "source": [
        "#### Adding dropout"
      ]
    },
    {
      "cell_type": "markdown",
      "metadata": {
        "id": "GWzYz3BRxkRc"
      },
      "source": [
        "**Adding dropout to the IMDB model**"
      ]
    },
    {
      "cell_type": "code",
      "execution_count": null,
      "metadata": {
        "id": "Lwks5JZDxkRc"
      },
      "outputs": [],
      "source": [
        "model = keras.Sequential([\n",
        "    layers.Denese16, activation='relu'),\n",
        "    layers.Dropout(0.5),\n",
        "    layers.Dense(16, activation='relu'),\n",
        "    layers.Droptout(0.5),\n",
        "    layers.Dense(1, activation='sigmoid')\n",
        "])"
      ]
    },
    {
      "cell_type": "code",
      "source": [
        "history_dropout = model.fit(\n",
        "    train_data, train_labels,\n",
        "    epochs=20, batch_size=512, validation_split=0.4)\n",
        "\n",
        "val_loss_dropout = history_dropout.history[\"val_loss\"]\n",
        "epochs = range(1, 21)\n",
        "plt.plot(epochs, val_loss_original, \"b--\",\n",
        "         label=\"Validation loss of original model\")\n",
        "plt.plot(epochs, val_loss_dropout, \"b-\",\n",
        "         label=\"Validation loss of dropout-regularized model\")\n",
        "plt.title(\"Effect of dropout on validation loss\")\n",
        "plt.xlabel(\"Epochs\")\n",
        "plt.ylabel(\"Loss\")\n",
        "plt.legend()\n"
      ],
      "metadata": {
        "id": "TUKqFPrfxfXe",
        "colab": {
          "base_uri": "https://localhost:8080/",
          "height": 1000
        },
        "outputId": "c1e06f2d-47df-4932-a1d3-c7205cc33822"
      },
      "execution_count": 19,
      "outputs": [
        {
          "output_type": "stream",
          "name": "stdout",
          "text": [
            "Epoch 1/20\n",
            "30/30 [==============================] - 2s 73ms/step - loss: 0.3280 - accuracy: 0.9048 - val_loss: 0.6509 - val_accuracy: 0.7616\n",
            "Epoch 2/20\n",
            "30/30 [==============================] - 1s 34ms/step - loss: 0.3385 - accuracy: 0.8987 - val_loss: 0.4014 - val_accuracy: 0.8677\n",
            "Epoch 3/20\n",
            "30/30 [==============================] - 1s 49ms/step - loss: 0.3456 - accuracy: 0.8954 - val_loss: 0.3752 - val_accuracy: 0.8818\n",
            "Epoch 4/20\n",
            "30/30 [==============================] - 1s 50ms/step - loss: 0.3317 - accuracy: 0.9037 - val_loss: 0.3720 - val_accuracy: 0.8827\n",
            "Epoch 5/20\n",
            "30/30 [==============================] - 1s 49ms/step - loss: 0.3278 - accuracy: 0.9051 - val_loss: 0.3706 - val_accuracy: 0.8810\n",
            "Epoch 6/20\n",
            "30/30 [==============================] - 2s 53ms/step - loss: 0.3297 - accuracy: 0.9029 - val_loss: 0.4254 - val_accuracy: 0.8554\n",
            "Epoch 7/20\n",
            "30/30 [==============================] - 1s 41ms/step - loss: 0.3260 - accuracy: 0.9049 - val_loss: 0.4106 - val_accuracy: 0.8632\n",
            "Epoch 8/20\n",
            "30/30 [==============================] - 2s 53ms/step - loss: 0.3308 - accuracy: 0.9028 - val_loss: 0.3907 - val_accuracy: 0.8731\n",
            "Epoch 9/20\n",
            "30/30 [==============================] - 1s 32ms/step - loss: 0.3132 - accuracy: 0.9099 - val_loss: 0.3802 - val_accuracy: 0.8801\n",
            "Epoch 10/20\n",
            "30/30 [==============================] - 1s 31ms/step - loss: 0.3147 - accuracy: 0.9101 - val_loss: 0.3694 - val_accuracy: 0.8819\n",
            "Epoch 11/20\n",
            "30/30 [==============================] - 1s 30ms/step - loss: 0.3252 - accuracy: 0.9021 - val_loss: 0.3885 - val_accuracy: 0.8733\n",
            "Epoch 12/20\n",
            "30/30 [==============================] - 1s 31ms/step - loss: 0.3143 - accuracy: 0.9093 - val_loss: 0.4020 - val_accuracy: 0.8659\n",
            "Epoch 13/20\n",
            "30/30 [==============================] - 1s 31ms/step - loss: 0.3135 - accuracy: 0.9089 - val_loss: 0.4602 - val_accuracy: 0.8417\n",
            "Epoch 14/20\n",
            "30/30 [==============================] - 1s 32ms/step - loss: 0.3061 - accuracy: 0.9139 - val_loss: 0.3675 - val_accuracy: 0.8810\n",
            "Epoch 15/20\n",
            "30/30 [==============================] - 1s 31ms/step - loss: 0.3053 - accuracy: 0.9146 - val_loss: 0.3811 - val_accuracy: 0.8760\n",
            "Epoch 16/20\n",
            "30/30 [==============================] - 1s 31ms/step - loss: 0.3047 - accuracy: 0.9120 - val_loss: 0.3686 - val_accuracy: 0.8825\n",
            "Epoch 17/20\n",
            "30/30 [==============================] - 1s 31ms/step - loss: 0.3064 - accuracy: 0.9122 - val_loss: 0.3753 - val_accuracy: 0.8791\n",
            "Epoch 18/20\n",
            "30/30 [==============================] - 1s 32ms/step - loss: 0.3010 - accuracy: 0.9167 - val_loss: 0.3729 - val_accuracy: 0.8797\n",
            "Epoch 19/20\n",
            "30/30 [==============================] - 1s 31ms/step - loss: 0.3096 - accuracy: 0.9073 - val_loss: 0.3765 - val_accuracy: 0.8791\n",
            "Epoch 20/20\n",
            "30/30 [==============================] - 1s 31ms/step - loss: 0.2868 - accuracy: 0.9234 - val_loss: 0.3828 - val_accuracy: 0.8755\n"
          ]
        },
        {
          "output_type": "execute_result",
          "data": {
            "text/plain": [
              "<matplotlib.legend.Legend at 0x7f87d6958dd0>"
            ]
          },
          "metadata": {},
          "execution_count": 19
        },
        {
          "output_type": "display_data",
          "data": {
            "text/plain": [
              "<Figure size 432x288 with 1 Axes>"
            ],
            "image/png": "[encoded data removed]"
          },
          "metadata": {
            "needs_background": "light"
          }
        }
      ]
    },
    {
      "cell_type": "markdown",
      "source": [
        "- dropout achieves clear improvement over the reference model\n",
        "- it also seems to be working much better than L2 regularization (lowest validation loss reached has improved)"
      ],
      "metadata": {
        "id": "qYMwGkZ3yRG8"
      }
    },
    {
      "cell_type": "markdown",
      "source": [
        "**How does dropout work?**"
      ],
      "metadata": {
        "id": "hlI58XZAHHFB"
      }
    },
    {
      "cell_type": "markdown",
      "source": [
        "- dropout, **applied to a layer**, consists of randomly dropping out (setting to zero) a number of output features of the layer **during training**\n",
        "- after applying dropout, the layer output will have a few zero entries distributed at random\n",
        "- the dropout rate is the fraction of the features that are zeroed out; it’s usually set between 0.2 and 0.5."
      ],
      "metadata": {
        "id": "b6U0RxbuH45Y"
      }
    },
    {
      "cell_type": "code",
      "source": [
        "\n",
        "batch_size = 4\n",
        "feature_dim = 5\n",
        "layer_output = tf.random.uniform((batch_size, feature_dim)) # in reality, layer_output will not be random\n",
        "layer_output.numpy()\n",
        "\n",
        "# dropout probability\n",
        "dropout = 0.2\n",
        "\n",
        "# random boolean array where True occurs with prob 1-dropout\n",
        "mask = tf.random.uniform(shape=layer_output.shape) < 1-dropout\n",
        "\n",
        "# convert True/False to 1/0\n",
        "\n",
        "mask = tf.cast(mask, tf.float32)\n",
        "\n",
        "# put on the mask\n",
        "\n",
        "layer_output_dropout = layer_output * mask\n",
        "\n",
        "# roughly half of the entries will have been zeroed out\n",
        "layer_output_dropout /= 1-dropout\n",
        "\n",
        "# keep the random layer output unbiased!\n"
      ],
      "metadata": {
        "id": "ECYXe42QHJVg"
      },
      "execution_count": 20,
      "outputs": []
    },
    {
      "cell_type": "code",
      "source": [],
      "metadata": {
        "id": "Tcg8NxaBH0SC"
      },
      "execution_count": null,
      "outputs": []
    },
    {
      "cell_type": "code",
      "source": [],
      "metadata": {
        "id": "qhijdA6aMJVx"
      },
      "execution_count": null,
      "outputs": []
    },
    {
      "cell_type": "code",
      "source": [],
      "metadata": {
        "id": "juZdYjXbIbHQ"
      },
      "execution_count": null,
      "outputs": []
    },
    {
      "cell_type": "markdown",
      "source": [
        "**Simulation to check for unbiased property**\n",
        "\n",
        "Suppose we have a weight $w$ and we zero it out with probability $p$ as follows:\n",
        "\n",
        "$$\n",
        "w_D = w \\cdot 1[U < 1-p]\n",
        "$$\n",
        "\n",
        "where random variable $U$ distributed as Uniform$(0,1)$. Can you verify the following unbiasedness property?\n",
        "\n",
        "$$\n",
        "E\\left[ \\frac{w_D}{1-p} \\right] = w\n",
        "$$\n",
        "\n",
        "Note that $w_D$ is either $w$ (with prob $1-p$) or $0$ (with prob $p$) and therefore\n",
        "\n",
        "$$\n",
        "E\\left[ w_D \\right] = w \\cdot (1-p) + 0 \\cdot p = w(1-p)\n",
        "$$"
      ],
      "metadata": {
        "id": "IYBGr4TzNoAl"
      }
    },
    {
      "cell_type": "code",
      "source": [
        "\n",
        "num_iters = 1000\n",
        "sum = tf.zeros_like(layer_output)\n",
        "for i in range(num_iters):\n",
        "  mask = tf.random.uniform(shape=layer_output.shape) < 1 - dropout\n",
        "  mask = tf.cast(mask, tf.float32)\n",
        "  layer_output_dropout = layer_output * mask\n",
        "  layer_output_dropout /= 1 - dropout\n",
        "  sum += layer_output_dropout\n",
        "average = sum/num_iters\n",
        "print(\"original layer output:\\n\", layer_output.numpy())  # original layer output\n",
        "print(f\"average over {num_iters} applications of dropout:\\n\", average.numpy()) # the average of zeroed out layer outputs will be close to the original output"
      ],
      "metadata": {
        "id": "hRhdqVnFI7vD",
        "colab": {
          "base_uri": "https://localhost:8080/"
        },
        "outputId": "92625dea-408e-4519-9d3e-54be74d8289f"
      },
      "execution_count": 21,
      "outputs": [
        {
          "output_type": "stream",
          "name": "stdout",
          "text": [
            "original layer output:\n",
            " [[0.21388793 0.6737547  0.4377061  0.41348708 0.14098966]\n",
            " [0.09045982 0.8052676  0.2332381  0.45101655 0.33014524]\n",
            " [0.89679086 0.01144171 0.46760464 0.02508891 0.40856957]\n",
            " [0.14005089 0.84498036 0.7334926  0.7430736  0.34887588]]\n",
            "average over 1000 applications of dropout:\n",
            " [[0.21388881 0.6905922  0.44153216 0.41710168 0.14169511]\n",
            " [0.09068631 0.81332517 0.22944896 0.44932842 0.32312855]\n",
            " [0.8990298  0.0115276  0.47052538 0.02502615 0.4177622 ]\n",
            " [0.13865073 0.85659254 0.73441213 0.73378134 0.35192952]]\n"
          ]
        }
      ]
    },
    {
      "cell_type": "markdown",
      "source": [
        "**The paper that introduced dropout**\n",
        "\n",
        "If you're interested in learning more about dropout including the motivation behind it and connections to deterministic forms of regularization, see the paper:\n",
        "\n",
        "Srivastava, N., Hinton, G., Krizhevsky, A., Sutskever, I., & Salakhutdinov, R. (2014).  \n",
        "Dropout: a simple way to prevent neural networks from overfitting.  \n",
        "The Journal of Machine Learning Research, 15(1), 1929-1958.  \n",
        "https://www.jmlr.org/papers/volume15/srivastava14a/srivastava14a.pdf"
      ],
      "metadata": {
        "id": "ysuiifeWQeeG"
      }
    }
  ],
  "metadata": {
    "colab": {
      "collapsed_sections": [],
      "provenance": []
    },
    "kernelspec": {
      "display_name": "Python 3",
      "language": "python",
      "name": "python3"
    },
    "language_info": {
      "codemirror_mode": {
        "name": "ipython",
        "version": 3
      },
      "file_extension": ".py",
      "mimetype": "text/x-python",
      "name": "python",
      "nbconvert_exporter": "python",
      "pygments_lexer": "ipython3",
      "version": "3.7.0"
    }
  },
  "nbformat": 4,
  "nbformat_minor": 0
}