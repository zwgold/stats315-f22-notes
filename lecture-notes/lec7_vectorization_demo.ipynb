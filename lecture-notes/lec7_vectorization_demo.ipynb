{
  "nbformat": 4,
  "nbformat_minor": 0,
  "metadata": {
    "colab": {
      "provenance": [],
      "collapsed_sections": []
    },
    "kernelspec": {
      "name": "python3",
      "display_name": "Python 3"
    },
    "language_info": {
      "name": "python"
    }
  },
  "cells": [
    {
      "cell_type": "code",
      "execution_count": null,
      "metadata": {
        "id": "CwJ5mBF959eT",
        "colab": {
          "base_uri": "https://localhost:8080/"
        },
        "outputId": "79023ec6-2b30-45f6-a9d6-2998cf9f3811"
      },
      "outputs": [
        {
          "output_type": "stream",
          "name": "stdout",
          "text": [
            "[1 2 3 4]\n"
          ]
        }
      ],
      "source": [
        "import numpy as np\n",
        "\n",
        "a = np.array([1,2,3,4])\n",
        "print(a)"
      ]
    },
    {
      "cell_type": "code",
      "source": [
        "import time\n",
        "\n",
        "a = np.random.rand(1000000)\n",
        "b = np.random.rand(1000000)\n",
        "\n",
        "tic = time.time()\n",
        "c = np.dot(a,b)\n",
        "toc = time.time()\n",
        "\n",
        "# print(\"a\", a, \"b\", b)\n",
        "# print(a.shape, b.shape)\n",
        "print(\"c\", c)\n",
        "print(\"Vectorized version:\" + str(1000*(toc-tic)) + \" ms\")\n",
        "\n",
        "c = 0\n",
        "tic = time.time()\n",
        "for i in range(1000000):\n",
        "    c += a[i]*b[i]\n",
        "toc = time.time()\n",
        "print(\"c\", c)\n",
        "print(\"For loop:\" + str(1000*(toc-tic)) + \" ms\")\n",
        "\n",
        "\n",
        "\n"
      ],
      "metadata": {
        "colab": {
          "base_uri": "https://localhost:8080/"
        },
        "id": "_klqt7rUR8o-",
        "outputId": "4b29745e-7a84-4495-e9ad-c773bf271db2"
      },
      "execution_count": null,
      "outputs": [
        {
          "output_type": "stream",
          "name": "stdout",
          "text": [
            "c 250441.0384406331\n",
            "Vectorized version:1.8732547760009766 ms\n",
            "c 250441.0384406396\n",
            "For loop:470.9475040435791 ms\n"
          ]
        }
      ]
    },
    {
      "cell_type": "code",
      "source": [],
      "metadata": {
        "id": "wWQn8-IQSlBL"
      },
      "execution_count": null,
      "outputs": []
    }
  ]
}