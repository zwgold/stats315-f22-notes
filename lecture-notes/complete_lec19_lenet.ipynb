{
  "cells": [
    {
      "cell_type": "markdown",
      "metadata": {
        "id": "QtZxbW5tmBQm"
      },
      "source": [
        "**Notebook credit**: Based on the original D2L notebook [here](https://github.com/d2l-ai/d2l-tensorflow-colab/blob/master/chapter_convolutional-neural-networks/lenet.ipynb).\n"
      ]
    },
    {
      "cell_type": "markdown",
      "metadata": {
        "origin_pos": 0,
        "id": "z28SxNx1mBQq"
      },
      "source": [
        "# Convolutional Neural Networks (LeNet)\n",
        "\n",
        "We now have all the ingredients required to assemble\n",
        "a fully-functional CNN.\n",
        "In our earlier encounter with image data,\n",
        "we applied\n",
        "a softmax regression model \n",
        "and\n",
        "an MLP model \n",
        "to MNIST dataset.\n",
        "To make such data amenable to softmax regression and MLPs,\n",
        "we first flattened each image from a $28\\times28$ matrix\n",
        "into a fixed-length $784$-dimensional vector,\n",
        "and thereafter processed them with fully-connected layers.\n",
        "Now that we have a handle on convolutional layers,\n",
        "we can retain the spatial structure in our images.\n",
        "As an additional benefit of replacing fully-connected layers with convolutional layers,\n",
        "we will enjoy more parsimonious models that require far fewer parameters.\n",
        "\n",
        "In this section, we will introduce *LeNet*,\n",
        "among the first published CNNs\n",
        "to capture wide attention for its performance on computer vision tasks.\n",
        "The model was introduced by (and named for) Yann LeCun,\n",
        "then a researcher at AT&T Bell Labs,\n",
        "for the purpose of recognizing handwritten digits in images.\n",
        "This work represented the culmination\n",
        "of a decade of research developing the technology.\n",
        "In 1989, LeCun published the first study to successfully\n",
        "train CNNs via backpropagation.\n",
        "\n",
        "\n",
        "At the time LeNet achieved outstanding results\n",
        "matching the performance of support vector machines,\n",
        "then a dominant approach in supervised learning.\n",
        "LeNet was eventually adapted to recognize digits\n",
        "for processing deposits in ATM machines.\n",
        "To this day, some ATMs still run the code\n",
        "that Yann and his colleague Leon Bottou wrote in the 1990s!\n"
      ]
    },
    {
      "cell_type": "markdown",
      "source": [
        "\n",
        "\n",
        "## LeNet\n",
        "\n",
        "At a high level, (**LeNet (LeNet-5) consists of two parts:\n",
        "(i) a convolutional encoder consisting of two convolutional layers; and\n",
        "(ii) a dense block consisting of three fully-connected layers**);\n",
        "The architecture is summarized below.\n",
        "\n",
        "![Data flow in LeNet. The input is a handwritten digit, the output a probability over 10 possible outcomes.](http://d2l.ai/_images/lenet.svg)\n",
        "\n",
        "\n",
        "The basic units in each convolutional block\n",
        "are a convolutional layer, a sigmoid activation function,\n",
        "and a subsequent average pooling operation.\n",
        "Note that while ReLUs and max-pooling work better,\n",
        "these discoveries had not yet been made in the 1990s.\n",
        "Each convolutional layer uses a $5\\times 5$ kernel\n",
        "and a sigmoid activation function.\n",
        "These layers map spatially arranged inputs\n",
        "to a number of two-dimensional feature maps, typically\n",
        "increasing the number of channels.\n",
        "The first convolutional layer has 6 output channels,\n",
        "while the second has 16.\n",
        "Each $2\\times2$ pooling operation (stride 2)\n",
        "reduces dimensionality by a factor of $4$ via spatial downsampling.\n",
        "The convolutional block emits an output with shape given by\n",
        "(batch size, number of channel, height, width).\n",
        "\n",
        "In order to pass output from the convolutional block\n",
        "to the dense block,\n",
        "we must flatten each example in the minibatch.\n",
        "In other words, we take this four-dimensional input and transform it\n",
        "into the two-dimensional input expected by fully-connected layers:\n",
        "as a reminder, the two-dimensional representation that we desire uses the first dimension to index examples in the minibatch\n",
        "and the second to give the flat vector representation of each example.\n",
        "LeNet's dense block has three fully-connected layers,\n",
        "with 120, 84, and 10 outputs, respectively.\n",
        "Because we are still performing classification,\n",
        "the 10-dimensional output layer corresponds\n",
        "to the number of possible output classes.\n",
        "\n",
        "While getting to the point where you truly understand\n",
        "what is going on inside LeNet may have taken a bit of work,\n",
        "hopefully the following code snippet will convince you\n",
        "that implementing such models with modern deep learning frameworks\n",
        "is remarkably simple.\n",
        "We need only to instantiate a `Sequential` block\n",
        "and chain together the appropriate layers.\n"
      ],
      "metadata": {
        "id": "EIIHdUpl7VHV"
      }
    },
    {
      "cell_type": "code",
      "execution_count": 1,
      "metadata": {
        "origin_pos": 3,
        "tab": [
          "tensorflow"
        ],
        "id": "IvdOvY0ZmBQs"
      },
      "outputs": [],
      "source": [
        "import tensorflow as tf\n",
        "from tensorflow import keras\n",
        "from tensorflow.keras import layers"
      ]
    },
    {
      "cell_type": "markdown",
      "metadata": {
        "origin_pos": 4,
        "id": "gOXF-qkHmBQt"
      },
      "source": [
        "We took a small liberty with the original model,\n",
        "removing the Gaussian activation in the final layer.\n",
        "Other than that, this network matches\n",
        "the original LeNet-5 architecture.\n",
        "\n",
        "By passing a single-channel (black and white)\n",
        "$28 \\times 28$ image through the network\n",
        "and printing the output shape at each layer,\n",
        "we can [**inspect the model**] to make sure\n",
        "that its operations line up with\n",
        "what we expect from the figure above.\n",
        "\n",
        "![Compressed notation for LeNet-5.](https://github.com/d2l-ai/d2l-tensorflow-colab/blob/master/img/lenet-vert.svg?raw=1)\n"
      ]
    },
    {
      "cell_type": "markdown",
      "metadata": {
        "origin_pos": 8,
        "id": "78d-m1ygmBQu"
      },
      "source": [
        "Note that the height and width of the representation\n",
        "at each layer throughout the convolutional block\n",
        "is reduced (compared with the previous layer).\n",
        "The first convolutional layer uses 2 pixels of padding\n",
        "to compensate for the reduction in height and width\n",
        "that would otherwise result from using a $5 \\times 5$ kernel.\n",
        "In contrast, the second convolutional layer forgoes padding,\n",
        "and thus the height and width are both reduced by 4 pixels.\n",
        "As we go up the stack of layers,\n",
        "the number of channels increases layer-over-layer\n",
        "from 1 in the input to 6 after the first convolutional layer\n",
        "and 16 after the second convolutional layer.\n",
        "However, each pooling layer halves the height and width.\n",
        "Finally, each fully-connected layer reduces dimensionality,\n",
        "finally emitting an output whose dimension\n",
        "matches the number of classes.\n",
        "\n",
        "\n",
        "\n",
        "## Training\n",
        "\n",
        "Now that we have implemented the model,\n",
        "let us [**run an experiment to see how LeNet fares on Fashion-MNIST**].\n"
      ]
    },
    {
      "cell_type": "code",
      "execution_count": 2,
      "metadata": {
        "origin_pos": 9,
        "tab": [
          "tensorflow"
        ],
        "id": "b8-dzxrsmBQv",
        "colab": {
          "base_uri": "https://localhost:8080/"
        },
        "outputId": "94166109-9f39-43f3-9721-66d04ac58bfc"
      },
      "outputs": [
        {
          "output_type": "stream",
          "name": "stdout",
          "text": [
            "Downloading data from https://storage.googleapis.com/tensorflow/tf-keras-datasets/train-labels-idx1-ubyte.gz\n",
            "29515/29515 [==============================] - 0s 0us/step\n",
            "Downloading data from https://storage.googleapis.com/tensorflow/tf-keras-datasets/train-images-idx3-ubyte.gz\n",
            "26421880/26421880 [==============================] - 3s 0us/step\n",
            "Downloading data from https://storage.googleapis.com/tensorflow/tf-keras-datasets/t10k-labels-idx1-ubyte.gz\n",
            "5148/5148 [==============================] - 0s 0us/step\n",
            "Downloading data from https://storage.googleapis.com/tensorflow/tf-keras-datasets/t10k-images-idx3-ubyte.gz\n",
            "4422102/4422102 [==============================] - 0s 0us/step\n"
          ]
        }
      ],
      "source": [
        "batch_size = 256\n",
        "(x_train, y_train), (x_test, y_test) = tf.keras.datasets.fashion_mnist.load_data()\n",
        "x_train = x_train.astype('float32') / 255\n",
        "x_test = x_test.astype('float32') / 255"
      ]
    },
    {
      "cell_type": "code",
      "source": [
        "num_epochs = 20\n",
        "\n",
        "# generally alternate between conv and pooling layers \n",
        "# only do padding with input layer, not intermediate layers\n",
        "# flatten before combining with dense layers\n",
        "model = keras.Sequential([\n",
        "    layers.Conv2DTranspose(filters = 6, kernel_size = 5, activation = 'sigmoid', padding = 'same', input_shape = (28, 28, 1)), \n",
        "    layers.AvgPool2D(pool_size = 2, strides = 2), \n",
        "    layers.Conv2D(filters = 16, kernel_size = 5, activation = 'sigmoid'),\n",
        "    layers.AvgPool2D(pool_size = 2, strides = 2), \n",
        "    layers.Flatten(), \n",
        "    layers.Dense(120, activation = 'sigmoid'),\n",
        "    layers.Dense(84, activation = 'sigmoid'), \n",
        "    layers.Dense(10, activation = 'softmax')\n",
        "])"
      ],
      "metadata": {
        "id": "SCFlRVAc8Wdm"
      },
      "execution_count": 7,
      "outputs": []
    },
    {
      "cell_type": "code",
      "source": [
        "model.compile(optimizer = 'rmsprop', loss = 'sparse_categorical_crossentropy', metrics = ['accuracy'])"
      ],
      "metadata": {
        "id": "_2mtUFCO9wbS"
      },
      "execution_count": 8,
      "outputs": []
    },
    {
      "cell_type": "code",
      "source": [
        "# higher accuracy, less prone to overfiit\n",
        "history = model.fit(x_train, y_train, epochs = num_epochs, batch_size = batch_size, validation_split = 0.2)"
      ],
      "metadata": {
        "colab": {
          "base_uri": "https://localhost:8080/"
        },
        "id": "uRE18zrb93NG",
        "outputId": "a863165b-9d88-4a34-83cd-432826ee74be"
      },
      "execution_count": 11,
      "outputs": [
        {
          "output_type": "stream",
          "name": "stdout",
          "text": [
            "Epoch 1/20\n",
            "188/188 [==============================] - 10s 10ms/step - loss: 1.7503 - accuracy: 0.3957 - val_loss: 1.0713 - val_accuracy: 0.6194\n",
            "Epoch 2/20\n",
            "188/188 [==============================] - 1s 6ms/step - loss: 0.9122 - accuracy: 0.6690 - val_loss: 0.8037 - val_accuracy: 0.7057\n",
            "Epoch 3/20\n",
            "188/188 [==============================] - 1s 6ms/step - loss: 0.7652 - accuracy: 0.7134 - val_loss: 0.7267 - val_accuracy: 0.7103\n",
            "Epoch 4/20\n",
            "188/188 [==============================] - 1s 6ms/step - loss: 0.6953 - accuracy: 0.7328 - val_loss: 0.6738 - val_accuracy: 0.7367\n",
            "Epoch 5/20\n",
            "188/188 [==============================] - 1s 5ms/step - loss: 0.6558 - accuracy: 0.7455 - val_loss: 0.6202 - val_accuracy: 0.7612\n",
            "Epoch 6/20\n",
            "188/188 [==============================] - 1s 5ms/step - loss: 0.6283 - accuracy: 0.7555 - val_loss: 0.6098 - val_accuracy: 0.7551\n",
            "Epoch 7/20\n",
            "188/188 [==============================] - 1s 5ms/step - loss: 0.6065 - accuracy: 0.7653 - val_loss: 0.5969 - val_accuracy: 0.7728\n",
            "Epoch 8/20\n",
            "188/188 [==============================] - 1s 5ms/step - loss: 0.5884 - accuracy: 0.7732 - val_loss: 0.5688 - val_accuracy: 0.7840\n",
            "Epoch 9/20\n",
            "188/188 [==============================] - 1s 6ms/step - loss: 0.5679 - accuracy: 0.7844 - val_loss: 0.5510 - val_accuracy: 0.7942\n",
            "Epoch 10/20\n",
            "188/188 [==============================] - 1s 5ms/step - loss: 0.5499 - accuracy: 0.7927 - val_loss: 0.5323 - val_accuracy: 0.8021\n",
            "Epoch 11/20\n",
            "188/188 [==============================] - 1s 5ms/step - loss: 0.5332 - accuracy: 0.7979 - val_loss: 0.5456 - val_accuracy: 0.7896\n",
            "Epoch 12/20\n",
            "188/188 [==============================] - 1s 5ms/step - loss: 0.5169 - accuracy: 0.8062 - val_loss: 0.5174 - val_accuracy: 0.8038\n",
            "Epoch 13/20\n",
            "188/188 [==============================] - 1s 5ms/step - loss: 0.5023 - accuracy: 0.8112 - val_loss: 0.5090 - val_accuracy: 0.8002\n",
            "Epoch 14/20\n",
            "188/188 [==============================] - 1s 5ms/step - loss: 0.4883 - accuracy: 0.8180 - val_loss: 0.4844 - val_accuracy: 0.8138\n",
            "Epoch 15/20\n",
            "188/188 [==============================] - 1s 6ms/step - loss: 0.4756 - accuracy: 0.8240 - val_loss: 0.4820 - val_accuracy: 0.8229\n",
            "Epoch 16/20\n",
            "188/188 [==============================] - 1s 5ms/step - loss: 0.4648 - accuracy: 0.8268 - val_loss: 0.5483 - val_accuracy: 0.7887\n",
            "Epoch 17/20\n",
            "188/188 [==============================] - 1s 6ms/step - loss: 0.4560 - accuracy: 0.8317 - val_loss: 0.4732 - val_accuracy: 0.8235\n",
            "Epoch 18/20\n",
            "188/188 [==============================] - 1s 7ms/step - loss: 0.4470 - accuracy: 0.8347 - val_loss: 0.4730 - val_accuracy: 0.8153\n",
            "Epoch 19/20\n",
            "188/188 [==============================] - 1s 7ms/step - loss: 0.4390 - accuracy: 0.8380 - val_loss: 0.4347 - val_accuracy: 0.8373\n",
            "Epoch 20/20\n",
            "188/188 [==============================] - 1s 6ms/step - loss: 0.4321 - accuracy: 0.8399 - val_loss: 0.4419 - val_accuracy: 0.8359\n"
          ]
        }
      ]
    },
    {
      "cell_type": "code",
      "source": [
        "model.summary()"
      ],
      "metadata": {
        "colab": {
          "base_uri": "https://localhost:8080/"
        },
        "id": "zqoHe53h-SKd",
        "outputId": "97884434-f3b5-4131-b01a-bacd1592e155"
      },
      "execution_count": 12,
      "outputs": [
        {
          "output_type": "stream",
          "name": "stdout",
          "text": [
            "Model: \"sequential\"\n",
            "_________________________________________________________________\n",
            " Layer (type)                Output Shape              Param #   \n",
            "=================================================================\n",
            " conv2d_transpose_2 (Conv2DT  (None, 28, 28, 6)        156       \n",
            " ranspose)                                                       \n",
            "                                                                 \n",
            " average_pooling2d_2 (Averag  (None, 14, 14, 6)        0         \n",
            " ePooling2D)                                                     \n",
            "                                                                 \n",
            " conv2d (Conv2D)             (None, 10, 10, 16)        2416      \n",
            "                                                                 \n",
            " average_pooling2d_3 (Averag  (None, 5, 5, 16)         0         \n",
            " ePooling2D)                                                     \n",
            "                                                                 \n",
            " flatten (Flatten)           (None, 400)               0         \n",
            "                                                                 \n",
            " dense (Dense)               (None, 120)               48120     \n",
            "                                                                 \n",
            " dense_1 (Dense)             (None, 84)                10164     \n",
            "                                                                 \n",
            " dense_2 (Dense)             (None, 10)                850       \n",
            "                                                                 \n",
            "=================================================================\n",
            "Total params: 61,706\n",
            "Trainable params: 61,706\n",
            "Non-trainable params: 0\n",
            "_________________________________________________________________\n"
          ]
        }
      ]
    },
    {
      "cell_type": "markdown",
      "metadata": {
        "origin_pos": 10,
        "id": "rvZvGGm6mBQv"
      },
      "source": [
        "While CNNs have fewer parameters,\n",
        "they can still be more expensive to compute\n",
        "than similarly deep MLPs\n",
        "because each parameter participates in many more\n",
        "multiplications.\n",
        "If you have access to a GPU, this might be a good time\n",
        "to put it into action to speed up training.\n"
      ]
    },
    {
      "cell_type": "markdown",
      "metadata": {
        "origin_pos": 14,
        "id": "TXtW6909mBQw"
      },
      "source": [
        "We also need to [**update our training function to deal with GPUs.**]\n",
        "Unlike the `train_epoch_ch3` defined in :numref:`sec_softmax_scratch`,\n",
        "we now need to move each minibatch of data\n",
        "to our designated device (hopefully, the GPU)\n",
        "prior to making the forward and backward propagations.\n",
        "\n",
        "The training function `train_ch6` is also similar\n",
        "to `train_ch3` defined in :numref:`sec_softmax_scratch`.\n",
        "Since we will be implementing networks with many layers\n",
        "going forward, we will rely primarily on high-level APIs.\n",
        "The following training function assumes a model created from high-level APIs\n",
        "as input and is optimized accordingly.\n",
        "We initialize the model parameters\n",
        "on the device indicated by the `device` argument, using Xavier initialization as introduced in :numref:`subsec_xavier`.\n",
        "Just as with MLPs, our loss function is cross-entropy,\n",
        "and we minimize it via minibatch stochastic gradient descent.\n",
        "Since each epoch takes tens of seconds to run,\n",
        "we visualize the training loss more frequently.\n"
      ]
    },
    {
      "cell_type": "markdown",
      "metadata": {
        "origin_pos": 18,
        "id": "DmukZOj7mBQx"
      },
      "source": [
        "[**Now let us train and evaluate the LeNet-5 model.**]\n"
      ]
    },
    {
      "cell_type": "code",
      "execution_count": null,
      "metadata": {
        "origin_pos": 19,
        "tab": [
          "tensorflow"
        ],
        "id": "GqZC5QLamBQx"
      },
      "outputs": [],
      "source": []
    },
    {
      "cell_type": "code",
      "source": [],
      "metadata": {
        "id": "Rhn_YwGZrPYL"
      },
      "execution_count": null,
      "outputs": []
    },
    {
      "cell_type": "code",
      "source": [],
      "metadata": {
        "id": "RaGZY1vItuE_"
      },
      "execution_count": null,
      "outputs": []
    },
    {
      "cell_type": "code",
      "source": [
        "import matplotlib.pyplot as plt\n",
        "\n",
        "val_acc = history.history[\"val_accuracy\"]\n",
        "acc = history.history[\"accuracy\"]\n",
        "epochs = range(1, 21)\n",
        "plt.plot(epochs, val_acc, \"b--\",\n",
        "         label=\"Validation loss\")\n",
        "plt.plot(epochs, acc, \"b\",\n",
        "         label=\"Training loss\")\n",
        "plt.title(\"Training and Validation Accuracies on Fashion MNIST\")\n",
        "plt.xlabel(\"Epochs\")\n",
        "plt.ylabel(\"Accuracy\")\n",
        "plt.legend()\n",
        "plt.show()"
      ],
      "metadata": {
        "id": "3W831M8GwQGt",
        "colab": {
          "base_uri": "https://localhost:8080/",
          "height": 295
        },
        "outputId": "4803cb90-19f4-47b8-c8a9-9eb672a5d272"
      },
      "execution_count": 13,
      "outputs": [
        {
          "output_type": "display_data",
          "data": {
            "text/plain": [
              "<Figure size 432x288 with 1 Axes>"
            ],
            "image/png": "[encoded data removed]"
          },
          "metadata": {
            "needs_background": "light"
          }
        }
      ]
    },
    {
      "cell_type": "code",
      "source": [
        "model.evaluate(x_test, y_test)"
      ],
      "metadata": {
        "id": "9qrYdOoctyF8",
        "colab": {
          "base_uri": "https://localhost:8080/"
        },
        "outputId": "21e82ee5-1987-41b5-92e7-7117ca7c2a16"
      },
      "execution_count": 14,
      "outputs": [
        {
          "output_type": "stream",
          "name": "stdout",
          "text": [
            "313/313 [==============================] - 1s 3ms/step - loss: 0.4651 - accuracy: 0.8274\n"
          ]
        },
        {
          "output_type": "execute_result",
          "data": {
            "text/plain": [
              "[0.46509096026420593, 0.8274000287055969]"
            ]
          },
          "metadata": {},
          "execution_count": 14
        }
      ]
    },
    {
      "cell_type": "markdown",
      "metadata": {
        "origin_pos": 20,
        "id": "aPeJcu_PmBQy"
      },
      "source": [
        "## Summary\n",
        "\n",
        "* A CNN is a network that employs convolutional layers.\n",
        "* In a CNN, we interleave convolutions, nonlinearities, and (often) pooling operations.\n",
        "* In a CNN, convolutional layers are typically arranged so that they gradually decrease the spatial resolution of the representations, while increasing the number of channels.\n",
        "* In traditional CNNs, the representations encoded by the convolutional blocks are processed by one or more fully-connected layers prior to emitting output.\n",
        "* LeNet was arguably the first successful deployment of such a network.\n"
      ]
    }
  ],
  "metadata": {
    "accelerator": "GPU",
    "kernelspec": {
      "display_name": "Python 3",
      "name": "python3"
    },
    "language_info": {
      "name": "python"
    },
    "colab": {
      "provenance": [],
      "collapsed_sections": []
    }
  },
  "nbformat": 4,
  "nbformat_minor": 0
}