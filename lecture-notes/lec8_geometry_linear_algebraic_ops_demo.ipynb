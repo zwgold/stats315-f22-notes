{
  "cells": [
    {
      "cell_type": "markdown",
      "metadata": {
        "id": "eu1U24dMtzRy"
      },
      "source": [
        "**Notebook credit**: Based on the original D2L notebook [here](https://github.com/d2l-ai/d2l-en-colab/blob/master/chapter_appendix-mathematics-for-deep-learning/geometry-linear-algebraic-ops.ipynb)."
      ]
    },
    {
      "cell_type": "markdown",
      "metadata": {
        "origin_pos": 0,
        "id": "lIiOShzgtzR2"
      },
      "source": [
        "# Geometry and Linear Algebraic Operations\n",
        "\n",
        "Linear algebra is one of the key mathematical pillars\n",
        "underlying much of the work that we do in deep learning\n",
        "and in machine learning more broadly.\n",
        "\n",
        "Here, we will go deeper,\n",
        "highlighting some geometric interpretations of linear algebra operations,\n",
        "and introducing a few fundamental concepts.\n",
        "\n",
        "## Geometry of Vectors\n",
        "First, we need to discuss the two common geometric interpretations of vectors,\n",
        "as either points or directions in space.\n",
        "Fundamentally, a vector is a list of numbers such as the Python list below.\n"
      ]
    },
    {
      "cell_type": "code",
      "execution_count": null,
      "metadata": {
        "origin_pos": 1,
        "tab": [
          "mxnet"
        ],
        "id": "HfmmVaoKtzR3"
      },
      "outputs": [],
      "source": [
        "v = [1, 7, 0, 1]"
      ]
    },
    {
      "cell_type": "markdown",
      "metadata": {
        "origin_pos": 2,
        "id": "11duoGw2tzR3"
      },
      "source": [
        "Mathematicians most often write this as either a *column* or *row* vector, which is to say either as\n",
        "\n",
        "$$\n",
        "\\mathbf{x} = \\begin{bmatrix}1\\\\7\\\\0\\\\1\\end{bmatrix},\n",
        "$$\n",
        "\n",
        "or\n",
        "\n",
        "$$\n",
        "\\mathbf{x}^\\top = \\begin{bmatrix}1 & 7 & 0 & 1\\end{bmatrix}.\n",
        "$$\n",
        "\n",
        "These often have different interpretations,\n",
        "where data examples are column vectors\n",
        "and weights used to form weighted sums are row vectors.\n",
        "However, it can be beneficial to be flexible.\n",
        "Though a single vector's default orientation is a column vector,\n",
        "for any matrix representing a tabular dataset,\n",
        "treating each data example as a row vector\n",
        "in the matrix\n",
        "is more conventional.\n",
        "\n",
        "Given a vector, the first interpretation\n",
        "that we should give it is as a point in space.\n",
        "In two or three dimensions, we can visualize these points\n",
        "by using the components of the vectors to define\n",
        "the location of the points in space compared\n",
        "to a fixed reference called the *origin*.  This can be seen in the figure below.\n",
        "\n",
        "![An illustration of visualizing vectors as points in the plane.  The first component of the vector gives the $x$-coordinate, the second component gives the $y$-coordinate.  Higher dimensions are analogous, although much harder to visualize.](https://github.com/d2l-ai/d2l-en-colab/blob/master/img/grid-points.svg?raw=1)\n",
        "\n",
        "This geometric point of view allows us to consider the problem on a more abstract level.\n",
        "We can start considering tasks abstractly\n",
        "as collections of points in space and picturing the task\n",
        "as discovering how to separate two distinct clusters of points.\n",
        "\n",
        "In parallel, there is a second point of view\n",
        "that people often take of vectors: as directions in space.\n",
        "Not only can we think of the vector $\\mathbf{v} = [3,2]^\\top$\n",
        "as the location $3$ units to the right and $2$ units up from the origin,\n",
        "we can also think of it as the direction itself\n",
        "to take $3$ steps to the right and $2$ steps up.\n",
        "In this way, we consider all the vectors in figure below the same.\n",
        "\n",
        "![Any vector can be visualized as an arrow in the plane.  In this case, every vector drawn is a representation of the vector $(3,2)^\\top$.](https://github.com/d2l-ai/d2l-en-colab/blob/master/img/par-vec.svg?raw=1)\n",
        "\n",
        "\n",
        "One of the benefits of this shift is that\n",
        "we can make visual sense of the act of vector addition.\n",
        "In particular, we follow the directions given by one vector,\n",
        "and then follow the directions given by the other, as is seen below.\n",
        "\n",
        "![We can visualize vector addition by first following one vector, and then another.](https://github.com/d2l-ai/d2l-en-colab/blob/master/img/vec-add.svg?raw=1)\n",
        "\n",
        "\n",
        "Vector subtraction has a similar interpretation.\n",
        "By considering the identity that $\\mathbf{u} = \\mathbf{v} + (\\mathbf{u}-\\mathbf{v})$,\n",
        "we see that the vector $\\mathbf{u}-\\mathbf{v}$ is the direction\n",
        "that takes us from the point $\\mathbf{v}$ to the point $\\mathbf{u}$.\n",
        "\n",
        "\n",
        "## Dot Products and Angles\n",
        "If we take two column vectors $\\mathbf{u}$ and $\\mathbf{v}$,\n",
        "we can form their dot product by computing:\n",
        "\n",
        "$$\\mathbf{u}^\\top\\mathbf{v} = \\sum_i u_i\\cdot v_i.$$\n",
        "\n",
        "Because the dot product is symmetric, we will mirror the notation\n",
        "of classical multiplication and write\n",
        "\n",
        "$$\n",
        "\\mathbf{u}\\cdot\\mathbf{v} = \\mathbf{u}^\\top\\mathbf{v} = \\mathbf{v}^\\top\\mathbf{u},\n",
        "$$\n",
        "\n",
        "to highlight the fact that exchanging the order of the vectors will yield the same answer.\n",
        "\n",
        "The dot product also admits a geometric interpretation: it is closely related to the angle between two vectors.  Consider the angle shown below.\n",
        "\n",
        "![Between any two vectors in the plane there is a well defined angle $\\theta$.  We will see this angle is intimately tied to the dot product.](https://github.com/d2l-ai/d2l-en-colab/blob/master/img/vec-angle.svg?raw=1)\n",
        "\n",
        "\n",
        "To start, let us consider two specific vectors:\n",
        "\n",
        "$$\n",
        "\\mathbf{v} = (r,0) \\; \\text{and} \\; \\mathbf{w} = (s\\cos(\\theta), s \\sin(\\theta)).\n",
        "$$\n",
        "\n",
        "The vector $\\mathbf{v}$ is length $r$ and runs parallel to the $x$-axis,\n",
        "and the vector $\\mathbf{w}$ is of length $s$ and at angle $\\theta$ with the $x$-axis.\n",
        "If we compute the dot product of these two vectors, we see that\n",
        "\n",
        "$$\n",
        "\\mathbf{v}\\cdot\\mathbf{w} = rs\\cos(\\theta) = \\|\\mathbf{v}\\|\\|\\mathbf{w}\\|\\cos(\\theta).\n",
        "$$\n",
        "\n",
        "With some simple algebraic manipulation, we can rearrange terms to obtain\n",
        "\n",
        "$$\n",
        "\\theta = \\arccos\\left(\\frac{\\mathbf{v}\\cdot\\mathbf{w}}{\\|\\mathbf{v}\\|\\|\\mathbf{w}\\|}\\right).\n",
        "$$\n",
        "\n",
        "In short, for these two specific vectors,\n",
        "the dot product combined with the norms tell us the angle between the two vectors. This same fact is true in general. We will not derive the expression here, however,\n",
        "if we consider writing $\\|\\mathbf{v} - \\mathbf{w}\\|^2$ in two ways:\n",
        "one with the dot product, and the other geometrically using the law of cosines,\n",
        "we can obtain the full relationship.\n",
        "Indeed, for any two vectors $\\mathbf{v}$ and $\\mathbf{w}$,\n",
        "the angle between the two vectors is\n",
        "\n",
        "$$\\theta = \\arccos\\left(\\frac{\\mathbf{v}\\cdot\\mathbf{w}}{\\|\\mathbf{v}\\|\\|\\mathbf{w}\\|}\\right).$$\n",
        "\n",
        "This is a nice result since nothing in the computation references two-dimensions.\n",
        "Indeed, we can use this in three or three million dimensions without issue.\n",
        "\n",
        "As a simple example, let us see how to compute the angle between a pair of vectors:\n"
      ]
    },
    {
      "cell_type": "code",
      "execution_count": null,
      "metadata": {
        "origin_pos": 3,
        "tab": [
          "mxnet"
        ],
        "id": "8WCIRugOtzR4"
      },
      "outputs": [],
      "source": []
    },
    {
      "cell_type": "markdown",
      "metadata": {
        "origin_pos": 6,
        "id": "v2zs58MotzR5"
      },
      "source": [
        "We will not use it right now, but it is useful to know\n",
        "that we will refer to vectors for which the angle is $\\pi/2$\n",
        "(or equivalently $90^{\\circ}$) as being *orthogonal*.\n",
        "By examining the equation above, we see that this happens when $\\theta = \\pi/2$,\n",
        "which is the same thing as $\\cos(\\theta) = 0$.\n",
        "The only way this can happen is if the dot product itself is zero,\n",
        "and two vectors are orthogonal if and only if $\\mathbf{v}\\cdot\\mathbf{w} = 0$.\n",
        "This will prove to be a helpful formula when understanding objects geometrically.\n",
        "\n",
        "It is reasonable to ask: why is computing the angle useful?\n",
        "The answer comes in the kind of invariance we expect data to have.\n",
        "Consider an image, and a duplicate image,\n",
        "where every pixel value is the same but $10\\%$ the brightness.\n",
        "The values of the individual pixels are in general far from the original values.\n",
        "Thus, if one computed the distance between the original image and the darker one,\n",
        "the distance can be large.\n",
        "However, for most ML applications, the *content* is the same---it is still\n",
        "an image of a cat as far as a cat/dog classifier is concerned.\n",
        "However, if we consider the angle, it is not hard to see\n",
        "that for any vector $\\mathbf{v}$, the angle\n",
        "between $\\mathbf{v}$ and $0.1\\cdot\\mathbf{v}$ is zero.\n",
        "This corresponds to the fact that scaling vectors\n",
        "keeps the same direction and just changes the length.\n",
        "The angle considers the darker image identical.\n",
        "\n",
        "Examples like this are everywhere.\n",
        "In text, we might want the topic being discussed\n",
        "to not change if we write twice as long of document that says the same thing.\n",
        "For some encoding (such as counting the number of occurrences of words in some vocabulary), this corresponds to a doubling of the vector encoding the document,\n",
        "so again we can use the angle.\n",
        "\n",
        "### Cosine Similarity\n",
        "In ML contexts where the angle is employed\n",
        "to measure the closeness of two vectors,\n",
        "practitioners adopt the term *cosine similarity*\n",
        "to refer to the portion\n",
        "$$\n",
        "\\cos(\\theta) = \\frac{\\mathbf{v}\\cdot\\mathbf{w}}{\\|\\mathbf{v}\\|\\|\\mathbf{w}\\|}.\n",
        "$$\n",
        "\n",
        "The cosine takes a maximum value of $1$\n",
        "when the two vectors point in the same direction,\n",
        "a minimum value of $-1$ when they point in opposite directions,\n",
        "and a value of $0$ when the two vectors are orthogonal.\n",
        "Note that if the components of high-dimensional vectors\n",
        "are sampled randomly with mean $0$,\n",
        "their cosine will nearly always be close to $0$.\n",
        "\n",
        "\n",
        "## Hyperplanes\n",
        "\n",
        "In addition to working with vectors, another key object\n",
        "that you must understand to go far in linear algebra\n",
        "is the *hyperplane*, a generalization to higher dimensions\n",
        "of a line (two dimensions) or of a plane (three dimensions).\n",
        "In an $d$-dimensional vector space, a hyperplane has $d-1$ dimensions\n",
        "and divides the space into two half-spaces.\n",
        "\n",
        "Let us start with an example.\n",
        "Suppose that we have a column vector $\\mathbf{w}=[2,1]^\\top$. We want to know, \"what are the points $\\mathbf{v}$ with $\\mathbf{w}\\cdot\\mathbf{v} = 1$?\"\n",
        "By recalling the connection between dot products and angles above,\n",
        "we can see that this is equivalent to\n",
        "$$\n",
        "\\|\\mathbf{v}\\|\\|\\mathbf{w}\\|\\cos(\\theta) = 1 \\; \\iff \\; \\|\\mathbf{v}\\|\\cos(\\theta) = \\frac{1}{\\|\\mathbf{w}\\|} = \\frac{1}{\\sqrt{5}}.\n",
        "$$\n",
        "\n",
        "![Recalling trigonometry, we see the formula $\\|\\mathbf{v}\\|\\cos(\\theta)$ is the length of the projection of the vector $\\mathbf{v}$ onto the direction of $\\mathbf{w}$](https://github.com/d2l-ai/d2l-en-colab/blob/master/img/proj-vec.svg?raw=1)\n",
        "\n",
        "If we consider the geometric meaning of this expression,\n",
        "we see that this is equivalent to saying\n",
        "that the length of the projection of $\\mathbf{v}$\n",
        "onto the direction of $\\mathbf{w}$ is exactly $1/\\|\\mathbf{w}\\|$, as is shown above.\n",
        "The set of all points where this is true is a line\n",
        "at right angles to the vector $\\mathbf{w}$.\n",
        "If we wanted, we could find the equation for this line\n",
        "and see that it is $2x + y = 1$ or equivalently $y = 1 - 2x$.\n",
        "\n",
        "If we now look at what happens when we ask about the set of points with\n",
        "$\\mathbf{w}\\cdot\\mathbf{v} > 1$ or $\\mathbf{w}\\cdot\\mathbf{v} < 1$,\n",
        "we can see that these are cases where the projections\n",
        "are longer or shorter than $1/\\|\\mathbf{w}\\|$, respectively.\n",
        "Thus, those two inequalities define either side of the line.\n",
        "In this way, we have found a way to cut our space into two halves,\n",
        "where all the points on one side have dot product below a threshold,\n",
        "and the other side above as we see below.\n",
        "\n",
        "![If we now consider the inequality version of the expression, we see that our hyperplane (in this case: just a line) separates the space into two halves.](https://github.com/d2l-ai/d2l-en-colab/blob/master/img/space-division.svg?raw=1)\n",
        "\n",
        "The story in higher dimension is much the same.\n",
        "If we now take $\\mathbf{w} = [1,2,3]^\\top$\n",
        "and ask about the points in three dimensions with $\\mathbf{w}\\cdot\\mathbf{v} = 1$,\n",
        "we obtain a plane at right angles to the given vector $\\mathbf{w}$.\n",
        "The two inequalities again define the two sides of the plane as is shown below.\n",
        "\n",
        "![Hyperplanes in any dimension separate the space into two halves.](https://github.com/d2l-ai/d2l-en-colab/blob/master/img/space-division-3d.svg?raw=1)\n",
        "\n",
        "\n",
        "While our ability to visualize runs out at this point,\n",
        "nothing stops us from doing this in tens, hundreds, or billions of dimensions.\n",
        "This occurs often when thinking about machine learned models.\n",
        "For instance, we can understand linear classification models\n",
        "as methods to find hyperplanes that separate the different target classes.\n",
        "In this context, such hyperplanes are often referred to as *decision planes*.\n",
        "The majority of deep learned classification models end\n",
        "with a linear layer fed into a softmax,\n",
        "so one can interpret the role of the deep neural network\n",
        "to be to find a non-linear embedding such that the target classes\n",
        "can be separated cleanly by hyperplanes.\n",
        "\n",
        "To give a hand-built example, notice that we can produce a reasonable model\n",
        "to classify tiny images of t-shirts and trousers from the Fashion MNIST dataset\n",
        "(seen in :numref:`sec_fashion_mnist`)\n",
        "by just taking the vector between their means to define the decision plane\n",
        "and eyeball a crude threshold.  First we will load the data and compute the averages.\n"
      ]
    },
    {
      "cell_type": "code",
      "execution_count": null,
      "metadata": {
        "origin_pos": 7,
        "tab": [
          "mxnet"
        ],
        "id": "b1bUEUUptzR6"
      },
      "outputs": [],
      "source": [
        "# Load in the dataset\n"
      ]
    },
    {
      "cell_type": "code",
      "source": [
        "# keep only two classes each with 6,000 examples\n"
      ],
      "metadata": {
        "id": "B5xJ-HkG152k"
      },
      "execution_count": null,
      "outputs": []
    },
    {
      "cell_type": "code",
      "source": [
        "# full test set has 10,000 images, we'll just keep the 2,000 that have labels 0 or 1\n"
      ],
      "metadata": {
        "id": "CSORIERc2Oaq"
      },
      "execution_count": null,
      "outputs": []
    },
    {
      "cell_type": "code",
      "source": [
        "# Compute averages\n"
      ],
      "metadata": {
        "id": "sZOfQES22fQh"
      },
      "execution_count": null,
      "outputs": []
    },
    {
      "cell_type": "code",
      "source": [],
      "metadata": {
        "id": "vkuWNuUliZMr"
      },
      "execution_count": null,
      "outputs": []
    },
    {
      "cell_type": "markdown",
      "metadata": {
        "origin_pos": 10,
        "id": "RkqbROUrtzR7"
      },
      "source": [
        "It can be informative to examine these averages in detail, so let us plot what they look like.  In this case, we see that the average indeed resembles a blurry image of a t-shirt.\n"
      ]
    },
    {
      "cell_type": "code",
      "execution_count": null,
      "metadata": {
        "origin_pos": 11,
        "tab": [
          "mxnet"
        ],
        "id": "1UQyuIFetzR7"
      },
      "outputs": [],
      "source": [
        "import matplotlib.pyplot as plt\n",
        "\n",
        "# Plot average t-shirt\n"
      ]
    },
    {
      "cell_type": "markdown",
      "metadata": {
        "origin_pos": 13,
        "id": "X27sGQ5QtzR8"
      },
      "source": [
        "In the second case, we again see that the average resembles a blurry image of trousers.\n"
      ]
    },
    {
      "cell_type": "code",
      "execution_count": null,
      "metadata": {
        "origin_pos": 14,
        "tab": [
          "mxnet"
        ],
        "id": "3wBk1nmPtzR8"
      },
      "outputs": [],
      "source": [
        "# Plot average trousers\n"
      ]
    },
    {
      "cell_type": "markdown",
      "metadata": {
        "origin_pos": 16,
        "id": "RcrBnIeStzR8"
      },
      "source": [
        "In a fully machine learned solution, we would learn the threshold from the dataset.  In this case, we simply use a threshold that looked good on the training data by human trial and error.\n"
      ]
    },
    {
      "cell_type": "code",
      "execution_count": null,
      "metadata": {
        "origin_pos": 17,
        "tab": [
          "mxnet"
        ],
        "id": "KWXHAiqstzR9"
      },
      "outputs": [],
      "source": [
        "# Print test set accuracy with eyeballed threshold\n"
      ]
    },
    {
      "cell_type": "code",
      "source": [
        "# Accuracy\n"
      ],
      "metadata": {
        "id": "WS7cALSb4BO3"
      },
      "execution_count": null,
      "outputs": []
    },
    {
      "cell_type": "markdown",
      "metadata": {
        "origin_pos": 20,
        "id": "MmdGuKbltzR9"
      },
      "source": [
        "## Geometry of Linear Transformations\n",
        "\n",
        "Through the above discussions,\n",
        "we have a solid understanding of the geometry of vectors, lengths, and angles.\n",
        "However, there is one important object we have omitted discussing,\n",
        "and that is a geometric understanding of linear transformations represented by matrices.  Fully internalizing what matrices can do to transform data\n",
        "between two potentially different high dimensional spaces takes significant practice,\n",
        "and is beyond the scope of this notebook.\n",
        "However, we can start building up intuition in two dimensions.\n",
        "\n",
        "Suppose that we have some matrix:\n",
        "\n",
        "$$\n",
        "\\mathbf{A} = \\begin{bmatrix}\n",
        "a & b \\\\ c & d\n",
        "\\end{bmatrix}.\n",
        "$$\n",
        "\n",
        "If we want to apply this to an arbitrary vector\n",
        "$\\mathbf{v} = [x, y]^\\top$,\n",
        "we multiply and see that\n",
        "\n",
        "$$\n",
        "\\begin{aligned}\n",
        "\\mathbf{A}\\mathbf{v} & = \\begin{bmatrix}a & b \\\\ c & d\\end{bmatrix}\\begin{bmatrix}x \\\\ y\\end{bmatrix} \\\\\n",
        "& = \\begin{bmatrix}ax+by\\\\ cx+dy\\end{bmatrix} \\\\\n",
        "& = x\\begin{bmatrix}a \\\\ c\\end{bmatrix} + y\\begin{bmatrix}b \\\\d\\end{bmatrix} \\\\\n",
        "& = x\\left\\{\\mathbf{A}\\begin{bmatrix}1\\\\0\\end{bmatrix}\\right\\} + y\\left\\{\\mathbf{A}\\begin{bmatrix}0\\\\1\\end{bmatrix}\\right\\}.\n",
        "\\end{aligned}\n",
        "$$\n",
        "\n",
        "This may seem like an odd computation,\n",
        "where something clear became somewhat impenetrable.\n",
        "However, it tells us that we can write the way\n",
        "that a matrix transforms *any* vector\n",
        "in terms of how it transforms *two specific vectors*:\n",
        "$[1,0]^\\top$ and $[0,1]^\\top$.\n",
        "This is worth considering for a moment.\n",
        "We have essentially reduced an infinite problem\n",
        "(what happens to any pair of real numbers)\n",
        "to a finite one (what happens to these specific vectors).\n",
        "These vectors are an example a *basis*,\n",
        "where we can write any vector in our space\n",
        "as a weighted sum of these *basis vectors*.\n",
        "\n",
        "Let us draw what happens when we use the specific matrix\n",
        "\n",
        "$$\n",
        "\\mathbf{A} = \\begin{bmatrix}\n",
        "1 & 2 \\\\\n",
        "-1 & 3\n",
        "\\end{bmatrix}.\n",
        "$$\n",
        "\n",
        "If we look at the specific vector $\\mathbf{v} = [2, -1]^\\top$,\n",
        "we see this is $2\\cdot[1,0]^\\top + -1\\cdot[0,1]^\\top$,\n",
        "and thus we know that the matrix $A$ will send this to\n",
        "$2(\\mathbf{A}[1,0]^\\top) + -1(\\mathbf{A}[0,1])^\\top = 2[1, -1]^\\top - [2,3]^\\top = [0, -5]^\\top$.\n",
        "If we follow this logic through carefully,\n",
        "say by considering the grid of all integer pairs of points,\n",
        "we see that what happens is that the matrix multiplication\n",
        "can skew, rotate, and scale the grid,\n",
        "but the grid structure must remain as you see below.\n",
        "\n",
        "![The matrix $\\mathbf{A}$ acting on the given basis vectors.  Notice how the entire grid is transported along with it.](https://github.com/d2l-ai/d2l-en-colab/blob/master/img/grid-transform.svg?raw=1)\n",
        "\n",
        "\n",
        "This is the most important intuitive point\n",
        "to internalize about linear transformations represented by matrices.\n",
        "Matrices are incapable of distorting some parts of space differently than others.\n",
        "All they can do is take the original coordinates on our space\n",
        "and skew, rotate, and scale them.\n",
        "\n",
        "Some distortions can be severe.  For instance the matrix\n",
        "\n",
        "$$\n",
        "\\mathbf{B} = \\begin{bmatrix}\n",
        "2 & -1 \\\\ 4 & -2\n",
        "\\end{bmatrix},\n",
        "$$\n",
        "\n",
        "compresses the entire two-dimensional plane down to a single line.\n",
        "Identifying and working with such transformations are the topic of a later section,\n",
        "but geometrically we can see that this is fundamentally different\n",
        "from the types of transformations we saw above.\n",
        "For instance, the result from matrix $\\mathbf{A}$ can be \"bent back\" to the original grid.  The results from matrix $\\mathbf{B}$ cannot\n",
        "because we will never know where the vector $[1,2]^\\top$ came from---was\n",
        "it $[1,1]^\\top$ or $[0, -1]^\\top$?\n",
        "\n",
        "While this picture was for a $2\\times2$ matrix,\n",
        "nothing prevents us from taking the lessons learned into higher dimensions.\n",
        "If we take similar basis vectors like $[1,0, \\ldots,0]$\n",
        "and see where our matrix sends them,\n",
        "we can start to get a feeling for how the matrix multiplication\n",
        "distorts the entire space in whatever dimension space we are dealing with.\n"
      ]
    },
    {
      "cell_type": "markdown",
      "source": [
        "\n",
        "## Linear Dependence\n",
        "\n",
        "Consider again the matrix\n",
        "\n",
        "$$\n",
        "\\mathbf{B} = \\begin{bmatrix}\n",
        "2 & -1 \\\\ 4 & -2\n",
        "\\end{bmatrix}.\n",
        "$$\n",
        "\n",
        "This compresses the entire plane down to live on the single line $y = 2x$.\n",
        "The question now arises: is there some way we can detect this\n",
        "just looking at the matrix itself?\n",
        "The answer is that indeed we can.\n",
        "Let us take $\\mathbf{b}_1 = [2,4]^\\top$ and $\\mathbf{b}_2 = [-1, -2]^\\top$\n",
        "be the two columns of $\\mathbf{B}$.\n",
        "Remember that we can write everything transformed by the matrix $\\mathbf{B}$\n",
        "as a weighted sum of the columns of the matrix:\n",
        "like $a_1\\mathbf{b}_1 + a_2\\mathbf{b}_2$.\n",
        "We call this a *linear combination*.\n",
        "The fact that $\\mathbf{b}_1 = -2\\cdot\\mathbf{b}_2$\n",
        "means that we can write any linear combination of those two columns\n",
        "entirely in terms of say $\\mathbf{b}_2$ since\n",
        "\n",
        "$$\n",
        "a_1\\mathbf{b}_1 + a_2\\mathbf{b}_2 = -2a_1\\mathbf{b}_2 + a_2\\mathbf{b}_2 = (a_2-2a_1)\\mathbf{b}_2.\n",
        "$$\n",
        "\n",
        "This means that one of the columns is, in a sense, redundant\n",
        "because it does not define a unique direction in space.\n",
        "This should not surprise us too much\n",
        "since we already saw that this matrix\n",
        "collapses the entire plane down into a single line.\n",
        "Moreover, we see that the linear dependence\n",
        "$\\mathbf{b}_1 = -2\\cdot\\mathbf{b}_2$ captures this.\n",
        "To make this more symmetrical between the two vectors, we will write this as\n",
        "\n",
        "$$\n",
        "\\mathbf{b}_1  + 2\\cdot\\mathbf{b}_2 = 0.\n",
        "$$\n",
        "\n",
        "In general, we will say that a collection of vectors\n",
        "$\\mathbf{v}_1, \\ldots, \\mathbf{v}_k$ are *linearly dependent*\n",
        "if there exist coefficients $a_1, \\ldots, a_k$ *not all equal to zero* so that\n",
        "\n",
        "$$\n",
        "\\sum_{i=1}^k a_i\\mathbf{v_i} = 0.\n",
        "$$\n",
        "\n",
        "In this case, we can solve for one of the vectors\n",
        "in terms of some combination of the others,\n",
        "and effectively render it redundant.\n",
        "Thus, a linear dependence in the columns of a matrix\n",
        "is a witness to the fact that our matrix\n",
        "is compressing the space down to some lower dimension.\n",
        "If there is no linear dependence we say the vectors are *linearly independent*.\n",
        "If the columns of a matrix are linearly independent,\n",
        "no compression occurs and the operation can be undone.\n"
      ],
      "metadata": {
        "id": "VJFaEJ2D6qLO"
      }
    },
    {
      "cell_type": "markdown",
      "source": [
        "\n",
        "## Rank\n",
        "\n",
        "If we have a general $n\\times m$ matrix,\n",
        "it is reasonable to ask what dimension space the matrix maps into.\n",
        "A concept known as the *rank* will be our answer.\n",
        "In the previous section, we noted that a linear dependence\n",
        "bears witness to compression of space into a lower dimension\n",
        "and so we will be able to use this to define the notion of rank.\n",
        "In particular, the rank of a matrix $\\mathbf{A}$\n",
        "is the largest number of linearly independent columns\n",
        "amongst all subsets of columns. For example, the matrix\n",
        "\n",
        "$$\n",
        "\\mathbf{B} = \\begin{bmatrix}\n",
        "2 & 4 \\\\ -1 & -2\n",
        "\\end{bmatrix},\n",
        "$$\n",
        "\n",
        "has $\\mathrm{rank}(B)=1$, since the two columns are linearly dependent,\n",
        "but either column by itself is not linearly dependent.\n"
      ],
      "metadata": {
        "id": "_Bc6DmTv6uS6"
      }
    },
    {
      "cell_type": "code",
      "source": [
        "import numpy as np\n",
        "B = np.array(\n",
        "    [[ 2,  4],\n",
        "     [-1, -2]]\n",
        ")\n"
      ],
      "metadata": {
        "id": "E0U_cwST6zLy"
      },
      "execution_count": null,
      "outputs": []
    },
    {
      "cell_type": "markdown",
      "source": [
        "\n",
        "For a more challenging example, we can consider\n",
        "\n",
        "$$\n",
        "\\mathbf{C} = \\begin{bmatrix}\n",
        "1& 3 & 0 & -1 & 0 \\\\\n",
        "-1 & 0 & 1 & 1 & -1 \\\\\n",
        "0 & 3 & 1 & 0 & -1 \\\\\n",
        "2 & 3 & -1 & -2 & 1\n",
        "\\end{bmatrix},\n",
        "$$\n",
        "\n",
        "and show that $\\mathbf{C}$ has rank two since, for instance,\n",
        "the first two columns are linearly independent,\n",
        "however any of the four collections of three columns are dependent.\n",
        "\n",
        "This procedure, as described, is very inefficient.\n",
        "It requires looking at every subset of the columns of our given matrix,\n",
        "and thus is potentially exponential in the number of columns.\n",
        "Later we will see a more computationally efficient way\n",
        "to compute the rank of a matrix, but for now,\n",
        "this is sufficient to see that the concept\n",
        "is well defined and understand the meaning.\n"
      ],
      "metadata": {
        "id": "7zrrZgRM6x1L"
      }
    },
    {
      "cell_type": "code",
      "source": [
        "C = np.array(\n",
        "    [\n",
        "     [ 1,  3,  0, -1,  0],\n",
        "     [-1,  0,  1,  1, -1],\n",
        "     [ 0,  3,  1,  0, -1],\n",
        "     [ 2,  3, -1, -2,  1]\n",
        "    ]\n",
        ")\n"
      ],
      "metadata": {
        "id": "n9xP6k6l7NgU"
      },
      "execution_count": null,
      "outputs": []
    },
    {
      "cell_type": "markdown",
      "source": [
        "\n",
        "## Invertibility\n",
        "\n",
        "We have seen above that multiplication by a matrix with linearly dependent columns\n",
        "cannot be undone, i.e., there is no inverse operation that can always recover the input.  However, multiplication by a full-rank matrix\n",
        "(i.e., some $\\mathbf{A}$ that is $n \\times n$ matrix with rank $n$),\n",
        "we should always be able to undo it.  Consider the matrix\n",
        "\n",
        "$$\n",
        "\\mathbf{I} = \\begin{bmatrix}\n",
        "1 & 0 & \\cdots & 0 \\\\\n",
        "0 & 1 & \\cdots & 0 \\\\\n",
        "\\vdots & \\vdots & \\ddots & \\vdots \\\\\n",
        "0 & 0 & \\cdots & 1\n",
        "\\end{bmatrix}.\n",
        "$$\n",
        "\n",
        "which is the matrix with ones along the diagonal, and zeros elsewhere.\n",
        "We call this the *identity* matrix.\n",
        "It is the matrix which leaves our data unchanged when applied.\n",
        "To find a matrix which undoes what our matrix $\\mathbf{A}$ has done,\n",
        "we want to find a matrix $\\mathbf{A}^{-1}$ such that\n",
        "\n",
        "$$\n",
        "\\mathbf{A}^{-1}\\mathbf{A} = \\mathbf{A}\\mathbf{A}^{-1} =  \\mathbf{I}.\n",
        "$$\n",
        "\n",
        "If we look at this as a system, we have $n \\times n$ unknowns\n",
        "(the entries of $\\mathbf{A}^{-1}$) and $n \\times n$ equations\n",
        "(the equality that needs to hold between every entry of the product $\\mathbf{A}^{-1}\\mathbf{A}$ and every entry of $\\mathbf{I}$)\n",
        "so we should generically expect a solution to exist.\n",
        "Indeed, in the next section we will see a quantity called the *determinant*,\n",
        "which has the property that as long as the determinant is not zero, we can find a solution.  We call such a matrix $\\mathbf{A}^{-1}$ the *inverse* matrix.\n",
        "As an example, if $\\mathbf{A}$ is the general $2 \\times 2$ matrix\n",
        "\n",
        "$$\n",
        "\\mathbf{A} = \\begin{bmatrix}\n",
        "a & b \\\\\n",
        "c & d\n",
        "\\end{bmatrix},\n",
        "$$\n",
        "\n",
        "then we can see that the inverse is\n",
        "\n",
        "$$\n",
        " \\frac{1}{ad-bc}  \\begin{bmatrix}\n",
        "d & -b \\\\\n",
        "-c & a\n",
        "\\end{bmatrix}.\n",
        "$$\n",
        "\n",
        "We can test to see this by seeing that multiplying\n",
        "by the inverse given by the formula above works in practice.\n"
      ],
      "metadata": {
        "id": "33IePr7n7MWj"
      }
    },
    {
      "cell_type": "code",
      "execution_count": null,
      "metadata": {
        "origin_pos": 21,
        "tab": [
          "mxnet"
        ],
        "id": "aOQzP2KrtzR-"
      },
      "outputs": [],
      "source": []
    },
    {
      "cell_type": "markdown",
      "metadata": {
        "origin_pos": 28,
        "id": "oZPst993tzR_"
      },
      "source": [
        "## Tensors and Common Linear Algebra Operations\n",
        "\n",
        "In this section, we will dive more deeply into **tensor contractions**\n",
        "(the tensor equivalent of matrix multiplication),\n",
        "and see how it can provide a unified view\n",
        "on a number of matrix and vector operations.\n",
        "\n",
        "With matrices and vectors we knew how to multiply them to transform data.\n",
        "We need to have a similar definition for tensors if they are to be useful to us.\n",
        "Think about matrix multiplication:\n",
        "\n",
        "$$\n",
        "\\mathbf{C} = \\mathbf{A}\\mathbf{B},\n",
        "$$\n",
        "\n",
        "or equivalently\n",
        "\n",
        "$$ c_{i, j} = \\sum_{k} a_{i, k}b_{k, j}.$$\n",
        "\n",
        "This pattern is one we can repeat for tensors.\n",
        "For tensors, there is no one case of what\n",
        "to sum over that can be universally chosen,\n",
        "so we need specify exactly which indices we want to sum over.\n",
        "For instance we could consider\n",
        "\n",
        "$$\n",
        "y_{il} = \\sum_{jk} x_{ijkl}a_{jk}.\n",
        "$$\n",
        "\n",
        "Such a transformation is called a *tensor contraction*.\n",
        "It can represent a far more flexible family of transformations\n",
        "that matrix multiplication alone.\n",
        "\n",
        "As a often-used notational simplification,\n",
        "we can notice that the sum is over exactly those indices\n",
        "that occur more than once in the expression,\n",
        "thus people often work with *Einstein notation*,\n",
        "where the summation is implicitly taken over all repeated indices.\n",
        "This gives the compact expression:\n",
        "\n",
        "$$\n",
        "y_{il} = x_{ijkl}a_{jk}.\n",
        "$$\n",
        "\n",
        "### Common Examples from Linear Algebra\n",
        "\n",
        "Let us see how many of the linear algebraic definitions\n",
        "we have seen before can be expressed in this compressed tensor notation:\n",
        "\n",
        "* $\\mathbf{v} \\cdot \\mathbf{w} = \\sum_i v_iw_i$\n",
        "* $\\|\\mathbf{v}\\|_2^{2} = \\sum_i v_iv_i$\n",
        "* $(\\mathbf{A}\\mathbf{v})_i = \\sum_j a_{ij}v_j$\n",
        "* $(\\mathbf{A}\\mathbf{B})_{ik} = \\sum_j a_{ij}b_{jk}$\n",
        "* $\\mathrm{tr}(\\mathbf{A}) = \\sum_i a_{ii}$\n",
        "\n",
        "In this way, we can replace a myriad of specialized notations with short tensor expressions.\n",
        "\n",
        "### Expressing in Code\n",
        "Tensors may flexibly be operated on in code as well."
      ]
    },
    {
      "cell_type": "code",
      "execution_count": null,
      "metadata": {
        "origin_pos": 29,
        "tab": [
          "mxnet"
        ],
        "id": "5KzFNHAntzR_",
        "outputId": "e08e85e8-5fec-4cca-c4b9-f1c66291b654",
        "colab": {
          "base_uri": "https://localhost:8080/"
        }
      },
      "outputs": [
        {
          "output_type": "execute_result",
          "data": {
            "text/plain": [
              "((2, 2), (2, 2, 3), (2,))"
            ]
          },
          "metadata": {},
          "execution_count": 28
        }
      ],
      "source": [
        "# Define tensors\n",
        "B = np.array([[[1, 2, 3], [4, 5, 6]], [[7, 8, 9], [10, 11, 12]]])\n",
        "A = np.array([[1, 2], [3, 4]])\n",
        "v = np.array([1, 2])\n",
        "\n",
        "# Print out the shapes\n",
        "A.shape, B.shape, v.shape"
      ]
    },
    {
      "cell_type": "markdown",
      "metadata": {
        "origin_pos": 32,
        "id": "CbUYxDOUtzR_"
      },
      "source": [
        "Einstein summation has been implemented directly.\n",
        "The indices that occurs in the Einstein summation can be passed as a string,\n",
        "followed by the tensors that are being acted upon.\n",
        "For instance, to implement matrix multiplication,\n",
        "we can consider the Einstein summation seen above\n",
        "($\\mathbf{A}\\mathbf{v} = a_{ij}v_j$)\n",
        "and strip out the indices themselves to get the implementation:\n"
      ]
    },
    {
      "cell_type": "code",
      "execution_count": null,
      "metadata": {
        "origin_pos": 33,
        "tab": [
          "mxnet"
        ],
        "id": "UdrEeg3stzR_"
      },
      "outputs": [],
      "source": [
        "# Reimplement matrix multiplication\n"
      ]
    },
    {
      "cell_type": "markdown",
      "metadata": {
        "origin_pos": 36,
        "id": "ANvw2DMBtzSA"
      },
      "source": [
        "This is a highly flexible notation.\n",
        "For instance if we want to compute\n",
        "what would be traditionally written as\n",
        "\n",
        "$$\n",
        "c_{kl} = \\sum_{ij} \\mathbf{b}_{ijk}\\mathbf{a}_{il}v_j.\n",
        "$$\n",
        "\n",
        "it can be implemented via Einstein summation as:\n"
      ]
    },
    {
      "cell_type": "code",
      "execution_count": null,
      "metadata": {
        "origin_pos": 37,
        "tab": [
          "mxnet"
        ],
        "id": "N-jHOB7TtzSA"
      },
      "outputs": [],
      "source": []
    },
    {
      "cell_type": "markdown",
      "metadata": {
        "origin_pos": 40,
        "id": "dPqPbWAHtzSA"
      },
      "source": [
        "This notation is readable and efficient for humans,\n",
        "however bulky if for whatever reason\n",
        "we need to generate a tensor contraction programmatically.\n",
        "For this reason, `einsum` provides an alternative notation\n",
        "by providing integer indices for each tensor.\n",
        "For example, the same tensor contraction can also be written as:\n"
      ]
    },
    {
      "cell_type": "code",
      "execution_count": null,
      "metadata": {
        "origin_pos": 41,
        "tab": [
          "mxnet"
        ],
        "id": "db_Qrzh_tzSA"
      },
      "outputs": [],
      "source": []
    },
    {
      "cell_type": "markdown",
      "metadata": {
        "origin_pos": 44,
        "id": "CLth94pdtzSB"
      },
      "source": [
        "Either notation allows for concise and efficient representation of tensor contractions in code.\n"
      ]
    },
    {
      "cell_type": "code",
      "source": [
        "# A to the fourth power\n"
      ],
      "metadata": {
        "id": "eV5-CGP4GgfY"
      },
      "execution_count": null,
      "outputs": []
    },
    {
      "cell_type": "code",
      "source": [
        "# A to the fourth power via Einstein summation\n"
      ],
      "metadata": {
        "id": "Opxf_sikGmit"
      },
      "execution_count": null,
      "outputs": []
    },
    {
      "cell_type": "markdown",
      "source": [
        "\n",
        "## Summary\n",
        "* Vectors can be interpreted geometrically as either points or directions in space.\n",
        "* Dot products define the notion of angle to arbitrarily high-dimensional spaces.\n",
        "* Hyperplanes are high-dimensional generalizations of lines and planes.  They can be used to define decision planes that are often used as the last step in a classification task.\n",
        "* Matrix multiplication can be geometrically interpreted as uniform distortions of the underlying coordinates. They represent a very restricted, but mathematically clean, way to transform vectors.\n",
        "* Linear dependence is a way to tell when a collection of vectors are in a lower dimensional space than we would expect (say you have $3$ vectors living in a $2$-dimensional space). The rank of a matrix is the size of the largest subset of its columns that are linearly independent.\n",
        "* When a matrix's inverse is defined, matrix inversion allows us to find another matrix that undoes the action of the first.\n",
        "* Tensor contractions and Einstein summation provide for a neat and clean notation for expressing many of the computations that are seen in machine learning.\n"
      ],
      "metadata": {
        "id": "rnU2YmtBHaeT"
      }
    }
  ],
  "metadata": {
    "kernelspec": {
      "display_name": "Python 3",
      "name": "python3"
    },
    "language_info": {
      "name": "python"
    },
    "colab": {
      "provenance": [],
      "collapsed_sections": []
    }
  },
  "nbformat": 4,
  "nbformat_minor": 0
}