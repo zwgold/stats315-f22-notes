{
  "cells": [
    {
      "cell_type": "markdown",
      "metadata": {
        "id": "i5bJkbR6F65N"
      },
      "source": [
        "**Notebook credit**: based on the F. Chollet's original notebook [here](https://github.com/fchollet/deep-learning-with-python-notebooks/blob/master/chapter04_getting-started-with-neural-networks.ipynb)."
      ]
    },
    {
      "cell_type": "markdown",
      "metadata": {
        "id": "FjIQ17OZF65d"
      },
      "source": [
        "## Predicting house prices: A regression example\n",
        "\n",
        "We have discussed _regression problems_ before\n",
        "These consist of predicting a continuous value instead of a discrete label:\n",
        "- predicting the temperature tomorrow, given meteorological data\n",
        "- predicting the time that a software project will take to complete, given its specifications\n",
        "\n",
        "However, we only discussed the linear regression case before where our predictions models were *linear*. Deep learning allows us to buil complex *non-linear* prediction models."
      ]
    },
    {
      "cell_type": "markdown",
      "metadata": {
        "id": "0Ti7sOmNF65d"
      },
      "source": [
        "### The Boston Housing Price dataset\n",
        "\n",
        "- we’ll predict the median price of homes in a given Boston suburb in the mid-1970s\n",
        "- features of the suburb include things like the crime rate, the local property tax rate, and so on\n",
        "- it has relatively few data points: only 506, split between 404 training samples and 102 test samples\n",
        "- each feature in the input data (for example, the crime rate) has a different scale\n",
        "  - some values are proportions, which take values between 0 and 1\n",
        "  - others take values between 1 and 12\n",
        "  - others between 0 and 100, and so on."
      ]
    },
    {
      "cell_type": "markdown",
      "metadata": {
        "id": "ahe_jhL5F65e"
      },
      "source": [
        "**Loading the Boston housing dataset**"
      ]
    },
    {
      "cell_type": "code",
      "execution_count": null,
      "metadata": {
        "id": "5B84BsKnF65e"
      },
      "outputs": [],
      "source": [
        "import tensorflow as tf\n",
        "import numpy as np\n",
        "from tensorflow import keras\n",
        "from tensorflow.keras import layers\n",
        "from matplotlib import pyplot as plt"
      ]
    },
    {
      "cell_type": "code",
      "source": [
        "from tensorflow.keras.datasets import boston_housing\n",
        "\n",
        "(train_data, train_targets), (test_data, test_targets) = boston_housing.load_data()"
      ],
      "metadata": {
        "id": "J4obUJiunhQF",
        "colab": {
          "base_uri": "https://localhost:8080/"
        },
        "outputId": "c1be700c-5a1f-4dc4-d7a3-156d6664e2a2"
      },
      "execution_count": null,
      "outputs": [
        {
          "output_type": "stream",
          "name": "stdout",
          "text": [
            "Downloading data from https://storage.googleapis.com/tensorflow/tf-keras-datasets/boston_housing.npz\n",
            "57026/57026 [==============================] - 0s 0us/step\n"
          ]
        }
      ]
    },
    {
      "cell_type": "markdown",
      "metadata": {
        "id": "rUFU_py4F65e"
      },
      "source": [
        "### Preparing the data\n",
        "\n",
        "- widespread best practice is to do feature-wise normalization\n",
        "- for each feature in the input data (a column in the input data matrix):\n",
        "  - subtract the mean of the feature, and\n",
        "  - divide by the standard deviation\n",
        "- after this normalization, every feature is centered around 0 and has a unit standard deviation"
      ]
    },
    {
      "cell_type": "markdown",
      "metadata": {
        "id": "mBRzXtYHF65e"
      },
      "source": [
        "**Normalizing the data**"
      ]
    },
    {
      "cell_type": "code",
      "execution_count": null,
      "metadata": {
        "id": "hWdgxNq8F65e"
      },
      "outputs": [],
      "source": [
        "mean = train_data.mean(axis=0)\n",
        "\n",
        "train_data -= mean\n",
        "\n",
        "std = train_data.std(axis=0)\n",
        "\n",
        "train_data /= std\n",
        "\n",
        "test_data -= mean\n",
        "test_data /= std"
      ]
    },
    {
      "cell_type": "code",
      "source": [
        "train_data"
      ],
      "metadata": {
        "colab": {
          "base_uri": "https://localhost:8080/"
        },
        "id": "XU5CLFuIypFg",
        "outputId": "d4e26fa7-6c88-4fe9-87bd-5c241419f1bf"
      },
      "execution_count": null,
      "outputs": [
        {
          "output_type": "execute_result",
          "data": {
            "text/plain": [
              "array([[-0.27224633, -0.48361547, -0.43576161, ...,  1.14850044,\n",
              "         0.44807713,  0.8252202 ],\n",
              "       [-0.40342651,  2.99178419, -1.33391162, ..., -1.71818909,\n",
              "         0.43190599, -1.32920239],\n",
              "       [ 0.1249402 , -0.48361547,  1.0283258 , ...,  0.78447637,\n",
              "         0.22061726, -1.30850006],\n",
              "       ...,\n",
              "       [-0.40202987,  0.99079651, -0.7415148 , ..., -0.71712291,\n",
              "         0.07943894, -0.67776904],\n",
              "       [-0.17292018, -0.48361547,  1.24588095, ..., -1.71818909,\n",
              "        -0.98764362,  0.42083466],\n",
              "       [-0.40422614,  2.04394792, -1.20161456, ..., -1.30866202,\n",
              "         0.23317118, -1.15392266]])"
            ]
          },
          "metadata": {},
          "execution_count": 7
        }
      ]
    },
    {
      "cell_type": "markdown",
      "source": [
        "There is quite a bit of variation in the ranges that the 13 features lie in. The features themselves are described [here](http://lib.stat.cmu.edu/datasets/boston)."
      ],
      "metadata": {
        "id": "ebsKqow1ZrXA"
      }
    },
    {
      "cell_type": "markdown",
      "metadata": {
        "id": "I1Gehu8PF65e"
      },
      "source": [
        "### Building your model\n",
        "\n",
        "- because few samples are available, we'll use a very small model\n",
        "- two intermediate layers, each with 64 units\n",
        "- the less training data you have, the worse overfitting will be\n",
        "- using a small model is one way to mitigate overfitting"
      ]
    },
    {
      "cell_type": "markdown",
      "metadata": {
        "id": "AGMQtqC7F65e"
      },
      "source": [
        "**Model definition**\n",
        "\n",
        "`\"mse\"` = mean squared error\n",
        "\n",
        "`\"mae\"` = mean absolute error"
      ]
    },
    {
      "cell_type": "markdown",
      "source": [
        "### Exercise: Build you model with two intermediate layers, each with 64 units"
      ],
      "metadata": {
        "id": "fK7iRdR7Yk28"
      }
    },
    {
      "cell_type": "code",
      "execution_count": null,
      "metadata": {
        "id": "IdDHKQDTF65f"
      },
      "outputs": [],
      "source": [
        "def build_model():\n",
        "    model = keras.Sequential([\n",
        "        layers.Dense(64, activation=\"relu\"),\n",
        "        layers.Dense(64, activation=\"relu\"),\n",
        "        layers.Dense(1) # linear regression corresponds to just having this layer\n",
        "    ])\n",
        "    # mse = 1 / n (\\sum_i (yhat_i - y_i)^2)\n",
        "    # mae = 1 / n (\\sum_i|yhat_i - y_i|)\n",
        "    model.compile(optimizer=\"rmsprop\", loss=\"mse\", metrics=[\"mae\"])\n",
        "    return model"
      ]
    },
    {
      "cell_type": "markdown",
      "metadata": {
        "id": "4EmilwrkF65f"
      },
      "source": [
        "### Validating your approach using K-fold validation\n",
        "\n",
        "\n",
        "- to select number of epochs used for training, we could split the data into a training set and a validation set, as we did in the IMDB example\n",
        "- but we have so few data points\n",
        "- validation set would end up being very small (e.g., about 100 examples\n",
        "- validation scores might change a lot depending on which data points we chose for validation and which we chose for training\n",
        "- the validation scores might have a high variance with regard to the validation split\n",
        "- would prevent us from reliably evaluating our model.\n",
        "- best practice in such situations is to use K-fold cross-validation (see figure 4.8)\n",
        "\n",
        "<img src=\"https://github.com/ambujtewari/stats315-winter2022/raw/main/images/k-fold.png\" width=\"500\">"
      ]
    },
    {
      "cell_type": "markdown",
      "metadata": {
        "id": "chIRlckkF65f"
      },
      "source": [
        "**K-fold validation**"
      ]
    },
    {
      "cell_type": "code",
      "execution_count": null,
      "metadata": {
        "id": "0dcT2kf3F65f",
        "colab": {
          "base_uri": "https://localhost:8080/"
        },
        "outputId": "89a6267f-6058-4da3-b620-1f6f9e3628a9"
      },
      "outputs": [
        {
          "output_type": "stream",
          "name": "stdout",
          "text": [
            "Processing fold #0\n",
            "Processing fold #1\n",
            "Processing fold #2\n",
            "Processing fold #3\n"
          ]
        }
      ],
      "source": [
        "k = 4\n",
        "\n",
        "num_val_samples = len(train_data) // k  # note: integer division\n",
        "\n",
        "num_epochs = 50 # don't know yet whether this is a good choice\n",
        "all_scores = []\n",
        "\n",
        "for i in range(k):\n",
        "    print(f\"Processing fold #{i}\")\n",
        "    # extract validation examples\n",
        "    val_data = train_data[i * num_val_samples: (i+1) * num_val_samples]\n",
        "    # extract validation labels\n",
        "    val_targets = train_targets[i * num_val_samples: (i+1) * num_val_samples]\n",
        "\n",
        "    # whatever is left after extraction becomes partial training data\n",
        "    partial_train_data = np.concatenate(\n",
        "        [train_data[:i * num_val_samples],\n",
        "         train_data[(i+1) * num_val_samples:]],\n",
        "         axis=0\n",
        "    )\n",
        "    # partial training labels\n",
        "    partial_train_targets = np.concatenate(\n",
        "        [train_targets[:i * num_val_samples],\n",
        "         train_targets[(i+1) * num_val_samples:]],\n",
        "         axis=0\n",
        "    )    \n",
        "\n",
        "    model = build_model()\n",
        "    model.fit(partial_train_data, partial_train_targets,\n",
        "              epochs=num_epochs, batch_size=16, verbose=0)                       # verbose=0 doesn't print anything while fitting\n",
        "    val_mse, val_mae = model.evaluate(val_data, val_targets, verbose=0)\n",
        "    all_scores.append(val_mae)"
      ]
    },
    {
      "cell_type": "code",
      "execution_count": null,
      "metadata": {
        "id": "CqRAVcXdF65f"
      },
      "outputs": [],
      "source": []
    },
    {
      "cell_type": "markdown",
      "source": [
        "- different runs do indeed show rather different validation scores\n",
        "- average validation score is a much more reliable metric than any single score\n",
        "- how much are we off on average?\n",
        "- is it significant? (recall that prices range from 5k to 50k)"
      ],
      "metadata": {
        "id": "S94wnScTucUG"
      }
    },
    {
      "cell_type": "markdown",
      "metadata": {
        "id": "nSt-gYfsF65f"
      },
      "source": [
        "**Saving the validation logs at each fold**"
      ]
    },
    {
      "cell_type": "code",
      "execution_count": null,
      "metadata": {
        "id": "Iys_97zQF65g"
      },
      "outputs": [],
      "source": []
    },
    {
      "cell_type": "code",
      "source": [],
      "metadata": {
        "id": "xbEAcsGwfd-Q"
      },
      "execution_count": null,
      "outputs": []
    },
    {
      "cell_type": "code",
      "source": [
        "num_epochs = 300 # increased this from 50 to 300\n",
        "all_mae_histories = [] # will store entire mae history as opposed to a single score\n",
        "for i in range(k):\n",
        "    print(f\"Processing fold #{i}\")\n",
        "    val_data = train_data[i * num_val_samples: (i + 1) * num_val_samples]\n",
        "    val_targets = train_targets[i * num_val_samples: (i + 1) * num_val_samples]\n",
        "    partial_train_data = np.concatenate(\n",
        "        [train_data[:i * num_val_samples],\n",
        "         train_data[(i + 1) * num_val_samples:]],\n",
        "        axis=0)\n",
        "    partial_train_targets = np.concatenate(\n",
        "        [train_targets[:i * num_val_samples],\n",
        "         train_targets[(i + 1) * num_val_samples:]],\n",
        "        axis=0)\n",
        "    model = build_model()\n",
        "    history = model.fit(partial_train_data, partial_train_targets,\n",
        "                        validation_data=(val_data, val_targets),                # we now use the validation_data argument\n",
        "                        epochs=num_epochs, batch_size=16, verbose=0)\n",
        "    mae_history = history.history[\"val_mae\"]                                    # store the entire history of the validation mae values\n",
        "    all_mae_histories.append(mae_history)\n",
        "\n",
        "len(all_mae_histories) # is a list containing 4 lists, each containing the val_mae history for a fold\n",
        "\n",
        "for i in range(9): # the val_mae will typically be quite high for early epochs\n",
        "  mean = np.mean([x[i] for x in all_mae_histories]) # the average val_mae, over 4 folds, for epoch i\n",
        "  print(f\"{mean:.2f}\", end = \" \")"
      ],
      "metadata": {
        "id": "gFSJ_Muuf3Yq",
        "colab": {
          "base_uri": "https://localhost:8080/"
        },
        "outputId": "c979c139-e6ad-488c-c478-5eb2a6a98e4a"
      },
      "execution_count": null,
      "outputs": [
        {
          "output_type": "stream",
          "name": "stdout",
          "text": [
            "Processing fold #0\n",
            "Processing fold #1\n",
            "Processing fold #2\n",
            "Processing fold #3\n",
            "19.41 16.05 12.17 8.37 6.20 5.04 4.30 3.88 3.58 "
          ]
        }
      ]
    },
    {
      "cell_type": "markdown",
      "metadata": {
        "id": "v37ieiXXF65g"
      },
      "source": [
        "**Building the history of successive mean K-fold validation scores**"
      ]
    },
    {
      "cell_type": "code",
      "execution_count": null,
      "metadata": {
        "id": "To-F0UUEF65g",
        "colab": {
          "base_uri": "https://localhost:8080/"
        },
        "outputId": "185ab4d9-44c8-4109-a873-77d8d6635c67"
      },
      "outputs": [
        {
          "output_type": "stream",
          "name": "stdout",
          "text": [
            "19.41 16.05 12.17 8.37 6.20 5.04 4.30 3.88 3.58 "
          ]
        }
      ],
      "source": [
        "for i in range(9):\n",
        "  mean = np.mean([x[i] for x in all_mae_histories])\n",
        "  print(f\"{mean:.2f}\", end = \" \")\n"
      ]
    },
    {
      "cell_type": "code",
      "source": [
        "average_mae_history = [\n",
        "    np.mean([x[i] for x in all_mae_histories])\n",
        "    for i in range(num_epochs)\n",
        "]"
      ],
      "metadata": {
        "id": "-KSyTtJw3su6"
      },
      "execution_count": null,
      "outputs": []
    },
    {
      "cell_type": "code",
      "source": [],
      "metadata": {
        "id": "ninwJPlk3so8"
      },
      "execution_count": null,
      "outputs": []
    },
    {
      "cell_type": "markdown",
      "metadata": {
        "id": "z6XaXFPqF65g"
      },
      "source": [
        "**Plotting validation scores**"
      ]
    },
    {
      "cell_type": "code",
      "execution_count": null,
      "metadata": {
        "id": "d-whD1ZNF65g",
        "colab": {
          "base_uri": "https://localhost:8080/",
          "height": 280
        },
        "outputId": "638ebb59-6858-4f4a-c94c-e5f108313b7f"
      },
      "outputs": [
        {
          "output_type": "display_data",
          "data": {
            "text/plain": [
              "<Figure size 432x288 with 1 Axes>"
            ],
            "image/png": "[encoded data removed]"
          },
          "metadata": {
            "needs_background": "light"
          }
        }
      ],
      "source": [
        "plt.plot(range(len(average_mae_history)), average_mae_history)\n",
        "plt.xlabel(\"Epochs\")\n",
        "plt.ylabel(\"Validation MAE\")\n",
        "plt.show()"
      ]
    },
    {
      "cell_type": "markdown",
      "source": [
        "- as we saw earlier, the first 10 data points have high validation MAE\n",
        "- makes it a little difficult to read the plot\n",
        "- let's replot after omitting the first 10 points"
      ],
      "metadata": {
        "id": "THAWOSH4iN9q"
      }
    },
    {
      "cell_type": "markdown",
      "metadata": {
        "id": "VKeJ44glF65g"
      },
      "source": [
        "**Plotting validation scores, excluding the first 10 data points**"
      ]
    },
    {
      "cell_type": "code",
      "execution_count": null,
      "metadata": {
        "id": "1sIZLTgzF65g",
        "colab": {
          "base_uri": "https://localhost:8080/",
          "height": 280
        },
        "outputId": "05e9f255-300f-4426-f6c3-75c4fbfd42ac"
      },
      "outputs": [
        {
          "output_type": "display_data",
          "data": {
            "text/plain": [
              "<Figure size 432x288 with 1 Axes>"
            ],
            "image/png": "[encoded data removed]"
          },
          "metadata": {
            "needs_background": "light"
          }
        }
      ],
      "source": [
        "truncated_mae_history = average_mae_history[10:]\n",
        "plt.plot(range(10, len(average_mae_history)), truncated_mae_history)\n",
        "plt.xlabel(\"Epochs\")\n",
        "plt.ylabel(\"Validation MAE\")\n",
        "plt.show()"
      ]
    },
    {
      "cell_type": "markdown",
      "source": [
        "- validation MAE stops improving significantly after 120–140 epochs\n",
        "- past that point, we start *overfitting*\n"
      ],
      "metadata": {
        "id": "vGj7rNDiilCS"
      }
    },
    {
      "cell_type": "markdown",
      "metadata": {
        "id": "9c2kSlR7F65g"
      },
      "source": [
        "**Training the final model: Exercise**\n",
        "\n",
        "- Here we only tuned number of epochs\n",
        "- you could also adjust the size of the intermediate layers\n",
        "- once you're finished tuning, you can train a final production model\n",
        "- this will use _all_ of the training data\n",
        "- it will use the best choices for tuning parameters (e.g., 130 for epochs in our case)\n",
        "- you will evaluate its performance on the test data (that we haven't touched at all so far)"
      ]
    },
    {
      "cell_type": "code",
      "execution_count": null,
      "metadata": {
        "id": "MlbzzypLF65g",
        "colab": {
          "base_uri": "https://localhost:8080/"
        },
        "outputId": "2f4898a1-9140-45de-96b3-4ad21c962f1a"
      },
      "outputs": [
        {
          "output_type": "execute_result",
          "data": {
            "text/plain": [
              "<keras.callbacks.History at 0x7ff79d4dc2d0>"
            ]
          },
          "metadata": {},
          "execution_count": 35
        }
      ],
      "source": [
        "model = build_model()\n",
        "model.fit(train_data, train_targets, epochs=130, batch_size=16, verbose=0)"
      ]
    },
    {
      "cell_type": "code",
      "execution_count": null,
      "metadata": {
        "id": "9gdpCw-NF65h",
        "colab": {
          "base_uri": "https://localhost:8080/"
        },
        "outputId": "cc3669dc-ba74-4f51-b614-50ea094153cb"
      },
      "outputs": [
        {
          "output_type": "stream",
          "name": "stdout",
          "text": [
            "4/4 [==============================] - 0s 4ms/step - loss: 15.4580 - mae: 2.4768\n"
          ]
        }
      ],
      "source": [
        "test_mse_score, test_mae_score = model.evaluate(test_data, test_targets)"
      ]
    },
    {
      "cell_type": "markdown",
      "metadata": {
        "id": "zw8R7Tj9F65h"
      },
      "source": [
        "### Generating predictions on new data"
      ]
    },
    {
      "cell_type": "code",
      "execution_count": null,
      "metadata": {
        "id": "SYomyUGEF65h"
      },
      "outputs": [],
      "source": []
    }
  ],
  "metadata": {
    "colab": {
      "collapsed_sections": [],
      "provenance": []
    },
    "kernelspec": {
      "display_name": "Python 3",
      "language": "python",
      "name": "python3"
    },
    "language_info": {
      "codemirror_mode": {
        "name": "ipython",
        "version": 3
      },
      "file_extension": ".py",
      "mimetype": "text/x-python",
      "name": "python",
      "nbconvert_exporter": "python",
      "pygments_lexer": "ipython3",
      "version": "3.7.0"
    }
  },
  "nbformat": 4,
  "nbformat_minor": 0
}