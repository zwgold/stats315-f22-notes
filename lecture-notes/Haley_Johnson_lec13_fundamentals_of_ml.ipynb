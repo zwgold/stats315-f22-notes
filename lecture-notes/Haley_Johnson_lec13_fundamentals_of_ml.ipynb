{
  "cells": [
    {
      "cell_type": "markdown",
      "metadata": {
        "id": "ZLQvAtfBHskH"
      },
      "source": [
        "**Notebook credit**: based on the F. Chollet's original notebook [here](https://github.com/fchollet/deep-learning-with-python-notebooks/blob/master/chapter05_fundamentals-of-ml.ipynb)."
      ]
    },
    {
      "cell_type": "markdown",
      "metadata": {
        "id": "mZQPCT8HHskI"
      },
      "source": [
        "# Fundamentals of machine learning"
      ]
    },
    {
      "cell_type": "markdown",
      "metadata": {
        "id": "Xz-njyBsHskI"
      },
      "source": [
        "## Generalization: The goal of machine learning\n",
        "\n",
        "- we have looked at classifying digits\n",
        "- we split the data into a training set and a test set (and sometimes a validation set as in the labs)\n",
        "- we should not evaluate the models on the same data they\n",
        "were trained\n",
        "- after just a few epochs, performance on never-before-seen data started diverging from performance on the training data\n",
        "- training data performance always improves as training progresses\n",
        "- at some point, the models started to **overfit**\n"
      ]
    },
    {
      "cell_type": "markdown",
      "source": [
        "\n",
        "**The fundamental issue in ML is the tension between optimization and generalization**\n",
        "\n",
        "- optimization: process of adjusting a model to get the best performance possible on the training data\n",
        "- generalization: how well the trained model performs on data it has never seen before\n",
        "- key challenge: our *goal* is good generalization we can't directly control generalization\n",
        "- can only fit the model to its training data\n",
        "- do that too well: overfitting kicks in and generalization suffers"
      ],
      "metadata": {
        "id": "oppnCwrfoVj8"
      }
    },
    {
      "cell_type": "markdown",
      "metadata": {
        "id": "FEtXNyF7HskI"
      },
      "source": [
        "### Underfitting and overfitting\n",
        "\n",
        "<img src=\"https://github.com/ambujtewari/stats315-winter2022/raw/main/images/overfitting.png\" width=\"500\">\n",
        "\n",
        "Overfitting is particularly likely to occur when your data:\n",
        "- is noisy\n",
        "- involves uncertainty\n",
        "- includes rare features"
      ]
    },
    {
      "cell_type": "markdown",
      "metadata": {
        "id": "HvZLntsAHskJ"
      },
      "source": [
        "**Adding white-noise channels or all-zeros channels to MNIST**\n",
        "\n",
        "- we will create new training set by concatenating 784 white noise dimensions to the existing 784 dimensions of the data\n",
        "- we will also create an equivalent dataset by concatenating 784 all-zeros dimensions\n",
        "- concatenation of meaningless features does not at all affect the information content of the data: we're only adding something\n",
        "- human classification accuracy wouldn't be affected by these transformations at all\n"
      ]
    },
    {
      "cell_type": "code",
      "execution_count": 3,
      "metadata": {
        "id": "P9arjPLyHskK"
      },
      "outputs": [],
      "source": [
        "from tensorflow.keras.datasets import mnist\n",
        "import numpy as np \n",
        "import matplotlib.pyplot as plt"
      ]
    },
    {
      "cell_type": "code",
      "source": [
        "(train_images, train_labels), _ = mnist.load_data()"
      ],
      "metadata": {
        "colab": {
          "base_uri": "https://localhost:8080/"
        },
        "id": "q8C4ZrF-gGH1",
        "outputId": "372746f4-2e8a-4d3a-c9f1-47c95bc7be2d"
      },
      "execution_count": 2,
      "outputs": [
        {
          "output_type": "stream",
          "name": "stdout",
          "text": [
            "Downloading data from https://storage.googleapis.com/tensorflow/tf-keras-datasets/mnist.npz\n",
            "11493376/11490434 [==============================] - 0s 0us/step\n",
            "11501568/11490434 [==============================] - 0s 0us/step\n"
          ]
        }
      ]
    },
    {
      "cell_type": "code",
      "source": [
        "plt.figure(figsize=(10, 10))\n",
        "\n",
        "for i in range(25):\n",
        "  plt.subplot(5, 5, i+1)\n",
        "  plt.xticks([])\n",
        "  plt.yticks([])\n",
        "  plt.grid(False)\n",
        "  plt.imshow(train_images[i], cmap=plt.cm.binary)\n",
        "  plt.xlabel(train_labels[i])\n",
        "\n",
        "plt.show()"
      ],
      "metadata": {
        "colab": {
          "base_uri": "https://localhost:8080/",
          "height": 589
        },
        "id": "Nf9qm3PcgMBI",
        "outputId": "d34788f9-73d6-49f8-d115-c27be95a3788"
      },
      "execution_count": 5,
      "outputs": [
        {
          "output_type": "display_data",
          "data": {
            "text/plain": [
              "<Figure size 720x720 with 25 Axes>"
            ],
            "image/png": "[encoded data removed]"
          },
          "metadata": {}
        }
      ]
    },
    {
      "cell_type": "code",
      "source": [
        "train_images = train_images.reshape((60000, 28*28))\n",
        "train_images = train_images.astype(\"float32\") / 255"
      ],
      "metadata": {
        "id": "uyYtsu_zhEf4"
      },
      "execution_count": 7,
      "outputs": []
    },
    {
      "cell_type": "code",
      "execution_count": 27,
      "metadata": {
        "id": "7yfw7e5rHskL"
      },
      "outputs": [],
      "source": [
        "train_images_with_noise_channels = np.concatenate(\n",
        "    [train_images, np.random.random((len(train_images), 784))], \n",
        "    axis = 1\n",
        ")"
      ]
    },
    {
      "cell_type": "code",
      "source": [
        "train_images_with_noise_channels[0]"
      ],
      "metadata": {
        "colab": {
          "base_uri": "https://localhost:8080/"
        },
        "id": "J4ghw1Nrh960",
        "outputId": "08bb1fe1-651f-4a14-b633-8d67cd27d7cd"
      },
      "execution_count": 13,
      "outputs": [
        {
          "output_type": "execute_result",
          "data": {
            "text/plain": [
              "array([0.        , 0.        , 0.        , ..., 0.17638098, 0.17306789,\n",
              "       0.22804617])"
            ]
          },
          "metadata": {},
          "execution_count": 13
        }
      ]
    },
    {
      "cell_type": "code",
      "source": [
        "train_images_with_zeros_channels = np.concatenate(\n",
        "    [train_images, np.zeros((len(train_images), 784))], \n",
        "    axis = 1\n",
        ")"
      ],
      "metadata": {
        "id": "GRrK_CAjh2G_"
      },
      "execution_count": 29,
      "outputs": []
    },
    {
      "cell_type": "code",
      "source": [
        "train_images_with_zeros_chanels[0]"
      ],
      "metadata": {
        "colab": {
          "base_uri": "https://localhost:8080/"
        },
        "id": "FNTctugKh_fk",
        "outputId": "fc62eff4-59f0-41af-d87d-69a56c51103e"
      },
      "execution_count": 14,
      "outputs": [
        {
          "output_type": "execute_result",
          "data": {
            "text/plain": [
              "array([0., 0., 0., ..., 0., 0., 0.])"
            ]
          },
          "metadata": {},
          "execution_count": 14
        }
      ]
    },
    {
      "cell_type": "code",
      "source": [
        "train_images[0].shape, train_images_with_noise_channels[0].shape, train_images_with_zeros_chanels[0].shape"
      ],
      "metadata": {
        "colab": {
          "base_uri": "https://localhost:8080/"
        },
        "id": "TViqzdDdiBn-",
        "outputId": "29da82ac-1126-4e71-f41f-edb0e19bd708"
      },
      "execution_count": 16,
      "outputs": [
        {
          "output_type": "execute_result",
          "data": {
            "text/plain": [
              "((784,), (1568,), (1568,))"
            ]
          },
          "metadata": {},
          "execution_count": 16
        }
      ]
    },
    {
      "cell_type": "markdown",
      "metadata": {
        "id": "HrfHwiGsHskL"
      },
      "source": [
        "**Training the same model on MNIST data with noise channels or all-zero channels**"
      ]
    },
    {
      "cell_type": "code",
      "source": [
        "from tensorflow import keras\n",
        "from tensorflow.keras import layers\n",
        "\n",
        "def get_model():\n",
        "  model = keras.Sequential([\n",
        "      layers.Dense(512, activation='relu'),\n",
        "      layers.Dense(10, activation='softmax')\n",
        "  ])\n",
        "  model.compile(optimizer='rmsprop', \n",
        "                loss='sparse_categorical_crossentropy', \n",
        "                metrics=['accuracy'])\n",
        "  return model"
      ],
      "metadata": {
        "id": "G6DjRYtUik98"
      },
      "execution_count": 21,
      "outputs": []
    },
    {
      "cell_type": "code",
      "source": [
        "model = get_model()\n",
        "\n",
        "# noisy model first\n",
        "history_noise = model.fit(\n",
        "    train_images_with_noise_channels, train_labels, \n",
        "    epochs = 10, \n",
        "    batch_size=128, \n",
        "    validation_split = 0.2 #use 80% as training, 20% as validation\n",
        ")"
      ],
      "metadata": {
        "colab": {
          "base_uri": "https://localhost:8080/"
        },
        "id": "iE6fkTDYi-Ua",
        "outputId": "9ac1a4c4-65ab-492b-c7ba-4666b73c075e"
      },
      "execution_count": 22,
      "outputs": [
        {
          "output_type": "stream",
          "name": "stdout",
          "text": [
            "Epoch 1/10\n",
            "375/375 [==============================] - 8s 18ms/step - loss: 0.6275 - accuracy: 0.8094 - val_loss: 0.3882 - val_accuracy: 0.8775\n",
            "Epoch 2/10\n",
            "375/375 [==============================] - 8s 21ms/step - loss: 0.2519 - accuracy: 0.9218 - val_loss: 0.3126 - val_accuracy: 0.8962\n",
            "Epoch 3/10\n",
            "375/375 [==============================] - 8s 22ms/step - loss: 0.1628 - accuracy: 0.9493 - val_loss: 0.1469 - val_accuracy: 0.9557\n",
            "Epoch 4/10\n",
            "375/375 [==============================] - 8s 21ms/step - loss: 0.1161 - accuracy: 0.9636 - val_loss: 0.1356 - val_accuracy: 0.9621\n",
            "Epoch 5/10\n",
            "375/375 [==============================] - 8s 20ms/step - loss: 0.0857 - accuracy: 0.9738 - val_loss: 0.1239 - val_accuracy: 0.9651\n",
            "Epoch 6/10\n",
            "375/375 [==============================] - 7s 18ms/step - loss: 0.0635 - accuracy: 0.9803 - val_loss: 0.1231 - val_accuracy: 0.9647\n",
            "Epoch 7/10\n",
            "375/375 [==============================] - 10s 28ms/step - loss: 0.0470 - accuracy: 0.9850 - val_loss: 0.1212 - val_accuracy: 0.9658\n",
            "Epoch 8/10\n",
            "375/375 [==============================] - 9s 24ms/step - loss: 0.0351 - accuracy: 0.9882 - val_loss: 0.1739 - val_accuracy: 0.9541\n",
            "Epoch 9/10\n",
            "375/375 [==============================] - 9s 24ms/step - loss: 0.0278 - accuracy: 0.9909 - val_loss: 0.1341 - val_accuracy: 0.9660\n",
            "Epoch 10/10\n",
            "375/375 [==============================] - 10s 26ms/step - loss: 0.0207 - accuracy: 0.9934 - val_loss: 0.1660 - val_accuracy: 0.9615\n"
          ]
        }
      ]
    },
    {
      "cell_type": "code",
      "source": [
        "model2 = get_model()\n",
        "\n",
        "# noisy model first\n",
        "history_zeros= model2.fit(\n",
        "    train_images_with_zeros_channels, train_labels, \n",
        "    epochs = 10, \n",
        "    batch_size=128, \n",
        "    validation_split = 0.2 #use 80% as training, 20% as validation\n",
        ")"
      ],
      "metadata": {
        "colab": {
          "base_uri": "https://localhost:8080/"
        },
        "id": "F3nqJt2hjeb4",
        "outputId": "eec21ae6-5ac2-4100-8050-3646854faaa1"
      },
      "execution_count": 30,
      "outputs": [
        {
          "output_type": "stream",
          "name": "stdout",
          "text": [
            "Epoch 1/10\n",
            "375/375 [==============================] - 10s 24ms/step - loss: 0.2875 - accuracy: 0.9165 - val_loss: 0.1491 - val_accuracy: 0.9582\n",
            "Epoch 2/10\n",
            "375/375 [==============================] - 10s 28ms/step - loss: 0.1200 - accuracy: 0.9654 - val_loss: 0.1164 - val_accuracy: 0.9652\n",
            "Epoch 3/10\n",
            "375/375 [==============================] - 9s 23ms/step - loss: 0.0785 - accuracy: 0.9768 - val_loss: 0.0895 - val_accuracy: 0.9732\n",
            "Epoch 4/10\n",
            "375/375 [==============================] - 7s 19ms/step - loss: 0.0568 - accuracy: 0.9830 - val_loss: 0.0790 - val_accuracy: 0.9770\n",
            "Epoch 5/10\n",
            "375/375 [==============================] - 7s 19ms/step - loss: 0.0413 - accuracy: 0.9878 - val_loss: 0.0879 - val_accuracy: 0.9739\n",
            "Epoch 6/10\n",
            "375/375 [==============================] - 7s 19ms/step - loss: 0.0310 - accuracy: 0.9908 - val_loss: 0.0853 - val_accuracy: 0.9771\n",
            "Epoch 7/10\n",
            "375/375 [==============================] - 7s 19ms/step - loss: 0.0234 - accuracy: 0.9933 - val_loss: 0.0821 - val_accuracy: 0.9771\n",
            "Epoch 8/10\n",
            "375/375 [==============================] - 7s 19ms/step - loss: 0.0180 - accuracy: 0.9946 - val_loss: 0.0844 - val_accuracy: 0.9793\n",
            "Epoch 9/10\n",
            "375/375 [==============================] - 7s 19ms/step - loss: 0.0137 - accuracy: 0.9960 - val_loss: 0.0861 - val_accuracy: 0.9775\n",
            "Epoch 10/10\n",
            "375/375 [==============================] - 8s 22ms/step - loss: 0.0108 - accuracy: 0.9971 - val_loss: 0.0839 - val_accuracy: 0.9791\n"
          ]
        }
      ]
    },
    {
      "cell_type": "markdown",
      "metadata": {
        "id": "aFDz3HEFHskL"
      },
      "source": [
        "**Plotting a validation accuracy comparison**"
      ]
    },
    {
      "cell_type": "code",
      "execution_count": 33,
      "metadata": {
        "id": "3tkVf8EFHskM",
        "colab": {
          "base_uri": "https://localhost:8080/",
          "height": 313
        },
        "outputId": "909b4b4d-d495-4340-d5f5-f8e8a5ae8937"
      },
      "outputs": [
        {
          "output_type": "execute_result",
          "data": {
            "text/plain": [
              "<matplotlib.legend.Legend at 0x7f5ea70345d0>"
            ]
          },
          "metadata": {},
          "execution_count": 33
        },
        {
          "output_type": "display_data",
          "data": {
            "text/plain": [
              "<Figure size 432x288 with 1 Axes>"
            ],
            "image/png": "[encoded data removed]"
          },
          "metadata": {
            "needs_background": "light"
          }
        }
      ],
      "source": [
        "val_acc_noise = history_noise.history['val_accuracy']\n",
        "val_acc_zeros = history_zeros.history['val_accuracy']\n",
        "\n",
        "epochs = range(1, 11)\n",
        "plt.plot(epochs, val_acc_noise, \"b-\", \n",
        "         label = 'Validation accuracy with noise channels')\n",
        "plt.plot(epochs, val_acc_zeros, \"b-\", \n",
        "         label = 'Validation accuracy with zeros channels')\n",
        "\n",
        "plt.title(\"Effect of noise channels on validation accuracy\")\n",
        "plt.xlabel('epochs')\n",
        "plt.ylabel('accuracy')\n",
        "plt.legend()"
      ]
    },
    {
      "cell_type": "markdown",
      "metadata": {
        "id": "IyTLraN6HskM"
      },
      "source": [
        "### The nature of generalization in deep learning\n",
        "\n",
        "- deep learning models can be trained to fit anything, as long as they have enough representational power\n",
        "- we will look at this \"universal approximation\" property later on in the course\n",
        "- for now we will see a particular manifestation of this power\n",
        "- we will shuffle the MNIST labels and train a model on that\n",
        "- now there is no relationship whatsoever between the inputs and the shuffled labels\n",
        "- however, the training loss goes down just fine, even with a relatively small model\n",
        "- naturally, the validation loss does not improve at all over time"
      ]
    },
    {
      "cell_type": "markdown",
      "metadata": {
        "id": "eAVl3OYiHskM"
      },
      "source": [
        "**Fitting a MNIST model with randomly shuffled labels**"
      ]
    },
    {
      "cell_type": "code",
      "execution_count": 36,
      "metadata": {
        "id": "vnLwoi5dHskM"
      },
      "outputs": [],
      "source": [
        "(train_images, train_labels), _ = mnist.load_data()\n",
        "\n",
        "random_train_labels = train_labels[:]\n",
        "np.random.shuffle(random_train_labels)"
      ]
    },
    {
      "cell_type": "code",
      "source": [
        "plt.figure(figsize=(10, 10))\n",
        "\n",
        "for i in range(25):\n",
        "  plt.subplot(5, 5, i+1)\n",
        "  plt.xticks([])\n",
        "  plt.yticks([])\n",
        "  plt.grid(False)\n",
        "  plt.imshow(train_images[i], cmap=plt.cm.binary)\n",
        "  plt.xlabel(random_train_labels[i])\n",
        "\n",
        "plt.show()"
      ],
      "metadata": {
        "colab": {
          "base_uri": "https://localhost:8080/",
          "height": 589
        },
        "id": "BPAS6Gn2lVvP",
        "outputId": "796e78f2-468b-4fb0-b9f0-586975eb50af"
      },
      "execution_count": 37,
      "outputs": [
        {
          "output_type": "display_data",
          "data": {
            "text/plain": [
              "<Figure size 720x720 with 25 Axes>"
            ],
            "image/png": "[encoded data removed]"
          },
          "metadata": {}
        }
      ]
    },
    {
      "cell_type": "code",
      "source": [
        "train_images = train_images.reshape((60000, 28*28))\n",
        "train_images = train_images.astype(\"float32\") / 255"
      ],
      "metadata": {
        "id": "dsV2b37mljbV"
      },
      "execution_count": 38,
      "outputs": []
    },
    {
      "cell_type": "code",
      "source": [
        "model = get_model()\n",
        "\n",
        "model.fit(train_images, random_train_labels, epochs=10, \n",
        "          batch_size=128, validation_split = 0.2)"
      ],
      "metadata": {
        "colab": {
          "base_uri": "https://localhost:8080/"
        },
        "id": "QjaldMKVllPw",
        "outputId": "a662f8b6-32ce-4f9e-ef2f-eb121b613bc5"
      },
      "execution_count": 40,
      "outputs": [
        {
          "output_type": "stream",
          "name": "stdout",
          "text": [
            "Epoch 1/10\n",
            "375/375 [==============================] - 5s 11ms/step - loss: 2.3172 - accuracy: 0.1054 - val_loss: 2.3064 - val_accuracy: 0.1099\n",
            "Epoch 2/10\n",
            "375/375 [==============================] - 4s 11ms/step - loss: 2.2995 - accuracy: 0.1149 - val_loss: 2.3140 - val_accuracy: 0.1057\n",
            "Epoch 3/10\n",
            "375/375 [==============================] - 4s 11ms/step - loss: 2.2900 - accuracy: 0.1279 - val_loss: 2.3166 - val_accuracy: 0.0997\n",
            "Epoch 4/10\n",
            "375/375 [==============================] - 4s 12ms/step - loss: 2.2770 - accuracy: 0.1396 - val_loss: 2.3291 - val_accuracy: 0.0988\n",
            "Epoch 5/10\n",
            "375/375 [==============================] - 4s 12ms/step - loss: 2.2599 - accuracy: 0.1543 - val_loss: 2.3305 - val_accuracy: 0.0981\n",
            "Epoch 6/10\n",
            "375/375 [==============================] - 4s 12ms/step - loss: 2.2391 - accuracy: 0.1681 - val_loss: 2.3483 - val_accuracy: 0.1024\n",
            "Epoch 7/10\n",
            "375/375 [==============================] - 4s 11ms/step - loss: 2.2156 - accuracy: 0.1845 - val_loss: 2.3595 - val_accuracy: 0.1049\n",
            "Epoch 8/10\n",
            "375/375 [==============================] - 4s 11ms/step - loss: 2.1871 - accuracy: 0.1964 - val_loss: 2.3775 - val_accuracy: 0.1027\n",
            "Epoch 9/10\n",
            "375/375 [==============================] - 4s 11ms/step - loss: 2.1591 - accuracy: 0.2132 - val_loss: 2.3907 - val_accuracy: 0.1035\n",
            "Epoch 10/10\n",
            "375/375 [==============================] - 4s 11ms/step - loss: 2.1273 - accuracy: 0.2295 - val_loss: 2.4159 - val_accuracy: 0.1037\n"
          ]
        },
        {
          "output_type": "execute_result",
          "data": {
            "text/plain": [
              "<keras.callbacks.History at 0x7f5eaf7fc2d0>"
            ]
          },
          "metadata": {},
          "execution_count": 40
        }
      ]
    },
    {
      "cell_type": "markdown",
      "metadata": {
        "id": "qj0fzVrUHskN"
      },
      "source": [
        "#### The manifold hypothesis\n",
        "\n",
        "- how large is the space of 28 x 28 images with integer pixel values between 0 and 255?\n",
        "- very few of these inputs would look like valid MNIST samples\n",
        "- actual handwritten digits only occupy a tiny subspace of the parent space of all possible 28 × 28 `uint8` arrays\n",
        "this subspace is highly structured:\n",
        "  - it is continuous: if you take a sample and modify it a little, it will still be recognizable as the same handwritten digit\n",
        "  - all samples in the valid subspace are connected by smooth paths that run through the subspace. This means that if you take two random MNIST digits A and B, there exists a sequence of “intermediate” images that morph A into B, such that two consecutive digits are very close to each other\n",
        "\n",
        "\n",
        "- handwritten digits form a **manifold** within the space of possible 28 × 28 `uint8` arrays\n",
        "- A \"manifold\" is a lower-dimensional subspace of some parent space that is locally similar to a linear (Euclidean) space\n",
        "  - a smooth curve in the plane is a 1D manifold within a 2D space, because for every point of the curve, you can draw a tangent\n",
        "  - a smooth surface within a 3D space is a 2D manifold\n",
        "\n",
        "<img src=\"https://github.com/ambujtewari/stats315-winter2022/raw/main/images/MNIST_morphing.png\" width=\"500\">"
      ]
    },
    {
      "cell_type": "markdown",
      "source": [
        "\n",
        "**What is the manifold hypothesis?**\n",
        "\n",
        "_All natural data lies on a low-dimensional manifold within the high-dimensional space where it is encoded._\n",
        "\n",
        "- pretty strong statement about the structure of information in the universe\n",
        "- as far as we know, it's accurate (*), and it's the reason why deep learning works\n",
        "  - MNIST digits\n",
        "  - human faces\n",
        "  - tree morphology\n",
        "  - sounds of the human voice\n",
        "  - natural language\n",
        "\n",
        "The manifold hypothesis implies:\n",
        "- Machine learning models only have to fit relatively simple, low-dimensional, highly structured subspaces within their potential input space (latent manifolds).\n",
        "- Within one of these manifolds, it's always possible to *interpolate* between two inputs, that is to say, morph one into another via a continuous path along which all points fall on the manifold.\n",
        "- The ability to interpolate between samples is the key to understanding generalization in deep learning.\n",
        "\n",
        "`begin side note`\n",
        "\n",
        "(*) it is natural to wonder what is the empirical evidence in favor of the manifold hypothesis. there is theoretical work on testing the manifold hypothesis:\n",
        "\n",
        "[Testing the Manifold Hypothesis](https://arxiv.org/abs/1310.0425) by Charles Fefferman, Sanjoy Mitter, Hariharan Narayanan\n",
        "\n",
        "but don't know if anyone has actually tested the hypothesis on empirical data. possible undergraduate thesis topic here?\n",
        "\n",
        "`end side note`"
      ],
      "metadata": {
        "id": "t9Wbw07Zjis2"
      }
    },
    {
      "cell_type": "markdown",
      "metadata": {
        "id": "DcUmwSPTHskN"
      },
      "source": [
        "#### Interpolation as a source of generalization\n",
        "\n",
        "- if you have data points that can be interpolated, you can start making sense of points you've never seen before\n",
        "- you can relate new points to other points that lie close on the manifold\n",
        "- you can make sense of the totality of the space using only a sample of the space\n",
        "- you can use interpolation to fill in the blanks\n",
        "- interpolation on the latent manifold is different from linear interpolation in the parent space\n",
        "\n",
        "<img src=\"https://github.com/ambujtewari/stats315-winter2022/raw/main/images/manifold_interpolation.png\" width=\"500\">"
      ]
    },
    {
      "cell_type": "markdown",
      "metadata": {
        "id": "WZ78kQ9PHskN"
      },
      "source": [
        "#### Why deep learning works\n",
        "\n",
        "<img src=\"https://github.com/ambujtewari/stats315-winter2022/raw/main/images/why_deep_learning_works.png\" height=\"500\">"
      ]
    },
    {
      "cell_type": "markdown",
      "metadata": {
        "id": "KBJUpYhKHskN"
      },
      "source": [
        "#### Training data is paramount\n",
        "\n",
        "<img src=\"https://github.com/ambujtewari/stats315-winter2022/raw/main/images/training_data_paramount.png\" height=\"300\">\n",
        "\n",
        "- suppose getting more data isn't possible\n",
        "- the next best solution is to control model complexity\n",
        "- or to add constraints on the smoothness of the model curve\n",
        "- the process of fighting overfitting this way is called *regularization*\n",
        "- we will review regularization techniques soon\n",
        "- before you can start tweaking your model to help it generalize better, you'll need a way to assess how your model is currently doing\n",
        "- therefore we next look at _model evaluation_"
      ]
    },
    {
      "cell_type": "markdown",
      "metadata": {
        "id": "r4k2gfjAHskO"
      },
      "source": [
        "## Evaluating machine-learning models"
      ]
    },
    {
      "cell_type": "markdown",
      "metadata": {
        "id": "ul2JrZHMHskO"
      },
      "source": [
        "### Training, validation, and test sets\n",
        "\n",
        "\n",
        "- evaluating a model always boils down to splitting the available data into three sets: training, validation, and test\n",
        "- train on the training data and evaluate your model on the validation data\n",
        "- once your model is ready for prime time, you test it one final time on the test data, which is meant to be as similar as possible to production data\n",
        "- then you can deploy the model in production\n",
        "\n",
        "_Why not have two sets: a training set and a test set? You’d train on the training data and evaluate on the test data. Much simpler!_\n",
        "\n",
        "- developing a model always involves tuning its configuration:\n",
        "  - choosing the number of layers\n",
        "  - the size of the layers\n",
        "- these are called *hyperparameters* to distinguish them from the parameters (which are the network’s weights)\n",
        "- this tuning is done by using as a feedback signal the performance of the model on the validation data"
      ]
    },
    {
      "cell_type": "markdown",
      "metadata": {
        "id": "3t2jD0e1HskO"
      },
      "source": [
        "#### Simple hold-out validation\n",
        "\n",
        "<img src=\"https://github.com/ambujtewari/stats315-winter2022/raw/main/images/holdout_validation.png\" width=\"500\">"
      ]
    },
    {
      "cell_type": "markdown",
      "metadata": {
        "id": "E2KtzE85HskO"
      },
      "source": [
        "#### K-fold validation\n",
        "\n",
        "<img src=\"https://github.com/ambujtewari/stats315-winter2022/raw/main/images/K-fold_validation.png\" width=\"600\">"
      ]
    },
    {
      "cell_type": "markdown",
      "metadata": {
        "id": "SGHXUaDfHskO"
      },
      "source": [
        "#### Iterated K-fold validation with shuffling\n",
        "\n",
        "- this is for situations in which you have relatively little data available and you need to evaluate your model as precisely as possible\n",
        "- consists of applying K-fold validation multiple times\n",
        "- shuffle the data every time before splitting it `K` ways\n",
        "- final score is the average of the scores obtained at each run of K-fold validation\n",
        "- you end up training and evaluating `P * K` models (where `P` is the number of iterations you use), which can be very expensive."
      ]
    },
    {
      "cell_type": "markdown",
      "metadata": {
        "id": "LnoZjvEoHskO"
      },
      "source": [
        "### Beating a common-sense baseline\n",
        "\n",
        "Important to ensure yor trained network is doing better than some simple baseline\n",
        "\n",
        "- in the MNIST digit-classification example, a simple baseline would be a validation accuracy greater than 0.1 (random classifier)\n",
        "- in the IMDB example, it would be a validation accuracy greater than 0.5\n",
        "- **class imbalance**: you have a binary classification problem where 90% of samples belong to class A and 10% belong to class B\n",
        "  - a classifier that always predicts A already achieves 0.9 in validation accuracy\n",
        "  - you’ll need to do better than that"
      ]
    }
  ],
  "metadata": {
    "colab": {
      "collapsed_sections": [],
      "provenance": []
    },
    "kernelspec": {
      "display_name": "Python 3",
      "language": "python",
      "name": "python3"
    },
    "language_info": {
      "codemirror_mode": {
        "name": "ipython",
        "version": 3
      },
      "file_extension": ".py",
      "mimetype": "text/x-python",
      "name": "python",
      "nbconvert_exporter": "python",
      "pygments_lexer": "ipython3",
      "version": "3.7.0"
    }
  },
  "nbformat": 4,
  "nbformat_minor": 0
}